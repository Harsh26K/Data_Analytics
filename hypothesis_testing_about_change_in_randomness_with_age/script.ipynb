{
 "cells": [
  {
   "cell_type": "markdown",
   "metadata": {},
   "source": [
    " \n",
    "<p>\n",
    "Objective:\n",
    "    To verify that,\n",
    "    <strong>\"A person’s ability to be random peaks around 25 years old and declines after 60.\"</strong>\n",
    "</p>\n",
    "<p>Main Article:<a>https://pudding.cool/2022/04/random/</a></p>\n",
    "<p>The data taken from:<a>https://github.com/the-pudding/data/</a></P>\n"
   ]
  },
  {
   "cell_type": "code",
   "execution_count": null,
   "metadata": {},
   "outputs": [],
   "source": [
    "#import libraries\n",
    "import numpy as np\n",
    "import pandas as pd"
   ]
  },
  {
   "cell_type": "code",
   "execution_count": null,
   "metadata": {},
   "outputs": [],
   "source": [
    "#raw data\n",
    "jason_data = pd.read_json('raw.json')\n",
    "#to csv\n",
    "jason_data.to_csv('data.csv')"
   ]
  },
  {
   "cell_type": "markdown",
   "metadata": {},
   "source": [
    "##### Creating Structural Format"
   ]
  },
  {
   "cell_type": "code",
   "execution_count": null,
   "metadata": {},
   "outputs": [],
   "source": [
    "data = pd.read_csv('data.csv')"
   ]
  },
  {
   "cell_type": "code",
   "execution_count": null,
   "metadata": {},
   "outputs": [],
   "source": [
    "data2 = data.drop(['Unnamed: 0', 'updated'],axis=1)"
   ]
  },
  {
   "cell_type": "code",
   "execution_count": null,
   "metadata": {},
   "outputs": [],
   "source": [
    "data2"
   ]
  },
  {
   "cell_type": "code",
   "execution_count": null,
   "metadata": {},
   "outputs": [],
   "source": [
    "# Extracting important parts\n",
    "# data2['results'][0]\n",
    "# data2['results'][0].split(\",\")\n",
    "# data2['results'][0].split(\",\")[0]\n",
    "# data2['results'][0].split(\",\")[0].split(sep=\"'\")[1]\n",
    "# data2['results'][0].split(\",\")[0].split(sep=\"'\")[2]\n",
    "# int(data2['results'][0].split(\",\")[0].split(sep=\"'\")[2].split(\" \")[1])\n",
    "# data2['results'][1].split(\",\")[5].split(sep=\"'\")[2].split(\" \")[1][:-1]"
   ]
  },
  {
   "cell_type": "code",
   "execution_count": null,
   "metadata": {},
   "outputs": [],
   "source": [
    "# creating column lists using formaula given above\n",
    "ages = []\n",
    "scores = []\n",
    "scoreTosses =[]\n",
    "scoreRolls =[]\n",
    "scoreSpots =[]\n",
    "excludes =[]\n",
    "\n",
    "for result in data2['results']:\n",
    "    age = int(result.split(\",\")[0].split(sep=\"'\")[2].split(\" \")[1])\n",
    "    score = float(result.split(\",\")[1].split(sep=\"'\")[2].split(\" \")[1])\n",
    "    scoreToss = float(result.split(\",\")[2].split(sep=\"'\")[2].split(\" \")[1])\n",
    "    scoreRoll = result.split(\",\")[3].split(sep=\"'\")[2].split(\" \")[1]\n",
    "    scoreSpot = result.split(\",\")[4].split(sep=\"'\")[2].split(\" \")[1]\n",
    "    exclude = result.split(\",\")[5].split(sep=\"'\")[2].split(\" \")[1][:-1]\n",
    "    # print(f'age:{age},score:{score},scoreToss:{scoreToss},scoreRoll:{scoreRoll},scoreSpot:{scoreSpot},exclude:{exclude}')\n",
    "    ages.append(age)\n",
    "    scores.append(score)\n",
    "    scoreTosses.append(scoreToss)\n",
    "    scoreRolls.append(scoreRoll)\n",
    "    scoreSpots.append(scoreSpot)\n",
    "    excludes.append(exclude)"
   ]
  },
  {
   "cell_type": "code",
   "execution_count": null,
   "metadata": {},
   "outputs": [],
   "source": [
    "d= {'age':ages,'score':scores,'scoreToss':scoreTosses,'scoreRoll':scoreRolls,'scoreSpot':scoreSpots,'exclude':excludes}"
   ]
  },
  {
   "cell_type": "code",
   "execution_count": null,
   "metadata": {},
   "outputs": [],
   "source": [
    "d"
   ]
  },
  {
   "cell_type": "code",
   "execution_count": null,
   "metadata": {},
   "outputs": [],
   "source": [
    "df = pd.DataFrame(data=d)\n",
    "df"
   ]
  },
  {
   "cell_type": "code",
   "execution_count": null,
   "metadata": {},
   "outputs": [],
   "source": [
    "df.info()"
   ]
  },
  {
   "cell_type": "code",
   "execution_count": null,
   "metadata": {},
   "outputs": [],
   "source": [
    "df.to_excel('new_data.xlsx')\n",
    "df2 = df[df['exclude']=='False']\n",
    "df2.to_excel('refined.xlsx')"
   ]
  },
  {
   "cell_type": "markdown",
   "metadata": {},
   "source": [
    "##### Visualization"
   ]
  },
  {
   "cell_type": "code",
   "execution_count": null,
   "metadata": {},
   "outputs": [],
   "source": [
    "# import libraries\n",
    "import plotly.express as px\n",
    "import statsmodels.api as sm"
   ]
  },
  {
   "cell_type": "code",
   "execution_count": null,
   "metadata": {},
   "outputs": [],
   "source": [
    "# data with some questionable events\n",
    "df1 = pd.read_excel('new_data.xlsx')\n",
    "# data excluding questionable events\n",
    "df2 = pd.read_excel('refined.xlsx')"
   ]
  },
  {
   "cell_type": "code",
   "execution_count": null,
   "metadata": {},
   "outputs": [],
   "source": [
    "# df.info()\n",
    "# df1.shape\n",
    "# df2.shape"
   ]
  },
  {
   "cell_type": "code",
   "execution_count": null,
   "metadata": {},
   "outputs": [],
   "source": [
    "# converting object datatype to numeric\n",
    "df1['scoreRoll'] = pd.to_numeric(df1['scoreRoll'],errors='coerce')\n",
    "df1['scoreSpot'] = pd.to_numeric(df1['scoreSpot'],errors='coerce')"
   ]
  },
  {
   "cell_type": "code",
   "execution_count": null,
   "metadata": {},
   "outputs": [],
   "source": [
    "df2['scoreRoll'] = pd.to_numeric(df2['scoreRoll'],errors='coerce')\n",
    "df2['scoreSpot'] = pd.to_numeric(df2['scoreSpot'],errors='coerce')"
   ]
  },
  {
   "cell_type": "code",
   "execution_count": null,
   "metadata": {},
   "outputs": [],
   "source": [
    "#finding correaltion between age and score\n",
    "corrM = df1.corr()"
   ]
  },
  {
   "cell_type": "code",
   "execution_count": null,
   "metadata": {},
   "outputs": [],
   "source": [
    "corrM"
   ]
  },
  {
   "cell_type": "code",
   "execution_count": null,
   "metadata": {},
   "outputs": [],
   "source": [
    "fig = px.imshow(corrM)\n",
    "fig.show()"
   ]
  },
  {
   "cell_type": "code",
   "execution_count": null,
   "metadata": {},
   "outputs": [],
   "source": [
    "fig = px.scatter(df1,x='age',y='score',color='score',trendline='ols',trendline_color_override=\"blue\",title='Overall Randomness Score Vs Age')\n",
    "fig.show()"
   ]
  },
  {
   "cell_type": "code",
   "execution_count": null,
   "metadata": {},
   "outputs": [],
   "source": [
    "fig = px.scatter(df2,x='age',y='score',color='score',trendline='ols',trendline_color_override=\"blue\",title='Overall Randomness Score Vs Age')\n",
    "fig.show()"
   ]
  },
  {
   "cell_type": "code",
   "execution_count": null,
   "metadata": {},
   "outputs": [],
   "source": [
    "fig = px.scatter(df1,x='age',y='score',color='score',trendline='lowess',trendline_color_override=\"blue\",title='Overall Randomness Score Vs Age')\n",
    "fig.show()"
   ]
  },
  {
   "cell_type": "code",
   "execution_count": null,
   "metadata": {},
   "outputs": [],
   "source": [
    "fig = px.scatter(df2,x='age',y='score',color='score',trendline='lowess',trendline_color_override=\"blue\",title='Overall Randomness Score Vs Age')\n",
    "fig.show()"
   ]
  },
  {
   "cell_type": "code",
   "execution_count": null,
   "metadata": {},
   "outputs": [],
   "source": [
    "fig= px.scatter(df,x='age',y='scoreRoll',color='scoreRoll',trendline='ols',trendline_color_override=\"blue\",title='Dice Roll Randomness Vs Age')\n",
    "fig.show()"
   ]
  },
  {
   "cell_type": "code",
   "execution_count": null,
   "metadata": {},
   "outputs": [],
   "source": [
    "fig= px.scatter(df,x='age',y='scoreToss',color='scoreToss',trendline='ols',trendline_color_override=\"blue\",title=\"Coin toss randomness Vs Age\")\n",
    "fig.show()"
   ]
  },
  {
   "cell_type": "code",
   "execution_count": null,
   "metadata": {},
   "outputs": [],
   "source": [
    "fig= px.scatter(df,x='age',y='scoreSpot',color='scoreSpot', title=\"Spots Picking Randomness Vs Age\")\n",
    "fig.show()"
   ]
  },
  {
   "cell_type": "markdown",
   "metadata": {},
   "source": [
    "as you can see the heatmap shows close to zero correlation between age and randomness score.\n",
    "also, the trendline in all the graphs is a straight line. \n",
    "So, we can conclude that the randomness isn't related to the age."
   ]
  }
 ],
 "metadata": {
  "kernelspec": {
   "display_name": "Python 3.8.6 64-bit",
   "language": "python",
   "name": "python3"
  },
  "language_info": {
   "codemirror_mode": {
    "name": "ipython",
    "version": 3
   },
   "file_extension": ".py",
   "mimetype": "text/x-python",
   "name": "python",
   "nbconvert_exporter": "python",
   "pygments_lexer": "ipython3",
   "version": "3.8.6"
  },
  "orig_nbformat": 4,
  "vscode": {
   "interpreter": {
    "hash": "f10baa5b3d4a9dc3d5b34fbeebfe08e4928904525b5dad22aa919ba5b8f3b95e"
   }
  }
 },
 "nbformat": 4,
 "nbformat_minor": 2
}
