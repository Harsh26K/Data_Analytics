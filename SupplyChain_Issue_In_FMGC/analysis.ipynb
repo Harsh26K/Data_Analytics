{
 "cells": [
  {
   "cell_type": "code",
   "execution_count": 50,
   "metadata": {},
   "outputs": [],
   "source": [
    "import numpy as np\n",
    "import pandas as pd\n",
    "from datetime import datetime\n",
    "import matplotlib.pyplot as plt\n",
    "import seaborn as sns\n",
    "\n",
    "plt.style.use('seaborn-bright')\n",
    "plt.rcParams['text.color'] = 'white'\n",
    "sns.set_theme(style='whitegrid')\n",
    "\n",
    "import warnings\n",
    "warnings.filterwarnings('ignore')"
   ]
  },
  {
   "cell_type": "code",
   "execution_count": 2,
   "metadata": {},
   "outputs": [],
   "source": [
    "dim_customers = pd.read_csv('./Data/dim_customers.csv')\n",
    "dim_date = pd.read_csv('./Data/dim_date.csv')\n",
    "dim_products = pd.read_csv('./Data/dim_products.csv')\n",
    "dim_targets_orders = pd.read_csv('./Data/dim_targets_orders.csv')\n",
    "fact_order_lines = pd.read_csv('./Data/fact_order_lines.csv')\n",
    "fact_orders_aggregate = pd.read_csv('./Data/fact_orders_aggregate.csv')"
   ]
  },
  {
   "cell_type": "markdown",
   "metadata": {},
   "source": [
    "### data profiling"
   ]
  },
  {
   "cell_type": "markdown",
   "metadata": {},
   "source": [
    "#### dim_customers"
   ]
  },
  {
   "cell_type": "code",
   "execution_count": 3,
   "metadata": {},
   "outputs": [
    {
     "data": {
      "text/html": [
       "<div>\n",
       "<style scoped>\n",
       "    .dataframe tbody tr th:only-of-type {\n",
       "        vertical-align: middle;\n",
       "    }\n",
       "\n",
       "    .dataframe tbody tr th {\n",
       "        vertical-align: top;\n",
       "    }\n",
       "\n",
       "    .dataframe thead th {\n",
       "        text-align: right;\n",
       "    }\n",
       "</style>\n",
       "<table border=\"1\" class=\"dataframe\">\n",
       "  <thead>\n",
       "    <tr style=\"text-align: right;\">\n",
       "      <th></th>\n",
       "      <th>customer_id</th>\n",
       "      <th>customer_name</th>\n",
       "      <th>city</th>\n",
       "    </tr>\n",
       "  </thead>\n",
       "  <tbody>\n",
       "    <tr>\n",
       "      <th>0</th>\n",
       "      <td>789201</td>\n",
       "      <td>Rel Fresh</td>\n",
       "      <td>Surat</td>\n",
       "    </tr>\n",
       "    <tr>\n",
       "      <th>1</th>\n",
       "      <td>789202</td>\n",
       "      <td>Rel Fresh</td>\n",
       "      <td>Ahmedabad</td>\n",
       "    </tr>\n",
       "    <tr>\n",
       "      <th>2</th>\n",
       "      <td>789203</td>\n",
       "      <td>Rel Fresh</td>\n",
       "      <td>Vadodara</td>\n",
       "    </tr>\n",
       "    <tr>\n",
       "      <th>3</th>\n",
       "      <td>789301</td>\n",
       "      <td>Expression Stores</td>\n",
       "      <td>Surat</td>\n",
       "    </tr>\n",
       "    <tr>\n",
       "      <th>4</th>\n",
       "      <td>789303</td>\n",
       "      <td>Expression Stores</td>\n",
       "      <td>Vadodara</td>\n",
       "    </tr>\n",
       "  </tbody>\n",
       "</table>\n",
       "</div>"
      ],
      "text/plain": [
       "   customer_id      customer_name       city\n",
       "0       789201          Rel Fresh      Surat\n",
       "1       789202          Rel Fresh  Ahmedabad\n",
       "2       789203          Rel Fresh   Vadodara\n",
       "3       789301  Expression Stores      Surat\n",
       "4       789303  Expression Stores   Vadodara"
      ]
     },
     "execution_count": 3,
     "metadata": {},
     "output_type": "execute_result"
    }
   ],
   "source": [
    "dim_customers.head()"
   ]
  },
  {
   "cell_type": "code",
   "execution_count": 4,
   "metadata": {},
   "outputs": [
    {
     "name": "stdout",
     "output_type": "stream",
     "text": [
      "<class 'pandas.core.frame.DataFrame'>\n",
      "RangeIndex: 35 entries, 0 to 34\n",
      "Data columns (total 3 columns):\n",
      " #   Column         Non-Null Count  Dtype \n",
      "---  ------         --------------  ----- \n",
      " 0   customer_id    35 non-null     int64 \n",
      " 1   customer_name  35 non-null     object\n",
      " 2   city           35 non-null     object\n",
      "dtypes: int64(1), object(2)\n",
      "memory usage: 968.0+ bytes\n"
     ]
    }
   ],
   "source": [
    "dim_customers.info()"
   ]
  },
  {
   "cell_type": "markdown",
   "metadata": {},
   "source": [
    "No Null values are present."
   ]
  },
  {
   "cell_type": "code",
   "execution_count": 5,
   "metadata": {},
   "outputs": [
    {
     "data": {
      "text/plain": [
       "15"
      ]
     },
     "execution_count": 5,
     "metadata": {},
     "output_type": "execute_result"
    }
   ],
   "source": [
    "dim_customers.customer_name.nunique()"
   ]
  },
  {
   "cell_type": "code",
   "execution_count": 6,
   "metadata": {},
   "outputs": [
    {
     "data": {
      "text/plain": [
       "Rel Fresh            3\n",
       "Vijay Stores         3\n",
       "Propel Mart          3\n",
       "Lotus Mart           3\n",
       "Acclaimed Stores     3\n",
       "Expression Stores    2\n",
       "Coolblue             2\n",
       "Atlas Stores         2\n",
       "Chiptec Stores       2\n",
       "Viveks Stores        2\n",
       "Info Stores          2\n",
       "Sorefoz Mart         2\n",
       "Expert Mart          2\n",
       "Logic Stores         2\n",
       "Elite Mart           2\n",
       "Name: customer_name, dtype: int64"
      ]
     },
     "execution_count": 6,
     "metadata": {},
     "output_type": "execute_result"
    }
   ],
   "source": [
    "dim_customers.customer_name.value_counts()"
   ]
  },
  {
   "cell_type": "markdown",
   "metadata": {},
   "source": [
    "There are 15 customers of FMGC company.5 customers have branches in 2 other cities while 10 customers have branch in other city."
   ]
  },
  {
   "cell_type": "code",
   "execution_count": 7,
   "metadata": {},
   "outputs": [
    {
     "data": {
      "text/plain": [
       "Ahmedabad    12\n",
       "Vadodara     12\n",
       "Surat        11\n",
       "Name: city, dtype: int64"
      ]
     },
     "execution_count": 7,
     "metadata": {},
     "output_type": "execute_result"
    }
   ],
   "source": [
    "dim_customers.city.value_counts()"
   ]
  },
  {
   "cell_type": "markdown",
   "metadata": {},
   "source": [
    "customers are from 3 different cities."
   ]
  },
  {
   "cell_type": "markdown",
   "metadata": {},
   "source": [
    "#### dim_date"
   ]
  },
  {
   "cell_type": "code",
   "execution_count": 8,
   "metadata": {},
   "outputs": [
    {
     "data": {
      "text/html": [
       "<div>\n",
       "<style scoped>\n",
       "    .dataframe tbody tr th:only-of-type {\n",
       "        vertical-align: middle;\n",
       "    }\n",
       "\n",
       "    .dataframe tbody tr th {\n",
       "        vertical-align: top;\n",
       "    }\n",
       "\n",
       "    .dataframe thead th {\n",
       "        text-align: right;\n",
       "    }\n",
       "</style>\n",
       "<table border=\"1\" class=\"dataframe\">\n",
       "  <thead>\n",
       "    <tr style=\"text-align: right;\">\n",
       "      <th></th>\n",
       "      <th>date</th>\n",
       "      <th>mmm_yy</th>\n",
       "      <th>week_no</th>\n",
       "    </tr>\n",
       "  </thead>\n",
       "  <tbody>\n",
       "    <tr>\n",
       "      <th>0</th>\n",
       "      <td>01-Apr-22</td>\n",
       "      <td>01-Apr-22</td>\n",
       "      <td>W 14</td>\n",
       "    </tr>\n",
       "    <tr>\n",
       "      <th>1</th>\n",
       "      <td>03-Apr-22</td>\n",
       "      <td>01-Apr-22</td>\n",
       "      <td>W 15</td>\n",
       "    </tr>\n",
       "    <tr>\n",
       "      <th>2</th>\n",
       "      <td>04-Apr-22</td>\n",
       "      <td>01-Apr-22</td>\n",
       "      <td>W 15</td>\n",
       "    </tr>\n",
       "    <tr>\n",
       "      <th>3</th>\n",
       "      <td>05-Apr-22</td>\n",
       "      <td>01-Apr-22</td>\n",
       "      <td>W 15</td>\n",
       "    </tr>\n",
       "    <tr>\n",
       "      <th>4</th>\n",
       "      <td>06-Apr-22</td>\n",
       "      <td>01-Apr-22</td>\n",
       "      <td>W 15</td>\n",
       "    </tr>\n",
       "  </tbody>\n",
       "</table>\n",
       "</div>"
      ],
      "text/plain": [
       "        date     mmm_yy week_no\n",
       "0  01-Apr-22  01-Apr-22    W 14\n",
       "1  03-Apr-22  01-Apr-22    W 15\n",
       "2  04-Apr-22  01-Apr-22    W 15\n",
       "3  05-Apr-22  01-Apr-22    W 15\n",
       "4  06-Apr-22  01-Apr-22    W 15"
      ]
     },
     "execution_count": 8,
     "metadata": {},
     "output_type": "execute_result"
    }
   ],
   "source": [
    "dim_date.head()"
   ]
  },
  {
   "cell_type": "code",
   "execution_count": 9,
   "metadata": {},
   "outputs": [
    {
     "name": "stdout",
     "output_type": "stream",
     "text": [
      "<class 'pandas.core.frame.DataFrame'>\n",
      "RangeIndex: 183 entries, 0 to 182\n",
      "Data columns (total 3 columns):\n",
      " #   Column   Non-Null Count  Dtype \n",
      "---  ------   --------------  ----- \n",
      " 0   date     183 non-null    object\n",
      " 1   mmm_yy   183 non-null    object\n",
      " 2   week_no  183 non-null    object\n",
      "dtypes: object(3)\n",
      "memory usage: 4.4+ KB\n"
     ]
    }
   ],
   "source": [
    "dim_date.info()"
   ]
  },
  {
   "cell_type": "code",
   "execution_count": 10,
   "metadata": {},
   "outputs": [],
   "source": [
    "dim_date['date'] = pd.to_datetime(dim_date['date'],dayfirst=True,format='%d-%b-%y')\n",
    "dim_date['month'] = dim_date['date'].apply(lambda x: str(x.month))\n",
    "dim_date['year'] = dim_date['date'].apply(lambda x: str(x.year))"
   ]
  },
  {
   "cell_type": "code",
   "execution_count": 11,
   "metadata": {},
   "outputs": [],
   "source": [
    "dim_date['weekday'] = dim_date['date'].apply(lambda x:datetime.weekday(x))\n",
    "dim_date['weekday/weekend'] = ['weekday' if day<=4 else 'weekend' for day in dim_date['weekday']]"
   ]
  },
  {
   "cell_type": "code",
   "execution_count": 12,
   "metadata": {},
   "outputs": [
    {
     "data": {
      "text/html": [
       "<div>\n",
       "<style scoped>\n",
       "    .dataframe tbody tr th:only-of-type {\n",
       "        vertical-align: middle;\n",
       "    }\n",
       "\n",
       "    .dataframe tbody tr th {\n",
       "        vertical-align: top;\n",
       "    }\n",
       "\n",
       "    .dataframe thead th {\n",
       "        text-align: right;\n",
       "    }\n",
       "</style>\n",
       "<table border=\"1\" class=\"dataframe\">\n",
       "  <thead>\n",
       "    <tr style=\"text-align: right;\">\n",
       "      <th></th>\n",
       "      <th>date</th>\n",
       "      <th>mmm_yy</th>\n",
       "      <th>week_no</th>\n",
       "      <th>month</th>\n",
       "      <th>year</th>\n",
       "      <th>weekday</th>\n",
       "      <th>weekday/weekend</th>\n",
       "    </tr>\n",
       "  </thead>\n",
       "  <tbody>\n",
       "    <tr>\n",
       "      <th>0</th>\n",
       "      <td>2022-04-01</td>\n",
       "      <td>01-Apr-22</td>\n",
       "      <td>W 14</td>\n",
       "      <td>4</td>\n",
       "      <td>2022</td>\n",
       "      <td>4</td>\n",
       "      <td>weekday</td>\n",
       "    </tr>\n",
       "  </tbody>\n",
       "</table>\n",
       "</div>"
      ],
      "text/plain": [
       "        date     mmm_yy week_no month  year  weekday weekday/weekend\n",
       "0 2022-04-01  01-Apr-22    W 14     4  2022        4         weekday"
      ]
     },
     "execution_count": 12,
     "metadata": {},
     "output_type": "execute_result"
    }
   ],
   "source": [
    "dim_date.head(1)"
   ]
  },
  {
   "cell_type": "markdown",
   "metadata": {},
   "source": [
    "#### dim_products"
   ]
  },
  {
   "cell_type": "code",
   "execution_count": 13,
   "metadata": {},
   "outputs": [
    {
     "data": {
      "text/html": [
       "<div>\n",
       "<style scoped>\n",
       "    .dataframe tbody tr th:only-of-type {\n",
       "        vertical-align: middle;\n",
       "    }\n",
       "\n",
       "    .dataframe tbody tr th {\n",
       "        vertical-align: top;\n",
       "    }\n",
       "\n",
       "    .dataframe thead th {\n",
       "        text-align: right;\n",
       "    }\n",
       "</style>\n",
       "<table border=\"1\" class=\"dataframe\">\n",
       "  <thead>\n",
       "    <tr style=\"text-align: right;\">\n",
       "      <th></th>\n",
       "      <th>product_name</th>\n",
       "      <th>product_id</th>\n",
       "      <th>category</th>\n",
       "    </tr>\n",
       "  </thead>\n",
       "  <tbody>\n",
       "    <tr>\n",
       "      <th>0</th>\n",
       "      <td>AM Milk 500</td>\n",
       "      <td>25891101</td>\n",
       "      <td>Dairy</td>\n",
       "    </tr>\n",
       "    <tr>\n",
       "      <th>1</th>\n",
       "      <td>AM Milk 250</td>\n",
       "      <td>25891102</td>\n",
       "      <td>Dairy</td>\n",
       "    </tr>\n",
       "    <tr>\n",
       "      <th>2</th>\n",
       "      <td>AM Milk 100</td>\n",
       "      <td>25891103</td>\n",
       "      <td>Dairy</td>\n",
       "    </tr>\n",
       "    <tr>\n",
       "      <th>3</th>\n",
       "      <td>AM Butter 100</td>\n",
       "      <td>25891201</td>\n",
       "      <td>Dairy</td>\n",
       "    </tr>\n",
       "    <tr>\n",
       "      <th>4</th>\n",
       "      <td>AM Butter 250</td>\n",
       "      <td>25891202</td>\n",
       "      <td>Dairy</td>\n",
       "    </tr>\n",
       "  </tbody>\n",
       "</table>\n",
       "</div>"
      ],
      "text/plain": [
       "    product_name  product_id category\n",
       "0    AM Milk 500    25891101    Dairy\n",
       "1    AM Milk 250    25891102    Dairy\n",
       "2    AM Milk 100    25891103    Dairy\n",
       "3  AM Butter 100    25891201    Dairy\n",
       "4  AM Butter 250    25891202    Dairy"
      ]
     },
     "execution_count": 13,
     "metadata": {},
     "output_type": "execute_result"
    }
   ],
   "source": [
    "dim_products.head()"
   ]
  },
  {
   "cell_type": "code",
   "execution_count": 14,
   "metadata": {},
   "outputs": [
    {
     "name": "stdout",
     "output_type": "stream",
     "text": [
      "<class 'pandas.core.frame.DataFrame'>\n",
      "RangeIndex: 18 entries, 0 to 17\n",
      "Data columns (total 3 columns):\n",
      " #   Column        Non-Null Count  Dtype \n",
      "---  ------        --------------  ----- \n",
      " 0   product_name  18 non-null     object\n",
      " 1   product_id    18 non-null     int64 \n",
      " 2   category      18 non-null     object\n",
      "dtypes: int64(1), object(2)\n",
      "memory usage: 560.0+ bytes\n"
     ]
    }
   ],
   "source": [
    "dim_products.info()"
   ]
  },
  {
   "cell_type": "markdown",
   "metadata": {},
   "source": [
    "No Null values are present."
   ]
  },
  {
   "cell_type": "markdown",
   "metadata": {},
   "source": [
    "18 products are sold to various customers."
   ]
  },
  {
   "cell_type": "code",
   "execution_count": 15,
   "metadata": {},
   "outputs": [
    {
     "data": {
      "text/plain": [
       "array(['AM Milk 500', 'AM Milk 250', 'AM Milk 100', 'AM Butter 100',\n",
       "       'AM Butter 250', 'AM Butter 500', 'AM Ghee 250', 'AM Ghee 150',\n",
       "       'AM Ghee 100', 'AM Curd 250', 'AM Curd 100', 'AM Curd 50',\n",
       "       'AM Biscuits 750', 'AM Biscuits 500', 'AM Biscuits 250',\n",
       "       'AM Tea 500', 'AM Tea 250', 'AM Tea 100'], dtype=object)"
      ]
     },
     "execution_count": 15,
     "metadata": {},
     "output_type": "execute_result"
    }
   ],
   "source": [
    "dim_products.product_name.unique()"
   ]
  },
  {
   "cell_type": "code",
   "execution_count": 16,
   "metadata": {},
   "outputs": [
    {
     "data": {
      "text/plain": [
       "Dairy        12\n",
       "Food          3\n",
       "beverages     3\n",
       "Name: category, dtype: int64"
      ]
     },
     "execution_count": 16,
     "metadata": {},
     "output_type": "execute_result"
    }
   ],
   "source": [
    "dim_products.category.value_counts()"
   ]
  },
  {
   "cell_type": "markdown",
   "metadata": {},
   "source": [
    "FMGC distributes mostly Dairy products along with Food & Beverages."
   ]
  },
  {
   "cell_type": "markdown",
   "metadata": {},
   "source": [
    "#### dim_targets_orders"
   ]
  },
  {
   "cell_type": "code",
   "execution_count": 17,
   "metadata": {},
   "outputs": [
    {
     "data": {
      "text/html": [
       "<div>\n",
       "<style scoped>\n",
       "    .dataframe tbody tr th:only-of-type {\n",
       "        vertical-align: middle;\n",
       "    }\n",
       "\n",
       "    .dataframe tbody tr th {\n",
       "        vertical-align: top;\n",
       "    }\n",
       "\n",
       "    .dataframe thead th {\n",
       "        text-align: right;\n",
       "    }\n",
       "</style>\n",
       "<table border=\"1\" class=\"dataframe\">\n",
       "  <thead>\n",
       "    <tr style=\"text-align: right;\">\n",
       "      <th></th>\n",
       "      <th>customer_id</th>\n",
       "      <th>ontime_target%</th>\n",
       "      <th>infull_target%</th>\n",
       "      <th>otif_target%</th>\n",
       "    </tr>\n",
       "  </thead>\n",
       "  <tbody>\n",
       "    <tr>\n",
       "      <th>0</th>\n",
       "      <td>789201</td>\n",
       "      <td>87</td>\n",
       "      <td>81</td>\n",
       "      <td>70</td>\n",
       "    </tr>\n",
       "    <tr>\n",
       "      <th>1</th>\n",
       "      <td>789202</td>\n",
       "      <td>85</td>\n",
       "      <td>81</td>\n",
       "      <td>69</td>\n",
       "    </tr>\n",
       "    <tr>\n",
       "      <th>2</th>\n",
       "      <td>789203</td>\n",
       "      <td>92</td>\n",
       "      <td>76</td>\n",
       "      <td>70</td>\n",
       "    </tr>\n",
       "    <tr>\n",
       "      <th>3</th>\n",
       "      <td>789301</td>\n",
       "      <td>89</td>\n",
       "      <td>78</td>\n",
       "      <td>69</td>\n",
       "    </tr>\n",
       "    <tr>\n",
       "      <th>4</th>\n",
       "      <td>789303</td>\n",
       "      <td>88</td>\n",
       "      <td>78</td>\n",
       "      <td>69</td>\n",
       "    </tr>\n",
       "  </tbody>\n",
       "</table>\n",
       "</div>"
      ],
      "text/plain": [
       "   customer_id  ontime_target%  infull_target%  otif_target%\n",
       "0       789201              87              81            70\n",
       "1       789202              85              81            69\n",
       "2       789203              92              76            70\n",
       "3       789301              89              78            69\n",
       "4       789303              88              78            69"
      ]
     },
     "execution_count": 17,
     "metadata": {},
     "output_type": "execute_result"
    }
   ],
   "source": [
    "dim_targets_orders.head()"
   ]
  },
  {
   "cell_type": "code",
   "execution_count": 18,
   "metadata": {},
   "outputs": [
    {
     "name": "stdout",
     "output_type": "stream",
     "text": [
      "<class 'pandas.core.frame.DataFrame'>\n",
      "RangeIndex: 35 entries, 0 to 34\n",
      "Data columns (total 4 columns):\n",
      " #   Column          Non-Null Count  Dtype\n",
      "---  ------          --------------  -----\n",
      " 0   customer_id     35 non-null     int64\n",
      " 1   ontime_target%  35 non-null     int64\n",
      " 2   infull_target%  35 non-null     int64\n",
      " 3   otif_target%    35 non-null     int64\n",
      "dtypes: int64(4)\n",
      "memory usage: 1.2 KB\n"
     ]
    }
   ],
   "source": [
    "dim_targets_orders.info()"
   ]
  },
  {
   "cell_type": "markdown",
   "metadata": {},
   "source": [
    "No Null values are present."
   ]
  },
  {
   "cell_type": "code",
   "execution_count": 19,
   "metadata": {},
   "outputs": [
    {
     "name": "stdout",
     "output_type": "stream",
     "text": [
      "ambigious_rows: 0\n"
     ]
    }
   ],
   "source": [
    "# check if any of percent value is greater than 100 or less than 0\n",
    "cnt = 0\n",
    "for i in range(0,35):\n",
    "    if (dim_targets_orders['ontime_target%'][i] > 100) or (dim_targets_orders['ontime_target%'][i]<0):\n",
    "        cnt +=1\n",
    "    elif (dim_targets_orders['infull_target%'][i] > 100) or (dim_targets_orders['infull_target%'][i]<0):\n",
    "        cnt +=1\n",
    "    elif (dim_targets_orders['otif_target%'][i] > 100) or (dim_targets_orders['otif_target%'][i]<0):\n",
    "        cnt +=1\n",
    "\n",
    "print('ambigious_rows:',cnt)"
   ]
  },
  {
   "cell_type": "markdown",
   "metadata": {},
   "source": [
    "#### fact_order_lines"
   ]
  },
  {
   "cell_type": "code",
   "execution_count": 20,
   "metadata": {},
   "outputs": [
    {
     "data": {
      "text/html": [
       "<div>\n",
       "<style scoped>\n",
       "    .dataframe tbody tr th:only-of-type {\n",
       "        vertical-align: middle;\n",
       "    }\n",
       "\n",
       "    .dataframe tbody tr th {\n",
       "        vertical-align: top;\n",
       "    }\n",
       "\n",
       "    .dataframe thead th {\n",
       "        text-align: right;\n",
       "    }\n",
       "</style>\n",
       "<table border=\"1\" class=\"dataframe\">\n",
       "  <thead>\n",
       "    <tr style=\"text-align: right;\">\n",
       "      <th></th>\n",
       "      <th>order_id</th>\n",
       "      <th>order_placement_date</th>\n",
       "      <th>customer_id</th>\n",
       "      <th>product_id</th>\n",
       "      <th>order_qty</th>\n",
       "      <th>agreed_delivery_date</th>\n",
       "      <th>actual_delivery_date</th>\n",
       "      <th>delivery_qty</th>\n",
       "      <th>In Full</th>\n",
       "      <th>On Time</th>\n",
       "      <th>On Time In Full</th>\n",
       "    </tr>\n",
       "  </thead>\n",
       "  <tbody>\n",
       "    <tr>\n",
       "      <th>0</th>\n",
       "      <td>FMR34203601</td>\n",
       "      <td>Tuesday, March 1, 2022</td>\n",
       "      <td>789203</td>\n",
       "      <td>25891601</td>\n",
       "      <td>110</td>\n",
       "      <td>Friday, March 4, 2022</td>\n",
       "      <td>Friday, March 4, 2022</td>\n",
       "      <td>110</td>\n",
       "      <td>1</td>\n",
       "      <td>1</td>\n",
       "      <td>1</td>\n",
       "    </tr>\n",
       "    <tr>\n",
       "      <th>1</th>\n",
       "      <td>FMR32320302</td>\n",
       "      <td>Tuesday, March 1, 2022</td>\n",
       "      <td>789320</td>\n",
       "      <td>25891203</td>\n",
       "      <td>347</td>\n",
       "      <td>Wednesday, March 2, 2022</td>\n",
       "      <td>Wednesday, March 2, 2022</td>\n",
       "      <td>347</td>\n",
       "      <td>1</td>\n",
       "      <td>1</td>\n",
       "      <td>1</td>\n",
       "    </tr>\n",
       "    <tr>\n",
       "      <th>2</th>\n",
       "      <td>FMR33320501</td>\n",
       "      <td>Tuesday, March 1, 2022</td>\n",
       "      <td>789320</td>\n",
       "      <td>25891203</td>\n",
       "      <td>187</td>\n",
       "      <td>Thursday, March 3, 2022</td>\n",
       "      <td>Thursday, March 3, 2022</td>\n",
       "      <td>150</td>\n",
       "      <td>0</td>\n",
       "      <td>1</td>\n",
       "      <td>0</td>\n",
       "    </tr>\n",
       "    <tr>\n",
       "      <th>3</th>\n",
       "      <td>FMR34220601</td>\n",
       "      <td>Tuesday, March 1, 2022</td>\n",
       "      <td>789220</td>\n",
       "      <td>25891203</td>\n",
       "      <td>235</td>\n",
       "      <td>Friday, March 4, 2022</td>\n",
       "      <td>Friday, March 4, 2022</td>\n",
       "      <td>235</td>\n",
       "      <td>1</td>\n",
       "      <td>1</td>\n",
       "      <td>1</td>\n",
       "    </tr>\n",
       "    <tr>\n",
       "      <th>4</th>\n",
       "      <td>FMR33703603</td>\n",
       "      <td>Tuesday, March 1, 2022</td>\n",
       "      <td>789703</td>\n",
       "      <td>25891203</td>\n",
       "      <td>176</td>\n",
       "      <td>Thursday, March 3, 2022</td>\n",
       "      <td>Thursday, March 3, 2022</td>\n",
       "      <td>176</td>\n",
       "      <td>1</td>\n",
       "      <td>1</td>\n",
       "      <td>1</td>\n",
       "    </tr>\n",
       "  </tbody>\n",
       "</table>\n",
       "</div>"
      ],
      "text/plain": [
       "      order_id    order_placement_date  customer_id  product_id  order_qty  \\\n",
       "0  FMR34203601  Tuesday, March 1, 2022       789203    25891601        110   \n",
       "1  FMR32320302  Tuesday, March 1, 2022       789320    25891203        347   \n",
       "2  FMR33320501  Tuesday, March 1, 2022       789320    25891203        187   \n",
       "3  FMR34220601  Tuesday, March 1, 2022       789220    25891203        235   \n",
       "4  FMR33703603  Tuesday, March 1, 2022       789703    25891203        176   \n",
       "\n",
       "       agreed_delivery_date      actual_delivery_date  delivery_qty  In Full  \\\n",
       "0     Friday, March 4, 2022     Friday, March 4, 2022           110        1   \n",
       "1  Wednesday, March 2, 2022  Wednesday, March 2, 2022           347        1   \n",
       "2   Thursday, March 3, 2022   Thursday, March 3, 2022           150        0   \n",
       "3     Friday, March 4, 2022     Friday, March 4, 2022           235        1   \n",
       "4   Thursday, March 3, 2022   Thursday, March 3, 2022           176        1   \n",
       "\n",
       "   On Time  On Time In Full  \n",
       "0        1                1  \n",
       "1        1                1  \n",
       "2        1                0  \n",
       "3        1                1  \n",
       "4        1                1  "
      ]
     },
     "execution_count": 20,
     "metadata": {},
     "output_type": "execute_result"
    }
   ],
   "source": [
    "fact_order_lines.head()"
   ]
  },
  {
   "cell_type": "code",
   "execution_count": 21,
   "metadata": {},
   "outputs": [
    {
     "name": "stdout",
     "output_type": "stream",
     "text": [
      "<class 'pandas.core.frame.DataFrame'>\n",
      "RangeIndex: 57096 entries, 0 to 57095\n",
      "Data columns (total 11 columns):\n",
      " #   Column                Non-Null Count  Dtype \n",
      "---  ------                --------------  ----- \n",
      " 0   order_id              57096 non-null  object\n",
      " 1   order_placement_date  57096 non-null  object\n",
      " 2   customer_id           57096 non-null  int64 \n",
      " 3   product_id            57096 non-null  int64 \n",
      " 4   order_qty             57096 non-null  int64 \n",
      " 5   agreed_delivery_date  57096 non-null  object\n",
      " 6   actual_delivery_date  57096 non-null  object\n",
      " 7   delivery_qty          57096 non-null  int64 \n",
      " 8   In Full               57096 non-null  int64 \n",
      " 9   On Time               57096 non-null  int64 \n",
      " 10  On Time In Full       57096 non-null  int64 \n",
      "dtypes: int64(7), object(4)\n",
      "memory usage: 4.8+ MB\n"
     ]
    }
   ],
   "source": [
    "fact_order_lines.info()"
   ]
  },
  {
   "cell_type": "code",
   "execution_count": 22,
   "metadata": {},
   "outputs": [],
   "source": [
    "# check if any value other than 0 and 1 present in columns 'On Time In Full',\n",
    "# 'On Time' and 'In Full'."
   ]
  },
  {
   "cell_type": "code",
   "execution_count": 23,
   "metadata": {},
   "outputs": [
    {
     "data": {
      "text/plain": [
       "0    29716\n",
       "1    27380\n",
       "Name: On Time In Full, dtype: int64"
      ]
     },
     "execution_count": 23,
     "metadata": {},
     "output_type": "execute_result"
    }
   ],
   "source": [
    "fact_order_lines['On Time In Full'].value_counts()"
   ]
  },
  {
   "cell_type": "code",
   "execution_count": 24,
   "metadata": {},
   "outputs": [
    {
     "data": {
      "text/plain": [
       "1    40605\n",
       "0    16491\n",
       "Name: On Time, dtype: int64"
      ]
     },
     "execution_count": 24,
     "metadata": {},
     "output_type": "execute_result"
    }
   ],
   "source": [
    "fact_order_lines['On Time'].value_counts()"
   ]
  },
  {
   "cell_type": "code",
   "execution_count": 25,
   "metadata": {},
   "outputs": [
    {
     "data": {
      "text/plain": [
       "1    37661\n",
       "0    19435\n",
       "Name: In Full, dtype: int64"
      ]
     },
     "execution_count": 25,
     "metadata": {},
     "output_type": "execute_result"
    }
   ],
   "source": [
    "fact_order_lines['In Full'].value_counts()"
   ]
  },
  {
   "cell_type": "code",
   "execution_count": 26,
   "metadata": {},
   "outputs": [],
   "source": [
    "fact_order_lines['order_placement_date'] = pd.to_datetime(fact_order_lines['order_placement_date'],format='%A, %B %d, %Y')\n",
    "fact_order_lines['agreed_delivery_date'] = pd.to_datetime(fact_order_lines['agreed_delivery_date'],format='%A, %B %d, %Y')\n",
    "fact_order_lines['actual_delivery_date'] = pd.to_datetime(fact_order_lines['actual_delivery_date'],format='%A, %B %d, %Y')"
   ]
  },
  {
   "cell_type": "code",
   "execution_count": 27,
   "metadata": {},
   "outputs": [],
   "source": [
    "# Create a varible toc check if delivery date is leading or trailing with promised date.\n",
    "fact_order_lines['delivery_gap'] = fact_order_lines['actual_delivery_date'] - fact_order_lines['agreed_delivery_date']\n",
    "fact_order_lines['delivery_gap'] = [int(gap.days) for gap in fact_order_lines['delivery_gap']]"
   ]
  },
  {
   "cell_type": "code",
   "execution_count": 28,
   "metadata": {},
   "outputs": [
    {
     "name": "stdout",
     "output_type": "stream",
     "text": [
      "rows satisfying at least one condition: 57096\n"
     ]
    }
   ],
   "source": [
    "cnt = 0\n",
    "\n",
    "for i in range(0,57096):\n",
    "    # check if delivery date is before promised date i.e. on-time order\n",
    "    if fact_order_lines['delivery_gap'][i] <=0:\n",
    "        # delivered qty is same as ordered i.e. in-full order\n",
    "        # both conditions met so order is on-time in-full\n",
    "        # so if otif flag is 1 i.e. correct\n",
    "        if (fact_order_lines['order_qty'][i] == fact_order_lines['delivery_qty'][i]) and (fact_order_lines['On Time In Full'][i] ==1):\n",
    "            cnt +=1\n",
    "        else:\n",
    "        # order not in-full, so only 'On Time' flag should be 1\n",
    "            if fact_order_lines['On Time'][i] == 1:\n",
    "                cnt +=1\n",
    "    # if order not delivered on time\n",
    "    elif fact_order_lines['delivery_gap'][i] >0:\n",
    "    # But delivered in full, so only 'in full' flag should be 1 \n",
    "        if (fact_order_lines['order_qty'][i] == fact_order_lines['delivery_qty'][i]) and (fact_order_lines['In Full'][i] == 1):\n",
    "            cnt +=1\n",
    "    # order neither on-time nor in-full i.e. all flags are 0\n",
    "        elif (fact_order_lines['On Time In Full'][i] == 0) and (fact_order_lines['On Time'][i]==0) and (fact_order_lines['In Full'][i]==0):\n",
    "            cnt +=1\n",
    "\n",
    "print('rows satisfying at least one condition:',cnt)"
   ]
  },
  {
   "cell_type": "markdown",
   "metadata": {},
   "source": [
    "#### fact_orders_aggregate"
   ]
  },
  {
   "cell_type": "code",
   "execution_count": 29,
   "metadata": {},
   "outputs": [
    {
     "name": "stdout",
     "output_type": "stream",
     "text": [
      "<class 'pandas.core.frame.DataFrame'>\n",
      "RangeIndex: 31729 entries, 0 to 31728\n",
      "Data columns (total 6 columns):\n",
      " #   Column                Non-Null Count  Dtype \n",
      "---  ------                --------------  ----- \n",
      " 0   order_id              31729 non-null  object\n",
      " 1   customer_id           31729 non-null  int64 \n",
      " 2   order_placement_date  31729 non-null  object\n",
      " 3   on_time               31729 non-null  int64 \n",
      " 4   in_full               31729 non-null  int64 \n",
      " 5   otif                  31729 non-null  int64 \n",
      "dtypes: int64(4), object(2)\n",
      "memory usage: 1.5+ MB\n"
     ]
    }
   ],
   "source": [
    "fact_orders_aggregate.info()"
   ]
  },
  {
   "cell_type": "markdown",
   "metadata": {},
   "source": [
    "No null values are present in any table."
   ]
  },
  {
   "cell_type": "code",
   "execution_count": 30,
   "metadata": {},
   "outputs": [],
   "source": [
    "# check if values in columns 'otif','on_time' and 'in_full' are other than 0 and 1."
   ]
  },
  {
   "cell_type": "code",
   "execution_count": 31,
   "metadata": {},
   "outputs": [
    {
     "data": {
      "text/plain": [
       "0    22521\n",
       "1     9208\n",
       "Name: otif, dtype: int64"
      ]
     },
     "execution_count": 31,
     "metadata": {},
     "output_type": "execute_result"
    }
   ],
   "source": [
    "fact_orders_aggregate['otif'].value_counts()"
   ]
  },
  {
   "cell_type": "code",
   "execution_count": 32,
   "metadata": {},
   "outputs": [
    {
     "data": {
      "text/plain": [
       "1    18730\n",
       "0    12999\n",
       "Name: on_time, dtype: int64"
      ]
     },
     "execution_count": 32,
     "metadata": {},
     "output_type": "execute_result"
    }
   ],
   "source": [
    "fact_orders_aggregate['on_time'].value_counts()"
   ]
  },
  {
   "cell_type": "code",
   "execution_count": 33,
   "metadata": {},
   "outputs": [
    {
     "data": {
      "text/plain": [
       "1    16747\n",
       "0    14982\n",
       "Name: in_full, dtype: int64"
      ]
     },
     "execution_count": 33,
     "metadata": {},
     "output_type": "execute_result"
    }
   ],
   "source": [
    "fact_orders_aggregate['in_full'].value_counts()"
   ]
  },
  {
   "cell_type": "code",
   "execution_count": 34,
   "metadata": {},
   "outputs": [
    {
     "name": "stdout",
     "output_type": "stream",
     "text": [
      "ambigious rows: 0\n",
      "[]\n"
     ]
    }
   ],
   "source": [
    "# check if below conditions are not satisfied in any row\n",
    "# 1. order is neither on-time nor in-full i.e all flags are zero i.e sum=0\n",
    "# 2. order is either on-time or in-full i.e. only one flag is one i.e. sum=1\n",
    "# 3. order is both on-time and in-full i.e. all flags are one i.e. sum=3\n",
    "# if not, the entry is ambigious when sum =2\n",
    "ambigious_rows_count = 0\n",
    "ambigious_rows = []\n",
    "\n",
    "for i in range(0,31729):\n",
    "    if (fact_orders_aggregate['otif'][i] + fact_orders_aggregate['on_time'][i] + fact_orders_aggregate['in_full'][i]) == 2:\n",
    "        ambigious_rows_count +=1\n",
    "        ambigious_rows.append(i)\n",
    "\n",
    "print('ambigious rows:',ambigious_rows_count)\n",
    "print(ambigious_rows)"
   ]
  },
  {
   "cell_type": "markdown",
   "metadata": {},
   "source": [
    "### data analysis"
   ]
  },
  {
   "cell_type": "code",
   "execution_count": 35,
   "metadata": {},
   "outputs": [],
   "source": [
    "# cutomers + products + order_lines\n",
    "df1 = fact_order_lines.merge(\n",
    "            dim_date,\n",
    "            left_on='order_placement_date',\n",
    "            right_on = 'date',\n",
    "            how = 'left'\n",
    "        ).merge(\n",
    "            dim_customers,\n",
    "            on = 'customer_id',\n",
    "            how='left'\n",
    "        ).merge(\n",
    "            dim_products,\n",
    "            on= 'product_id',\n",
    "            how = 'left'\n",
    "        )"
   ]
  },
  {
   "cell_type": "code",
   "execution_count": 42,
   "metadata": {},
   "outputs": [
    {
     "data": {
      "text/html": [
       "<div>\n",
       "<style scoped>\n",
       "    .dataframe tbody tr th:only-of-type {\n",
       "        vertical-align: middle;\n",
       "    }\n",
       "\n",
       "    .dataframe tbody tr th {\n",
       "        vertical-align: top;\n",
       "    }\n",
       "\n",
       "    .dataframe thead th {\n",
       "        text-align: right;\n",
       "    }\n",
       "</style>\n",
       "<table border=\"1\" class=\"dataframe\">\n",
       "  <thead>\n",
       "    <tr style=\"text-align: right;\">\n",
       "      <th></th>\n",
       "      <th>order_id</th>\n",
       "      <th>order_placement_date</th>\n",
       "      <th>customer_id</th>\n",
       "      <th>product_id</th>\n",
       "      <th>order_qty</th>\n",
       "      <th>agreed_delivery_date</th>\n",
       "      <th>actual_delivery_date</th>\n",
       "      <th>delivery_qty</th>\n",
       "      <th>In Full</th>\n",
       "      <th>On Time</th>\n",
       "      <th>...</th>\n",
       "      <th>mmm_yy</th>\n",
       "      <th>week_no</th>\n",
       "      <th>month</th>\n",
       "      <th>year</th>\n",
       "      <th>weekday</th>\n",
       "      <th>weekday/weekend</th>\n",
       "      <th>customer_name</th>\n",
       "      <th>city</th>\n",
       "      <th>product_name</th>\n",
       "      <th>category</th>\n",
       "    </tr>\n",
       "  </thead>\n",
       "  <tbody>\n",
       "    <tr>\n",
       "      <th>0</th>\n",
       "      <td>FMR34203601</td>\n",
       "      <td>2022-03-01</td>\n",
       "      <td>789203</td>\n",
       "      <td>25891601</td>\n",
       "      <td>110</td>\n",
       "      <td>2022-03-04</td>\n",
       "      <td>2022-03-04</td>\n",
       "      <td>110</td>\n",
       "      <td>1</td>\n",
       "      <td>1</td>\n",
       "      <td>...</td>\n",
       "      <td>01-Mar-22</td>\n",
       "      <td>W 10</td>\n",
       "      <td>3</td>\n",
       "      <td>2022</td>\n",
       "      <td>1</td>\n",
       "      <td>weekday</td>\n",
       "      <td>Rel Fresh</td>\n",
       "      <td>Vadodara</td>\n",
       "      <td>AM Tea 500</td>\n",
       "      <td>beverages</td>\n",
       "    </tr>\n",
       "    <tr>\n",
       "      <th>1</th>\n",
       "      <td>FMR32320302</td>\n",
       "      <td>2022-03-01</td>\n",
       "      <td>789320</td>\n",
       "      <td>25891203</td>\n",
       "      <td>347</td>\n",
       "      <td>2022-03-02</td>\n",
       "      <td>2022-03-02</td>\n",
       "      <td>347</td>\n",
       "      <td>1</td>\n",
       "      <td>1</td>\n",
       "      <td>...</td>\n",
       "      <td>01-Mar-22</td>\n",
       "      <td>W 10</td>\n",
       "      <td>3</td>\n",
       "      <td>2022</td>\n",
       "      <td>1</td>\n",
       "      <td>weekday</td>\n",
       "      <td>Chiptec Stores</td>\n",
       "      <td>Surat</td>\n",
       "      <td>AM Butter 500</td>\n",
       "      <td>Dairy</td>\n",
       "    </tr>\n",
       "  </tbody>\n",
       "</table>\n",
       "<p>2 rows × 23 columns</p>\n",
       "</div>"
      ],
      "text/plain": [
       "      order_id order_placement_date  customer_id  product_id  order_qty  \\\n",
       "0  FMR34203601           2022-03-01       789203    25891601        110   \n",
       "1  FMR32320302           2022-03-01       789320    25891203        347   \n",
       "\n",
       "  agreed_delivery_date actual_delivery_date  delivery_qty  In Full  On Time  \\\n",
       "0           2022-03-04           2022-03-04           110        1        1   \n",
       "1           2022-03-02           2022-03-02           347        1        1   \n",
       "\n",
       "   ...     mmm_yy  week_no month  year weekday weekday/weekend  \\\n",
       "0  ...  01-Mar-22     W 10     3  2022       1         weekday   \n",
       "1  ...  01-Mar-22     W 10     3  2022       1         weekday   \n",
       "\n",
       "    customer_name      city   product_name   category  \n",
       "0       Rel Fresh  Vadodara     AM Tea 500  beverages  \n",
       "1  Chiptec Stores     Surat  AM Butter 500      Dairy  \n",
       "\n",
       "[2 rows x 23 columns]"
      ]
     },
     "execution_count": 42,
     "metadata": {},
     "output_type": "execute_result"
    }
   ],
   "source": [
    "df1.head(2)"
   ]
  },
  {
   "cell_type": "code",
   "execution_count": 36,
   "metadata": {},
   "outputs": [
    {
     "data": {
      "text/html": [
       "<div>\n",
       "<style scoped>\n",
       "    .dataframe tbody tr th:only-of-type {\n",
       "        vertical-align: middle;\n",
       "    }\n",
       "\n",
       "    .dataframe tbody tr th {\n",
       "        vertical-align: top;\n",
       "    }\n",
       "\n",
       "    .dataframe thead th {\n",
       "        text-align: right;\n",
       "    }\n",
       "</style>\n",
       "<table border=\"1\" class=\"dataframe\">\n",
       "  <thead>\n",
       "    <tr style=\"text-align: right;\">\n",
       "      <th></th>\n",
       "      <th>customer_id</th>\n",
       "      <th>otif</th>\n",
       "      <th>on_time</th>\n",
       "      <th>in_full</th>\n",
       "      <th>total_orders</th>\n",
       "      <th>otif%</th>\n",
       "      <th>on_time%</th>\n",
       "      <th>in_full%</th>\n",
       "      <th>ontime_target%</th>\n",
       "      <th>infull_target%</th>\n",
       "      <th>otif_target%</th>\n",
       "      <th>customer_name</th>\n",
       "      <th>city</th>\n",
       "    </tr>\n",
       "  </thead>\n",
       "  <tbody>\n",
       "    <tr>\n",
       "      <th>0</th>\n",
       "      <td>789101</td>\n",
       "      <td>313</td>\n",
       "      <td>596</td>\n",
       "      <td>479</td>\n",
       "      <td>1388</td>\n",
       "      <td>23</td>\n",
       "      <td>43</td>\n",
       "      <td>35</td>\n",
       "      <td>86</td>\n",
       "      <td>80</td>\n",
       "      <td>69</td>\n",
       "      <td>Vijay Stores</td>\n",
       "      <td>Surat</td>\n",
       "    </tr>\n",
       "    <tr>\n",
       "      <th>1</th>\n",
       "      <td>789102</td>\n",
       "      <td>299</td>\n",
       "      <td>581</td>\n",
       "      <td>485</td>\n",
       "      <td>1365</td>\n",
       "      <td>22</td>\n",
       "      <td>43</td>\n",
       "      <td>36</td>\n",
       "      <td>90</td>\n",
       "      <td>81</td>\n",
       "      <td>73</td>\n",
       "      <td>Vijay Stores</td>\n",
       "      <td>Ahmedabad</td>\n",
       "    </tr>\n",
       "  </tbody>\n",
       "</table>\n",
       "</div>"
      ],
      "text/plain": [
       "   customer_id  otif  on_time  in_full  total_orders  otif%  on_time%  \\\n",
       "0       789101   313      596      479          1388     23        43   \n",
       "1       789102   299      581      485          1365     22        43   \n",
       "\n",
       "   in_full%  ontime_target%  infull_target%  otif_target% customer_name  \\\n",
       "0        35              86              80            69  Vijay Stores   \n",
       "1        36              90              81            73  Vijay Stores   \n",
       "\n",
       "        city  \n",
       "0      Surat  \n",
       "1  Ahmedabad  "
      ]
     },
     "execution_count": 36,
     "metadata": {},
     "output_type": "execute_result"
    }
   ],
   "source": [
    "# dataframe for OT,IF,OTIF performance for each customer\n",
    "df = fact_orders_aggregate.groupby('customer_id')[['otif','on_time','in_full']].sum().reset_index()\n",
    "df['total_orders'] = df['otif'] + df['on_time'] + df['in_full']\n",
    "df['otif%'] = np.round(df['otif']*100/df['total_orders'],0).astype(int)\n",
    "df['on_time%'] = np.round(df['on_time']*100/df['total_orders'],0).astype(int)\n",
    "df['in_full%'] = np.round(df['in_full']*100/df['total_orders'],0).astype(int)\n",
    "\n",
    "# merging with target performance dataframe and customers dataframe\n",
    "df2 = df.merge(\n",
    "    dim_targets_orders,\n",
    "    on = 'customer_id',\n",
    "    how='left'\n",
    ").merge(\n",
    "    dim_customers,\n",
    "    on = 'customer_id',\n",
    "    how='left'\n",
    ") \n",
    "df2.head(2)"
   ]
  },
  {
   "cell_type": "markdown",
   "metadata": {},
   "source": [
    "##### Q1. overall metrics"
   ]
  },
  {
   "cell_type": "code",
   "execution_count": 37,
   "metadata": {},
   "outputs": [
    {
     "name": "stdout",
     "output_type": "stream",
     "text": [
      "Total Orders: 31729\n",
      "Total ordered Qty: 13426936\n",
      "Total qty delivered: 12969157\n",
      "Overall Avg. delivery gap: 0.4241978422306291\n",
      "Overall OTIF% : 29.02076964291342\n",
      "Overall OT% : 59.03117022282454\n",
      "Overall IF% : 52.78136720350468\n"
     ]
    }
   ],
   "source": [
    "# Total Orders are total data in fact_orderd_aggregate\n",
    "total_orders = fact_orders_aggregate.shape[0]\n",
    "\n",
    "# Total Qty ordered\n",
    "total_qty_ordered = fact_order_lines['order_qty'].sum()\n",
    "\n",
    "# Total Qty delivered\n",
    "total_qty_delivered = fact_order_lines['delivery_qty'].sum()\n",
    "\n",
    "# Total Avg. delivery_gap\n",
    "Overall_avg_delivery_gap  = fact_order_lines['delivery_gap'].mean()\n",
    "\n",
    "# Total OTIF%\n",
    "Overall_OTIF_perc = fact_orders_aggregate['otif'].sum()*100/total_orders\n",
    "\n",
    "# Total OT%\n",
    "Overall_OT_perc = fact_orders_aggregate['on_time'].sum()*100/total_orders\n",
    "\n",
    "# Total IF%\n",
    "Overall_IF_perc = fact_orders_aggregate['in_full'].sum()*100/total_orders\n",
    "\n",
    "print('Total Orders:',total_orders)\n",
    "print('Total ordered Qty:',total_qty_ordered)\n",
    "print('Total qty delivered:',total_qty_delivered)\n",
    "print('Overall Avg. delivery gap:',Overall_avg_delivery_gap)\n",
    "print('Overall OTIF% :',Overall_OTIF_perc)\n",
    "print('Overall OT% :',Overall_OT_perc)\n",
    "print('Overall IF% :',Overall_IF_perc)"
   ]
  },
  {
   "cell_type": "markdown",
   "metadata": {},
   "source": [
    "##### Q2. Weekend V/S Weekdays "
   ]
  },
  {
   "cell_type": "code",
   "execution_count": 38,
   "metadata": {},
   "outputs": [
    {
     "data": {
      "text/plain": [
       "weekday    40757\n",
       "weekend    16339\n",
       "Name: weekday/weekend, dtype: int64"
      ]
     },
     "execution_count": 38,
     "metadata": {},
     "output_type": "execute_result"
    }
   ],
   "source": [
    "df1['weekday/weekend'].value_counts()"
   ]
  },
  {
   "cell_type": "code",
   "execution_count": 39,
   "metadata": {},
   "outputs": [
    {
     "data": {
      "text/plain": [
       "Text(0.5, 1.0, 'Total Orders : Weekday v/s Weekend')"
      ]
     },
     "execution_count": 39,
     "metadata": {},
     "output_type": "execute_result"
    },
    {
     "data": {
      "image/png": "[encoded data removed]",
      "text/plain": [
       "<Figure size 432x288 with 1 Axes>"
      ]
     },
     "metadata": {},
     "output_type": "display_data"
    }
   ],
   "source": [
    "plt.pie(x = df1['weekday/weekend'].value_counts(),\n",
    "        labels = df1['weekday/weekend'].value_counts().index,\n",
    "        autopct = '%.2f'\n",
    "    )\n",
    "plt.title('Total Orders : Weekday v/s Weekend',fontweight='bold')"
   ]
  },
  {
   "cell_type": "markdown",
   "metadata": {},
   "source": [
    "##### Q3. Performace By Products"
   ]
  },
  {
   "cell_type": "code",
   "execution_count": 44,
   "metadata": {},
   "outputs": [
    {
     "data": {
      "text/html": [
       "<div>\n",
       "<style scoped>\n",
       "    .dataframe tbody tr th:only-of-type {\n",
       "        vertical-align: middle;\n",
       "    }\n",
       "\n",
       "    .dataframe tbody tr th {\n",
       "        vertical-align: top;\n",
       "    }\n",
       "\n",
       "    .dataframe thead th {\n",
       "        text-align: right;\n",
       "    }\n",
       "</style>\n",
       "<table border=\"1\" class=\"dataframe\">\n",
       "  <thead>\n",
       "    <tr style=\"text-align: right;\">\n",
       "      <th></th>\n",
       "      <th>product_name</th>\n",
       "      <th>qty_type</th>\n",
       "      <th>qty</th>\n",
       "    </tr>\n",
       "  </thead>\n",
       "  <tbody>\n",
       "    <tr>\n",
       "      <th>0</th>\n",
       "      <td>AM Biscuits 250</td>\n",
       "      <td>order_qty</td>\n",
       "      <td>563366</td>\n",
       "    </tr>\n",
       "    <tr>\n",
       "      <th>1</th>\n",
       "      <td>AM Biscuits 500</td>\n",
       "      <td>order_qty</td>\n",
       "      <td>558119</td>\n",
       "    </tr>\n",
       "  </tbody>\n",
       "</table>\n",
       "</div>"
      ],
      "text/plain": [
       "      product_name   qty_type     qty\n",
       "0  AM Biscuits 250  order_qty  563366\n",
       "1  AM Biscuits 500  order_qty  558119"
      ]
     },
     "execution_count": 44,
     "metadata": {},
     "output_type": "execute_result"
    }
   ],
   "source": [
    "df = df1.groupby('product_name')[['order_qty','delivery_qty']].sum().reset_index()\n",
    "df = pd.melt(\n",
    "    df,\n",
    "    id_vars = 'product_name',\n",
    "    value_vars = ['order_qty','delivery_qty'],\n",
    "    var_name = 'qty_type',\n",
    "    value_name = 'qty'\n",
    "    )\n",
    "df.head(2)"
   ]
  },
  {
   "cell_type": "code",
   "execution_count": 55,
   "metadata": {},
   "outputs": [
    {
     "data": {
      "text/plain": [
       "Text(0, 0.5, 'Quantity')"
      ]
     },
     "execution_count": 55,
     "metadata": {},
     "output_type": "execute_result"
    },
    {
     "data": {
      "image/png": "[encoded data removed]",
      "text/plain": [
       "<Figure size 2160x1080 with 1 Axes>"
      ]
     },
     "metadata": {},
     "output_type": "display_data"
    }
   ],
   "source": [
    "plt.figure(figsize=(30,15))\n",
    "sns.barplot(\n",
    "    data = df,\n",
    "    x = 'product_name',\n",
    "    y = 'qty',\n",
    "    hue = 'qty_type'\n",
    ")\n",
    "plt.title('Ordered Qty V/s Delivered Qty',fontsize=30,fontweight='bold')\n",
    "plt.xlabel(xlabel = 'product_name',fontsize=20,fontweight='bold')\n",
    "plt.ylabel(ylabel = 'Quantity',fontsize=20,fontweight='bold')"
   ]
  },
  {
   "cell_type": "markdown",
   "metadata": {},
   "source": [
    "##### Q4. Performance by Category"
   ]
  },
  {
   "cell_type": "code",
   "execution_count": 58,
   "metadata": {},
   "outputs": [
    {
     "data": {
      "text/html": [
       "<div>\n",
       "<style scoped>\n",
       "    .dataframe tbody tr th:only-of-type {\n",
       "        vertical-align: middle;\n",
       "    }\n",
       "\n",
       "    .dataframe tbody tr th {\n",
       "        vertical-align: top;\n",
       "    }\n",
       "\n",
       "    .dataframe thead th {\n",
       "        text-align: right;\n",
       "    }\n",
       "</style>\n",
       "<table border=\"1\" class=\"dataframe\">\n",
       "  <thead>\n",
       "    <tr style=\"text-align: right;\">\n",
       "      <th></th>\n",
       "      <th>category</th>\n",
       "      <th>order_qty</th>\n",
       "      <th>delivery_qty</th>\n",
       "      <th>order_fill_perc</th>\n",
       "    </tr>\n",
       "  </thead>\n",
       "  <tbody>\n",
       "    <tr>\n",
       "      <th>0</th>\n",
       "      <td>Dairy</td>\n",
       "      <td>10564711</td>\n",
       "      <td>10204241</td>\n",
       "      <td>96.58798</td>\n",
       "    </tr>\n",
       "  </tbody>\n",
       "</table>\n",
       "</div>"
      ],
      "text/plain": [
       "  category  order_qty  delivery_qty  order_fill_perc\n",
       "0    Dairy   10564711      10204241         96.58798"
      ]
     },
     "execution_count": 58,
     "metadata": {},
     "output_type": "execute_result"
    }
   ],
   "source": [
    "df = df1.groupby('category')[['order_qty','delivery_qty']].sum().reset_index()\n",
    "df['order_fill_perc'] = df['delivery_qty']*100/df['order_qty']\n",
    "df.head(1)"
   ]
  },
  {
   "cell_type": "code",
   "execution_count": 73,
   "metadata": {},
   "outputs": [
    {
     "data": {
      "text/plain": [
       "[]"
      ]
     },
     "execution_count": 73,
     "metadata": {},
     "output_type": "execute_result"
    },
    {
     "data": {
      "image/png": "[encoded data removed]",
      "text/plain": [
       "<Figure size 2160x720 with 3 Axes>"
      ]
     },
     "metadata": {},
     "output_type": "display_data"
    }
   ],
   "source": [
    "fig,(ax1,ax2,ax3) = plt.subplots(1,3,figsize=(30,10),sharey=True)\n",
    "\n",
    "# ax1 = plt.plot(\n",
    "#     x = df['order_qty'],\n",
    "#     labels = df['category'],\n",
    "#     autopct = '%.2f'\n",
    "# )\n",
    "\n",
    "# ax2 = plt.pie(\n",
    "#     x = df['delivery_qty'],\n",
    "#     labels = df['category'],\n",
    "#     autopct = '%.2f'\n",
    "# )\n",
    "sns.barplot(\n",
    "    x = df['order_qty'],\n",
    "    y = df['category'],\n",
    "    orient = 'h',\n",
    "    ax=ax1\n",
    ")\n",
    "\n",
    "sns.barplot(\n",
    "    x = df['delivery_qty'],\n",
    "    y = df['category'],\n",
    "    orient = 'h',\n",
    "    ax=ax2\n",
    ")\n",
    "\n",
    "sns.barplot(\n",
    "    x = df['order_fill_perc'],\n",
    "    y = df['category'],\n",
    "    orient = 'h',\n",
    "    ax=ax3\n",
    ")\n",
    "\n",
    "ax1.set_title('Ordered qty for category',fontsize=15,fontweight='bold')\n",
    "ax2.set_title('delivered qty for category',fontsize=15,fontweight='bold')\n",
    "ax3.set_title('order fill perc by category',fontsize=15,fontweight='bold')\n",
    "\n",
    "plt.suptitle('Perform Analysis By Category',fontsize=30,fontweight='bold')\n",
    "plt.plot()"
   ]
  },
  {
   "cell_type": "markdown",
   "metadata": {},
   "source": [
    "##### Q5. Performance by city"
   ]
  },
  {
   "cell_type": "code",
   "execution_count": 74,
   "metadata": {},
   "outputs": [
    {
     "data": {
      "text/html": [
       "<div>\n",
       "<style scoped>\n",
       "    .dataframe tbody tr th:only-of-type {\n",
       "        vertical-align: middle;\n",
       "    }\n",
       "\n",
       "    .dataframe tbody tr th {\n",
       "        vertical-align: top;\n",
       "    }\n",
       "\n",
       "    .dataframe thead th {\n",
       "        text-align: right;\n",
       "    }\n",
       "</style>\n",
       "<table border=\"1\" class=\"dataframe\">\n",
       "  <thead>\n",
       "    <tr style=\"text-align: right;\">\n",
       "      <th></th>\n",
       "      <th>city</th>\n",
       "      <th>order_qty</th>\n",
       "      <th>delivery_qty</th>\n",
       "      <th>order_fill_perc</th>\n",
       "    </tr>\n",
       "  </thead>\n",
       "  <tbody>\n",
       "    <tr>\n",
       "      <th>0</th>\n",
       "      <td>Ahmedabad</td>\n",
       "      <td>4612298</td>\n",
       "      <td>4462984</td>\n",
       "      <td>96.762698</td>\n",
       "    </tr>\n",
       "  </tbody>\n",
       "</table>\n",
       "</div>"
      ],
      "text/plain": [
       "        city  order_qty  delivery_qty  order_fill_perc\n",
       "0  Ahmedabad    4612298       4462984        96.762698"
      ]
     },
     "execution_count": 74,
     "metadata": {},
     "output_type": "execute_result"
    }
   ],
   "source": [
    "df = df1.groupby('city')[['order_qty','delivery_qty']].sum().reset_index()\n",
    "df['order_fill_perc'] = df['delivery_qty']*100/df['order_qty']\n",
    "df.head(1)"
   ]
  },
  {
   "cell_type": "code",
   "execution_count": 75,
   "metadata": {},
   "outputs": [
    {
     "data": {
      "text/plain": [
       "[]"
      ]
     },
     "execution_count": 75,
     "metadata": {},
     "output_type": "execute_result"
    },
    {
     "data": {
      "image/png": "[encoded data removed]",
      "text/plain": [
       "<Figure size 2160x720 with 3 Axes>"
      ]
     },
     "metadata": {},
     "output_type": "display_data"
    }
   ],
   "source": [
    "fig,(ax1,ax2,ax3) = plt.subplots(1,3,figsize=(30,10),sharey=True)\n",
    "\n",
    "sns.barplot(\n",
    "    x = df['order_qty'],\n",
    "    y = df['city'],\n",
    "    orient = 'h',\n",
    "    ax=ax1\n",
    ")\n",
    "\n",
    "sns.barplot(\n",
    "    x = df['delivery_qty'],\n",
    "    y = df['city'],\n",
    "    orient = 'h',\n",
    "    ax=ax2\n",
    ")\n",
    "\n",
    "sns.barplot(\n",
    "    x = df['order_fill_perc'],\n",
    "    y = df['city'],\n",
    "    orient = 'h',\n",
    "    ax=ax3\n",
    ")\n",
    "\n",
    "ax1.set_title('Ordered qty for city',fontsize=15,fontweight='bold')\n",
    "ax2.set_title('delivered qty for city',fontsize=15,fontweight='bold')\n",
    "ax3.set_title('order fill perc by city',fontsize=15,fontweight='bold')\n",
    "\n",
    "plt.suptitle('Perform Analysis By City',fontsize=30,fontweight='bold')\n",
    "plt.plot()"
   ]
  }
 ],
 "metadata": {
  "kernelspec": {
   "display_name": "Python 3",
   "language": "python",
   "name": "python3"
  },
  "language_info": {
   "codemirror_mode": {
    "name": "ipython",
    "version": 3
   },
   "file_extension": ".py",
   "mimetype": "text/x-python",
   "name": "python",
   "nbconvert_exporter": "python",
   "pygments_lexer": "ipython3",
   "version": "3.8.6"
  }
 },
 "nbformat": 4,
 "nbformat_minor": 2
}
