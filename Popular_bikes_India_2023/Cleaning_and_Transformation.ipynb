{
 "cells": [
  {
   "cell_type": "code",
   "execution_count": 1,
   "metadata": {},
   "outputs": [],
   "source": [
    "import numpy as np\n",
    "import pandas as pd\n",
    "import seaborn as sns\n",
    "import re"
   ]
  },
  {
   "cell_type": "code",
   "execution_count": 2,
   "metadata": {},
   "outputs": [],
   "source": [
    "df = pd.read_csv('./bikes_data_Modified.csv')"
   ]
  },
  {
   "cell_type": "code",
   "execution_count": 3,
   "metadata": {},
   "outputs": [
    {
     "data": {
      "text/html": [
       "<div>\n",
       "<style scoped>\n",
       "    .dataframe tbody tr th:only-of-type {\n",
       "        vertical-align: middle;\n",
       "    }\n",
       "\n",
       "    .dataframe tbody tr th {\n",
       "        vertical-align: top;\n",
       "    }\n",
       "\n",
       "    .dataframe thead th {\n",
       "        text-align: right;\n",
       "    }\n",
       "</style>\n",
       "<table border=\"1\" class=\"dataframe\">\n",
       "  <thead>\n",
       "    <tr style=\"text-align: right;\">\n",
       "      <th></th>\n",
       "      <th>Company</th>\n",
       "      <th>Country of Origin</th>\n",
       "      <th>Model</th>\n",
       "      <th>Number of cc</th>\n",
       "      <th>Horsepower</th>\n",
       "      <th>Torque</th>\n",
       "      <th>Transmission Type</th>\n",
       "      <th>Drivetrain</th>\n",
       "      <th>Number of Seating</th>\n",
       "      <th>Price(Lakhs)</th>\n",
       "      <th>Year</th>\n",
       "      <th>Looks</th>\n",
       "      <th>Body Type</th>\n",
       "      <th>Engine Type</th>\n",
       "      <th>Number of Cylinders</th>\n",
       "    </tr>\n",
       "  </thead>\n",
       "  <tbody>\n",
       "    <tr>\n",
       "      <th>0</th>\n",
       "      <td>Aprilia</td>\n",
       "      <td>Italy</td>\n",
       "      <td>RS 660</td>\n",
       "      <td>659</td>\n",
       "      <td>100 hp</td>\n",
       "      <td>67 Nm</td>\n",
       "      <td>6-speed quickshifter</td>\n",
       "      <td>Chain</td>\n",
       "      <td>2</td>\n",
       "      <td>10.99</td>\n",
       "      <td>2021</td>\n",
       "      <td>Sport</td>\n",
       "      <td>Naked</td>\n",
       "      <td>Parallel-twin</td>\n",
       "      <td>2</td>\n",
       "    </tr>\n",
       "    <tr>\n",
       "      <th>1</th>\n",
       "      <td>Aprilia</td>\n",
       "      <td>Italy</td>\n",
       "      <td>Tuono 660</td>\n",
       "      <td>659</td>\n",
       "      <td>100 hp</td>\n",
       "      <td>67 Nm</td>\n",
       "      <td>6-speed quickshifter</td>\n",
       "      <td>Chain</td>\n",
       "      <td>2</td>\n",
       "      <td>11.99</td>\n",
       "      <td>2021</td>\n",
       "      <td>Sport</td>\n",
       "      <td>Naked</td>\n",
       "      <td>Parallel-twin</td>\n",
       "      <td>2</td>\n",
       "    </tr>\n",
       "    <tr>\n",
       "      <th>2</th>\n",
       "      <td>Aprilia</td>\n",
       "      <td>Italy</td>\n",
       "      <td>RS 125</td>\n",
       "      <td>124.9</td>\n",
       "      <td>15 hp</td>\n",
       "      <td>12 Nm</td>\n",
       "      <td>6-speed manual</td>\n",
       "      <td>Chain</td>\n",
       "      <td>2</td>\n",
       "      <td>4.49</td>\n",
       "      <td>2022</td>\n",
       "      <td>Sport</td>\n",
       "      <td>Racing</td>\n",
       "      <td>Single-cylinder</td>\n",
       "      <td>1</td>\n",
       "    </tr>\n",
       "    <tr>\n",
       "      <th>3</th>\n",
       "      <td>Aprilia</td>\n",
       "      <td>Italy</td>\n",
       "      <td>Shiver 900</td>\n",
       "      <td>896</td>\n",
       "      <td>95 hp</td>\n",
       "      <td>90 Nm</td>\n",
       "      <td>6-speed manual</td>\n",
       "      <td>Shaft</td>\n",
       "      <td>2</td>\n",
       "      <td>13.99</td>\n",
       "      <td>2022</td>\n",
       "      <td>Adventure</td>\n",
       "      <td>Naked</td>\n",
       "      <td>V-twin</td>\n",
       "      <td>2</td>\n",
       "    </tr>\n",
       "    <tr>\n",
       "      <th>4</th>\n",
       "      <td>Aprilia</td>\n",
       "      <td>Italy</td>\n",
       "      <td>Tuono 1100</td>\n",
       "      <td>1077</td>\n",
       "      <td>175 hp</td>\n",
       "      <td>121 Nm</td>\n",
       "      <td>6-speed manual</td>\n",
       "      <td>Shaft</td>\n",
       "      <td>2</td>\n",
       "      <td>19.99</td>\n",
       "      <td>2022</td>\n",
       "      <td>Adventure</td>\n",
       "      <td>Naked</td>\n",
       "      <td>V-twin</td>\n",
       "      <td>2</td>\n",
       "    </tr>\n",
       "  </tbody>\n",
       "</table>\n",
       "</div>"
      ],
      "text/plain": [
       "   Company Country of Origin       Model Number of cc Horsepower  Torque  \\\n",
       "0  Aprilia             Italy      RS 660          659     100 hp   67 Nm   \n",
       "1  Aprilia             Italy   Tuono 660          659     100 hp   67 Nm   \n",
       "2  Aprilia             Italy      RS 125        124.9      15 hp   12 Nm   \n",
       "3  Aprilia             Italy  Shiver 900          896      95 hp   90 Nm   \n",
       "4  Aprilia             Italy  Tuono 1100         1077     175 hp  121 Nm   \n",
       "\n",
       "      Transmission Type Drivetrain  Number of Seating  Price(Lakhs)  Year  \\\n",
       "0  6-speed quickshifter      Chain                  2         10.99  2021   \n",
       "1  6-speed quickshifter      Chain                  2         11.99  2021   \n",
       "2        6-speed manual      Chain                  2          4.49  2022   \n",
       "3        6-speed manual      Shaft                  2         13.99  2022   \n",
       "4        6-speed manual      Shaft                  2         19.99  2022   \n",
       "\n",
       "       Looks Body Type      Engine Type Number of Cylinders  \n",
       "0      Sport     Naked    Parallel-twin                   2  \n",
       "1      Sport     Naked    Parallel-twin                   2  \n",
       "2      Sport    Racing  Single-cylinder                   1  \n",
       "3  Adventure     Naked           V-twin                   2  \n",
       "4  Adventure     Naked           V-twin                   2  "
      ]
     },
     "execution_count": 3,
     "metadata": {},
     "output_type": "execute_result"
    }
   ],
   "source": [
    "df.head()"
   ]
  },
  {
   "cell_type": "code",
   "execution_count": 4,
   "metadata": {},
   "outputs": [
    {
     "data": {
      "text/plain": [
       "(362, 15)"
      ]
     },
     "execution_count": 4,
     "metadata": {},
     "output_type": "execute_result"
    }
   ],
   "source": [
    "df.shape"
   ]
  },
  {
   "cell_type": "code",
   "execution_count": 5,
   "metadata": {},
   "outputs": [
    {
     "name": "stdout",
     "output_type": "stream",
     "text": [
      "<class 'pandas.core.frame.DataFrame'>\n",
      "RangeIndex: 362 entries, 0 to 361\n",
      "Data columns (total 15 columns):\n",
      " #   Column               Non-Null Count  Dtype  \n",
      "---  ------               --------------  -----  \n",
      " 0   Company              362 non-null    object \n",
      " 1   Country of Origin    362 non-null    object \n",
      " 2   Model                362 non-null    object \n",
      " 3   Number of cc         362 non-null    object \n",
      " 4   Horsepower           362 non-null    object \n",
      " 5   Torque               362 non-null    object \n",
      " 6   Transmission Type    362 non-null    object \n",
      " 7   Drivetrain           362 non-null    object \n",
      " 8   Number of Seating    362 non-null    int64  \n",
      " 9   Price(Lakhs)         362 non-null    float64\n",
      " 10  Year                 362 non-null    int64  \n",
      " 11  Looks                362 non-null    object \n",
      " 12  Body Type            362 non-null    object \n",
      " 13  Engine Type          362 non-null    object \n",
      " 14  Number of Cylinders  361 non-null    object \n",
      "dtypes: float64(1), int64(2), object(12)\n",
      "memory usage: 42.5+ KB\n"
     ]
    }
   ],
   "source": [
    "df.info()"
   ]
  },
  {
   "cell_type": "markdown",
   "metadata": {},
   "source": [
    "There are no null values present except for one in 'Number of Cylinders'."
   ]
  },
  {
   "cell_type": "markdown",
   "metadata": {},
   "source": [
    "we will change names of columns with spaces, so it will be easy to handle."
   ]
  },
  {
   "cell_type": "code",
   "execution_count": 6,
   "metadata": {},
   "outputs": [],
   "source": [
    "df = df.rename(columns={'Country of Origin':'Origin','Number of cc':'CC',\n",
    "        'Transmission Type':'Transmission','Number of Seating':'Seating',\n",
    "        'Number of Cylinders':'Cylinders','Body Type':'Body','Engine Type':'Engine'\n",
    "        })"
   ]
  },
  {
   "cell_type": "markdown",
   "metadata": {},
   "source": [
    "##### Company"
   ]
  },
  {
   "cell_type": "code",
   "execution_count": 7,
   "metadata": {},
   "outputs": [
    {
     "data": {
      "text/plain": [
       "Benelli             16\n",
       "Husqvarna           12\n",
       "Mutt Motorcycles    11\n",
       "KTM                  9\n",
       "Genuine Scooters     9\n",
       "                    ..\n",
       "Italjet              1\n",
       "Derbi                1\n",
       "Ontrack              1\n",
       "Ampere               1\n",
       "Fantic               1\n",
       "Name: Company, Length: 75, dtype: int64"
      ]
     },
     "execution_count": 7,
     "metadata": {},
     "output_type": "execute_result"
    }
   ],
   "source": [
    "df['Company'].value_counts()"
   ]
  },
  {
   "cell_type": "markdown",
   "metadata": {},
   "source": [
    "##### Origin"
   ]
  },
  {
   "cell_type": "code",
   "execution_count": 8,
   "metadata": {},
   "outputs": [
    {
     "data": {
      "text/plain": [
       "Italy             92\n",
       "India             47\n",
       "China             44\n",
       "UK                28\n",
       "Japan             24\n",
       "United States     19\n",
       "Taiwan            18\n",
       "United Kingdom    17\n",
       "Austria           14\n",
       "USA               13\n",
       "Sweden            12\n",
       "Spain              9\n",
       "Germany            8\n",
       "France             8\n",
       "South Korea        5\n",
       "Canada             3\n",
       "Denmark            1\n",
       "Name: Origin, dtype: int64"
      ]
     },
     "execution_count": 8,
     "metadata": {},
     "output_type": "execute_result"
    }
   ],
   "source": [
    "df['Origin'].value_counts()"
   ]
  },
  {
   "cell_type": "markdown",
   "metadata": {},
   "source": [
    "There are some same values with different cases. we will combine them first.  "
   ]
  },
  {
   "cell_type": "code",
   "execution_count": 9,
   "metadata": {},
   "outputs": [],
   "source": [
    "df['Origin']=df['Origin'].replace(['UK','USA'],['United Kingdom','United States'])"
   ]
  },
  {
   "cell_type": "code",
   "execution_count": 10,
   "metadata": {},
   "outputs": [
    {
     "data": {
      "text/plain": [
       "Italy             92\n",
       "India             47\n",
       "United Kingdom    45\n",
       "China             44\n",
       "United States     32\n",
       "Japan             24\n",
       "Taiwan            18\n",
       "Austria           14\n",
       "Sweden            12\n",
       "Spain              9\n",
       "Germany            8\n",
       "France             8\n",
       "South Korea        5\n",
       "Canada             3\n",
       "Denmark            1\n",
       "Name: Origin, dtype: int64"
      ]
     },
     "execution_count": 10,
     "metadata": {},
     "output_type": "execute_result"
    }
   ],
   "source": [
    "df['Origin'].value_counts()"
   ]
  },
  {
   "cell_type": "markdown",
   "metadata": {},
   "source": [
    "##### Model"
   ]
  },
  {
   "cell_type": "code",
   "execution_count": 11,
   "metadata": {},
   "outputs": [
    {
     "data": {
      "text/plain": [
       "Artemis           4\n",
       "TC                2\n",
       "Svartpilen 401    2\n",
       "X-Cape            2\n",
       "Seiemmezzo 6 ½    2\n",
       "                 ..\n",
       "MGX-21            1\n",
       "Eldorado          1\n",
       "Audace            1\n",
       "V9 Roamer         1\n",
       "Eva Ribelle RS    1\n",
       "Name: Model, Length: 345, dtype: int64"
      ]
     },
     "execution_count": 11,
     "metadata": {},
     "output_type": "execute_result"
    }
   ],
   "source": [
    "df.Model.value_counts()"
   ]
  },
  {
   "cell_type": "markdown",
   "metadata": {},
   "source": [
    "##### CC"
   ]
  },
  {
   "cell_type": "code",
   "execution_count": 12,
   "metadata": {},
   "outputs": [
    {
     "data": {
      "text/plain": [
       "125     60\n",
       "250     24\n",
       "300     12\n",
       "500      8\n",
       "110      7\n",
       "        ..\n",
       "1133     1\n",
       "693      1\n",
       "1158     1\n",
       "321      1\n",
       "346      1\n",
       "Name: CC, Length: 139, dtype: int64"
      ]
     },
     "execution_count": 12,
     "metadata": {},
     "output_type": "execute_result"
    }
   ],
   "source": [
    "df['CC'].value_counts()"
   ]
  },
  {
   "cell_type": "code",
   "execution_count": 13,
   "metadata": {},
   "outputs": [],
   "source": [
    "df.drop(list(df.loc[df.CC == 'Electric'].index),inplace=True)"
   ]
  },
  {
   "cell_type": "markdown",
   "metadata": {},
   "source": [
    "There are values with different formats and units, have to make it consistent."
   ]
  },
  {
   "cell_type": "code",
   "execution_count": 14,
   "metadata": {},
   "outputs": [],
   "source": [
    "CCs = []\n",
    "\n",
    "for i in df['CC']:\n",
    "    # for values like '1,100 cc' or '1,100 CC' \n",
    "    if re.search(',\\d+\\s[cC]',i):\n",
    "        CCs.append(float(i.replace(',','').split(' ')[0]))\n",
    "    # replacing commas wherever present.\n",
    "    elif re.search(',',i):\n",
    "        CCs.append(float(i.replace(',','')))\n",
    "    # for values like 34 CC or 80.15 cc\n",
    "    elif re.search('\\s[cC]',i):\n",
    "        CCs.append(float(i.split(' ')[0]))\n",
    "    # for values like 100cc or 100CC\n",
    "    elif re.search('\\d+[cC]',i):\n",
    "        CCs.append(float(i.split('c')[0]))\n",
    "    # Converting kW to cc \n",
    "    # 35 kW ~ 46.6 bhp\n",
    "    # 14.6 bhp ~ 125 cc\n",
    "    # gives 1 kW ~ 11.42 cc\n",
    "    elif re.search('\\skW',i):\n",
    "        CCs.append(round(float(i.split(' ')[0])*11.42,1))\n",
    "    else:\n",
    "        CCs.append(float(i))"
   ]
  },
  {
   "cell_type": "code",
   "execution_count": 15,
   "metadata": {},
   "outputs": [],
   "source": [
    "df['CC'] = CCs"
   ]
  },
  {
   "cell_type": "markdown",
   "metadata": {},
   "source": [
    "##### Horsepower"
   ]
  },
  {
   "cell_type": "code",
   "execution_count": 16,
   "metadata": {},
   "outputs": [
    {
     "data": {
      "text/plain": [
       "11 hp                  6\n",
       "20 bhp                 6\n",
       "95 hp                  5\n",
       "15 hp                  5\n",
       "18.4 bhp               5\n",
       "                      ..\n",
       "31 hp @ 8,500 rpm      1\n",
       "26.5 hp @ 8,500 rpm    1\n",
       "38 hp                  1\n",
       "24 hp                  1\n",
       "42 hp                  1\n",
       "Name: Horsepower, Length: 244, dtype: int64"
      ]
     },
     "execution_count": 16,
     "metadata": {},
     "output_type": "execute_result"
    }
   ],
   "source": [
    "df['Horsepower'].value_counts()"
   ]
  },
  {
   "cell_type": "markdown",
   "metadata": {},
   "source": [
    "Horsepower is also not consistent with values or units, so made it consistent.\n",
    "1. 1 bhp = 13.15 hp\n",
    "2. 1 PS  = 0.9863 hp\n",
    "3. 1 kW  = 1.34 hp"
   ]
  },
  {
   "cell_type": "code",
   "execution_count": 17,
   "metadata": {},
   "outputs": [],
   "source": [
    "df['Horsepower'] = df['Horsepower'].replace('500W','0.5 kW')"
   ]
  },
  {
   "cell_type": "code",
   "execution_count": 18,
   "metadata": {},
   "outputs": [],
   "source": [
    "hps = []\n",
    "\n",
    "for i in df['Horsepower']:\n",
    "    if re.search('\\d{1,2}[.]?\\d$',i):\n",
    "        hps.append(float(i))\n",
    "    elif re.search('\\d\\s[hpHP]',i):\n",
    "        hps.append(float(i.split(' ')[0]))\n",
    "    elif re.search('\\d\\s[bB][hH][pP]',i):\n",
    "        hps.append(round(float(i.split(' ')[0])*13.15,1))\n",
    "    elif re.search('\\d[hps]',i):\n",
    "        cnt = 0\n",
    "        s =''\n",
    "        while not i[cnt].isalpha():\n",
    "            s+=i[cnt]\n",
    "            cnt +=1\n",
    "        hps.append(float(s))\n",
    "    elif re.search('kW',i):\n",
    "        hps.append(round(float(i.split(' ')[0])*1.34,1))\n",
    "    else:\n",
    "        print(i)\n"
   ]
  },
  {
   "cell_type": "code",
   "execution_count": 19,
   "metadata": {},
   "outputs": [],
   "source": [
    "df['Horsepower'] = hps"
   ]
  },
  {
   "cell_type": "code",
   "execution_count": 20,
   "metadata": {},
   "outputs": [
    {
     "data": {
      "text/plain": [
       "dtype('float64')"
      ]
     },
     "execution_count": 20,
     "metadata": {},
     "output_type": "execute_result"
    }
   ],
   "source": [
    "df.Horsepower.dtype"
   ]
  },
  {
   "cell_type": "markdown",
   "metadata": {},
   "source": [
    "##### Torque"
   ]
  },
  {
   "cell_type": "code",
   "execution_count": 21,
   "metadata": {},
   "outputs": [
    {
     "data": {
      "text/plain": [
       "10.5 Nm               10\n",
       "18 Nm                  9\n",
       "10 Nm                  8\n",
       "12 Nm                  6\n",
       "11 Nm                  6\n",
       "                      ..\n",
       "32 Nm@4250 rpm         1\n",
       "52.3 Nm @ 5650 rpm     1\n",
       "14 Nm @ 6000 rpm       1\n",
       "163 lb-ft              1\n",
       "58 Nm                  1\n",
       "Name: Torque, Length: 219, dtype: int64"
      ]
     },
     "execution_count": 21,
     "metadata": {},
     "output_type": "execute_result"
    }
   ],
   "source": [
    "df['Torque'].value_counts()"
   ]
  },
  {
   "cell_type": "markdown",
   "metadata": {},
   "source": [
    "The value is not present at 303 for Torque.So replaced it with appropriate value (via google search)"
   ]
  },
  {
   "cell_type": "code",
   "execution_count": 22,
   "metadata": {},
   "outputs": [
    {
     "name": "stderr",
     "output_type": "stream",
     "text": [
      "C:\\Users\\harsh\\AppData\\Local\\Temp/ipykernel_15256/3430331418.py:1: SettingWithCopyWarning: \n",
      "A value is trying to be set on a copy of a slice from a DataFrame\n",
      "\n",
      "See the caveats in the documentation: https://pandas.pydata.org/pandas-docs/stable/user_guide/indexing.html#returning-a-view-versus-a-copy\n",
      "  df['Torque'][303] = '70 Nm'\n"
     ]
    }
   ],
   "source": [
    "df['Torque'][303] = '70 Nm'"
   ]
  },
  {
   "cell_type": "markdown",
   "metadata": {},
   "source": [
    "Made column consistent.\n",
    "1. 1 lb-ft = 1.36 Nm"
   ]
  },
  {
   "cell_type": "code",
   "execution_count": 23,
   "metadata": {},
   "outputs": [],
   "source": [
    "Ts = []\n",
    "for i in df['Torque']:\n",
    "    # for values like 100Nm\n",
    "    if re.search('\\sNm',i):\n",
    "        Ts.append(float(i.split(' ')[0]))\n",
    "    # for values like 100 lb-ft or 100 ft-lb\n",
    "    elif re.search('\\s[lf][bt]',i):\n",
    "        Ts.append(round(float(i.split(' ')[0])*1.36,1))\n",
    "    # for values like 100 Nm\n",
    "    elif re.search('\\d+Nm',i):\n",
    "        Ts.append(float(i.replace('Nm','')))\n",
    "    # for values with no unit assuming unit as Nm\n",
    "    else:\n",
    "        Ts.append(float(i))"
   ]
  },
  {
   "cell_type": "code",
   "execution_count": 24,
   "metadata": {},
   "outputs": [],
   "source": [
    "df['Torque'] = Ts"
   ]
  },
  {
   "cell_type": "code",
   "execution_count": 25,
   "metadata": {},
   "outputs": [
    {
     "data": {
      "text/plain": [
       "dtype('float64')"
      ]
     },
     "execution_count": 25,
     "metadata": {},
     "output_type": "execute_result"
    }
   ],
   "source": [
    "df.Torque.dtype"
   ]
  },
  {
   "cell_type": "markdown",
   "metadata": {},
   "source": [
    "##### Transmission"
   ]
  },
  {
   "cell_type": "code",
   "execution_count": 26,
   "metadata": {},
   "outputs": [
    {
     "data": {
      "text/plain": [
       "6-speed manual                  114\n",
       "Manual                           50\n",
       "CVT                              42\n",
       "Automatic                        36\n",
       "5-speed manual                   27\n",
       "6-speed Manual                    8\n",
       "Six-speed                         8\n",
       "5-speed                           7\n",
       "Five-speed constant mesh          7\n",
       "6-speed sequential                6\n",
       "4-speed constant mesh             6\n",
       "Six-speed sequential              6\n",
       "Six-speed constant mesh           5\n",
       "5-speed constant mesh             4\n",
       "6-Speed                           4\n",
       "6-speed automatic                 4\n",
       "6 Speed Manual                    3\n",
       "4-speed manual                    3\n",
       "CVT Automatic                     3\n",
       "4-speed                           3\n",
       "BLDC hub motor                    2\n",
       "6-speed quickshifter              2\n",
       "6-speed constant mesh             2\n",
       "6-speed sequential manual         2\n",
       "Bafang BBS02 mid-drive motor      1\n",
       "BAFANG M600 mid-drive motor       1\n",
       "Single Speed                      1\n",
       "Direct drive                      1\n",
       "CVT automatic                     1\n",
       "6-speed                           1\n",
       "Constant Mesh, 6-speed            1\n",
       "Name: Transmission, dtype: int64"
      ]
     },
     "execution_count": 26,
     "metadata": {},
     "output_type": "execute_result"
    }
   ],
   "source": [
    "df['Transmission'].value_counts()"
   ]
  },
  {
   "cell_type": "markdown",
   "metadata": {},
   "source": [
    "Let's check some special transmission types."
   ]
  },
  {
   "cell_type": "code",
   "execution_count": 27,
   "metadata": {},
   "outputs": [
    {
     "data": {
      "text/html": [
       "<div>\n",
       "<style scoped>\n",
       "    .dataframe tbody tr th:only-of-type {\n",
       "        vertical-align: middle;\n",
       "    }\n",
       "\n",
       "    .dataframe tbody tr th {\n",
       "        vertical-align: top;\n",
       "    }\n",
       "\n",
       "    .dataframe thead th {\n",
       "        text-align: right;\n",
       "    }\n",
       "</style>\n",
       "<table border=\"1\" class=\"dataframe\">\n",
       "  <thead>\n",
       "    <tr style=\"text-align: right;\">\n",
       "      <th></th>\n",
       "      <th>Company</th>\n",
       "      <th>Origin</th>\n",
       "      <th>Model</th>\n",
       "      <th>CC</th>\n",
       "      <th>Horsepower</th>\n",
       "      <th>Torque</th>\n",
       "      <th>Transmission</th>\n",
       "      <th>Drivetrain</th>\n",
       "      <th>Seating</th>\n",
       "      <th>Price(Lakhs)</th>\n",
       "      <th>Year</th>\n",
       "      <th>Looks</th>\n",
       "      <th>Body</th>\n",
       "      <th>Engine</th>\n",
       "      <th>Cylinders</th>\n",
       "    </tr>\n",
       "  </thead>\n",
       "  <tbody>\n",
       "    <tr>\n",
       "      <th>228</th>\n",
       "      <td>Ontrack</td>\n",
       "      <td>India</td>\n",
       "      <td>Brutus Single Speed MTB 29</td>\n",
       "      <td>29.0</td>\n",
       "      <td>25.0</td>\n",
       "      <td>25.0</td>\n",
       "      <td>Single Speed</td>\n",
       "      <td>Front Suspension</td>\n",
       "      <td>1</td>\n",
       "      <td>0.14</td>\n",
       "      <td>2023</td>\n",
       "      <td>Rugged</td>\n",
       "      <td>Mountain Bike</td>\n",
       "      <td>2</td>\n",
       "      <td>1</td>\n",
       "    </tr>\n",
       "  </tbody>\n",
       "</table>\n",
       "</div>"
      ],
      "text/plain": [
       "     Company Origin                       Model    CC  Horsepower  Torque  \\\n",
       "228  Ontrack  India  Brutus Single Speed MTB 29  29.0        25.0    25.0   \n",
       "\n",
       "     Transmission        Drivetrain  Seating  Price(Lakhs)  Year   Looks  \\\n",
       "228  Single Speed  Front Suspension        1          0.14  2023  Rugged   \n",
       "\n",
       "              Body Engine Cylinders  \n",
       "228  Mountain Bike      2         1  "
      ]
     },
     "execution_count": 27,
     "metadata": {},
     "output_type": "execute_result"
    }
   ],
   "source": [
    "df[df.Transmission == 'Single Speed']"
   ]
  },
  {
   "cell_type": "code",
   "execution_count": 28,
   "metadata": {},
   "outputs": [
    {
     "data": {
      "text/html": [
       "<div>\n",
       "<style scoped>\n",
       "    .dataframe tbody tr th:only-of-type {\n",
       "        vertical-align: middle;\n",
       "    }\n",
       "\n",
       "    .dataframe tbody tr th {\n",
       "        vertical-align: top;\n",
       "    }\n",
       "\n",
       "    .dataframe thead th {\n",
       "        text-align: right;\n",
       "    }\n",
       "</style>\n",
       "<table border=\"1\" class=\"dataframe\">\n",
       "  <thead>\n",
       "    <tr style=\"text-align: right;\">\n",
       "      <th></th>\n",
       "      <th>Company</th>\n",
       "      <th>Origin</th>\n",
       "      <th>Model</th>\n",
       "      <th>CC</th>\n",
       "      <th>Horsepower</th>\n",
       "      <th>Torque</th>\n",
       "      <th>Transmission</th>\n",
       "      <th>Drivetrain</th>\n",
       "      <th>Seating</th>\n",
       "      <th>Price(Lakhs)</th>\n",
       "      <th>Year</th>\n",
       "      <th>Looks</th>\n",
       "      <th>Body</th>\n",
       "      <th>Engine</th>\n",
       "      <th>Cylinders</th>\n",
       "    </tr>\n",
       "  </thead>\n",
       "  <tbody>\n",
       "    <tr>\n",
       "      <th>182</th>\n",
       "      <td>Harley-Davidson</td>\n",
       "      <td>United States</td>\n",
       "      <td>LiveWire</td>\n",
       "      <td>1133.0</td>\n",
       "      <td>105.0</td>\n",
       "      <td>116.0</td>\n",
       "      <td>Direct drive</td>\n",
       "      <td>Permanent magnet synchronous motor</td>\n",
       "      <td>1</td>\n",
       "      <td>35.0</td>\n",
       "      <td>2021</td>\n",
       "      <td>Modern</td>\n",
       "      <td>Cruiser</td>\n",
       "      <td>Electric</td>\n",
       "      <td>Single</td>\n",
       "    </tr>\n",
       "  </tbody>\n",
       "</table>\n",
       "</div>"
      ],
      "text/plain": [
       "             Company         Origin     Model      CC  Horsepower  Torque  \\\n",
       "182  Harley-Davidson  United States  LiveWire  1133.0       105.0   116.0   \n",
       "\n",
       "     Transmission                          Drivetrain  Seating  Price(Lakhs)  \\\n",
       "182  Direct drive  Permanent magnet synchronous motor        1          35.0   \n",
       "\n",
       "     Year   Looks     Body    Engine Cylinders  \n",
       "182  2021  Modern  Cruiser  Electric    Single  "
      ]
     },
     "execution_count": 28,
     "metadata": {},
     "output_type": "execute_result"
    }
   ],
   "source": [
    "df[df.Transmission == 'Direct drive']"
   ]
  },
  {
   "cell_type": "markdown",
   "metadata": {},
   "source": [
    "Grouped together categories with same mechanisms, so it is east to play around."
   ]
  },
  {
   "cell_type": "code",
   "execution_count": 29,
   "metadata": {},
   "outputs": [],
   "source": [
    "df.Transmission = df.Transmission.replace('Direct drive','Single Speed')\n",
    "\n",
    "df.Transmission = df.Transmission.replace(['6-speed manual','6-speed Manual','Six-speed',\n",
    "                                        '6-speed sequential','6 Speed Manual',\n",
    "                                        '6-speed quickshifter','6-speed sequential manual',\n",
    "                                        'Six-speed sequential','Six-speed constant mesh','6-Speed',\n",
    "                                        '6-speed','Constant Mesh, 6-speed','6-speed constant mesh'],'6-speed Manual')\n",
    "\n",
    "df.Transmission = df.Transmission.replace(['CVT automatic','CVT Automatic'],'CVT')\n",
    "\n",
    "df.Transmission = df.Transmission.replace(['Bafang BBS02 mid-drive motor','BAFANG M600 mid-drive motor'],'Mid-drive Motor')\n",
    "df.Transmission = df.Transmission.replace('BLDC hub motor','Hub Motor')\n",
    "\n",
    "df.Transmission = df.Transmission.replace(['5-speed manual','5-speed','Five-speed constant mesh',\n",
    "                                        '5-speed constant mesh'],'5-speed Manual')\n",
    "\n",
    "df.Transmission = df.Transmission.replace(['4-speed constant mesh','4-speed manual','4-speed'],'4-speed Manual')\n"
   ]
  },
  {
   "cell_type": "code",
   "execution_count": 30,
   "metadata": {},
   "outputs": [
    {
     "data": {
      "text/plain": [
       "6-speed Manual       162\n",
       "Manual                50\n",
       "CVT                   46\n",
       "5-speed Manual        45\n",
       "Automatic             36\n",
       "4-speed Manual        12\n",
       "6-speed automatic      4\n",
       "Single Speed           2\n",
       "Mid-drive Motor        2\n",
       "Hub Motor              2\n",
       "Name: Transmission, dtype: int64"
      ]
     },
     "execution_count": 30,
     "metadata": {},
     "output_type": "execute_result"
    }
   ],
   "source": [
    "df.Transmission.value_counts()"
   ]
  },
  {
   "cell_type": "markdown",
   "metadata": {},
   "source": [
    "##### Drivetrain"
   ]
  },
  {
   "cell_type": "code",
   "execution_count": 31,
   "metadata": {},
   "outputs": [
    {
     "data": {
      "text/plain": [
       "Chain                                 110\n",
       "Chain drive                            93\n",
       "Automatic                              35\n",
       "Chain Drive                            22\n",
       "Belt drive                             20\n",
       "Electric                               16\n",
       "Shaft drive                            16\n",
       "CVT                                    15\n",
       "Shaft                                  11\n",
       "Belt                                    4\n",
       "Shimano drivetrain                      4\n",
       "Automatic CVT                           3\n",
       "Front wheel drive                       3\n",
       "Belt Drive                              2\n",
       "Parallel twin                           2\n",
       "Permanent magnet synchronous motor      1\n",
       "Front Suspension                        1\n",
       "Single-gear                             1\n",
       "Dual-motor, all-wheel drive             1\n",
       "V-twin, liquid-cooled, 4-stroke         1\n",
       "Name: Drivetrain, dtype: int64"
      ]
     },
     "execution_count": 31,
     "metadata": {},
     "output_type": "execute_result"
    }
   ],
   "source": [
    "df['Drivetrain'].value_counts()"
   ]
  },
  {
   "cell_type": "markdown",
   "metadata": {},
   "source": [
    "Replaced same values with different cases.\n",
    "special values are categorised as 'Other' for more ease."
   ]
  },
  {
   "cell_type": "code",
   "execution_count": 32,
   "metadata": {},
   "outputs": [],
   "source": [
    "df.Drivetrain = df['Drivetrain'].replace(['Chain drive','Chain Drive'],'Chain')\n",
    "\n",
    "df.Drivetrain = df['Drivetrain'].replace(['Belt drive','Belt Drive'],'Belt')\n",
    "\n",
    "df.Drivetrain = df['Drivetrain'].replace('Automatic CVT','CVT')\n",
    "\n",
    "df.Drivetrain = df['Drivetrain'].replace(['Shimano drivetrain','Front wheel drive','Parallel twin', 'Permanent magnet synchronous motor',\n",
    "    'Front Suspension', 'Single-gear', 'Dual-motor, all-wheel drive',\n",
    "    'V-twin, liquid-cooled, 4-stroke'],'Other')\n",
    "\n",
    "df.Drivetrain = df['Drivetrain'].replace('Shaft drive','Shaft')"
   ]
  },
  {
   "cell_type": "code",
   "execution_count": 33,
   "metadata": {},
   "outputs": [
    {
     "data": {
      "text/plain": [
       "Chain        225\n",
       "Automatic     35\n",
       "Shaft         27\n",
       "Belt          26\n",
       "CVT           18\n",
       "Electric      16\n",
       "Other         14\n",
       "Name: Drivetrain, dtype: int64"
      ]
     },
     "execution_count": 33,
     "metadata": {},
     "output_type": "execute_result"
    }
   ],
   "source": [
    "df.Drivetrain.value_counts()"
   ]
  },
  {
   "cell_type": "markdown",
   "metadata": {},
   "source": [
    "##### Seating"
   ]
  },
  {
   "cell_type": "code",
   "execution_count": 34,
   "metadata": {},
   "outputs": [
    {
     "data": {
      "text/plain": [
       "2    222\n",
       "1    138\n",
       "3      1\n",
       "Name: Seating, dtype: int64"
      ]
     },
     "execution_count": 34,
     "metadata": {},
     "output_type": "execute_result"
    }
   ],
   "source": [
    "df['Seating'].value_counts()"
   ]
  },
  {
   "cell_type": "markdown",
   "metadata": {},
   "source": [
    "##### Price (Lakhs)"
   ]
  },
  {
   "cell_type": "markdown",
   "metadata": {},
   "source": [
    "price column had lots of different value formats, cleaned it with excel.\n",
    "1. removed commas wherever present.\n",
    "2. removed units such as Rs. , rs. , ₹ , lakh , Lakh and more.\n",
    "3. The range values were replaced as mean value of that range.\n",
    "4. The $ values were converted to rupees.\n",
    "5. All values converted to single unit lakh."
   ]
  },
  {
   "cell_type": "code",
   "execution_count": 35,
   "metadata": {},
   "outputs": [
    {
     "data": {
      "text/plain": [
       "array([10.99, 11.99,  4.49, 13.99, 19.99,  1.25,  1.75,  2.  ,  4.  ,\n",
       "        6.  ,  2.25,  3.5 ,  3.25,  3.  ,  2.5 ,  6.  ,  8.  , 12.  ,\n",
       "       14.  , 16.  , 12.  ,  1.5 ,  1.25,  3.5 ,  3.75,  4.  ,  4.5 ,\n",
       "       10.  , 13.  , 11.  , 12.  ,  1.5 ,  1.25,  8.  , 10.  , 11.  ,\n",
       "       12.  , 10.  , 15.  , 20.  ,  2.29,  4.29,  5.29,  5.59, 45.48,\n",
       "       41.43, 82.85,  1.3 ,  1.4 ,  2.39,  2.59, 27.41, 25.91,  9.39,\n",
       "       12.95, 21.48, 17.49, 18.79, 40.49, 37.49, 24.49, 20.49, 24.49,\n",
       "       26.59,  1.45,  1.85,  1.65,  0.65,  0.62,  3.25,  3.35,  6.5 ,\n",
       "        7.5 ,  0.23,  0.24,  0.26,  0.2 ,  0.15,  3.43,  5.19,  6.65,\n",
       "        9.11, 23.02,  6.95,  1.78,  1.92,  2.2 ,  3.1 ,  2.05,  3.3 ,\n",
       "        3.6 ,  5.5 ,  0.75,  1.5 ,  1.6 ,  2.5 ,  1.05,  1.5 ,  2.  ,\n",
       "        2.5 ,  0.85,  1.15,  0.55,  0.75,  1.1 ,  1.1 ,  2.08,  1.29,\n",
       "        0.7 ,  0.55,  0.54, 15.4 , 13.6 , 13.3 , 14.8 , 17.5 , 24.9 ,\n",
       "       18.9 , 25.4 , 22.8 , 21.1 , 20.7 , 20.99, 20.99, 32.99, 35.99,\n",
       "        1.25,  1.55,  3.15,  1.15,  2.15,  1.47,  1.97,  1.65,  2.2 ,\n",
       "        2.79,  2.99,  3.65,  1.79,  1.49,  1.2 ,  0.68,  0.78,  3.25,\n",
       "        4.5 ,  1.1 ,  0.95,  1.5 , 20.19, 17.95,  7.45, 14.99, 11.95,\n",
       "        8.49,  9.69, 11.09,  1.32,  1.15,  1.75,  1.65,  1.1 , 20.  ,\n",
       "        8.5 ,  5.5 ,  3.5 ,  2.  , 12.5 , 11.  ,  8.  , 14.  , 12.  ,\n",
       "        8.5 , 10.5 ,  8.  , 11.  , 13.  , 14.5 , 10.5 , 12.  , 11.5 ,\n",
       "       13.  , 14.5 , 35.  ,  1.35,  0.65,  2.19,  2.19,  2.8 ,  2.9 ,\n",
       "        4.2 ,  4.  ,  5.5 ,  5.3 , 17.  ,  6.99,  7.35, 16.9 , 21.4 ,\n",
       "       14.  ,  0.68,  0.85,  1.25,  1.99,  1.13,  0.62,  0.58,  0.64,\n",
       "        1.15,  1.22,  0.7 ,  0.5 ,  1.67,  1.67,  2.15,  1.28,  1.34,\n",
       "        1.  ,  0.7 ,  0.62,  0.79,  0.73,  2.5 ,  1.5 ,  1.  ,  0.8 ,\n",
       "        1.15,  1.45,  2.4 ,  0.14,  1.  ,  1.4 ,  1.6 ,  1.5 ,  1.3 ,\n",
       "        8.29, 10.  , 11.7 , 14.  , 11.5 , 13.8 , 15.  , 14.5 , 17.  ,\n",
       "       12.5 , 22.  ,  1.  ,  1.05,  1.1 ,  1.15,  1.2 ,  3.89,  3.25,\n",
       "        3.2 ,  2.65,  3.3 ,  1.2 ,  1.67,  1.84,  2.15,  1.65,  1.75,\n",
       "        1.35,  2.25,  1.1 ,  1.5 ,  1.  ,  2.5 ,  3.5 ,  1.4 ,  6.5 ,\n",
       "        1.5 ,  3.37,  4.2 ,  2.2 , 13.  , 16.  , 20.  , 17.  , 14.  ,\n",
       "        1.45,  1.05,  0.55,  0.4 ,  0.35, 18.5 , 13.5 , 15.  ,  0.88,\n",
       "        1.99,  0.88,  0.45,  0.6 ,  0.8 ,  0.7 ,  0.9 ,  0.35,  0.4 ,\n",
       "        0.3 ,  0.45,  1.64,  1.57,  1.1 ,  0.9 ,  4.9 ,  1.5 ,  1.6 ,\n",
       "        1.3 ,  1.45,  1.2 ,  1.3 ,  1.  ,  1.4 ,  1.5 ,  6.8 ,  8.5 ,\n",
       "        7.8 ,  1.2 ,  1.3 ,  1.4 ,  1.5 ,  1.8 ,  1.3 ,  1.4 ,  4.5 ,\n",
       "        2.7 ,  2.1 ,  1.1 ,  1.  ,  2.35,  2.6 ,  2.99,  4.69,  6.19,\n",
       "        5.6 ,  5.85,  7.5 , 14.99, 15.49, 14.99,  3.59,  3.25,  3.47,\n",
       "        3.57,  3.67,  3.59,  4.99,  5.49,  5.99,  5.29,  6.49,  5.99,\n",
       "        6.99,  6.79,  7.49, 21.15, 22.5 , 25.  , 23.75, 25.25,  7.2 ,\n",
       "        6.89])"
      ]
     },
     "execution_count": 35,
     "metadata": {},
     "output_type": "execute_result"
    }
   ],
   "source": [
    "df['Price(Lakhs)'].values"
   ]
  },
  {
   "cell_type": "markdown",
   "metadata": {},
   "source": [
    "##### Year "
   ]
  },
  {
   "cell_type": "code",
   "execution_count": 36,
   "metadata": {},
   "outputs": [
    {
     "data": {
      "text/plain": [
       "2023    215\n",
       "2022     90\n",
       "2020     14\n",
       "2021      7\n",
       "2017      7\n",
       "2019      7\n",
       "2018      5\n",
       "2016      3\n",
       "2005      3\n",
       "2003      2\n",
       "2014      2\n",
       "1994      1\n",
       "2002      1\n",
       "2000      1\n",
       "2015      1\n",
       "2006      1\n",
       "1998      1\n",
       "Name: Year, dtype: int64"
      ]
     },
     "execution_count": 36,
     "metadata": {},
     "output_type": "execute_result"
    }
   ],
   "source": [
    "df['Year'].value_counts()"
   ]
  },
  {
   "cell_type": "markdown",
   "metadata": {},
   "source": [
    "For years less than 2020, not a lot of values present for each year.So, they are categarized as one period '<2020'."
   ]
  },
  {
   "cell_type": "code",
   "execution_count": 37,
   "metadata": {},
   "outputs": [],
   "source": [
    "df.Year = [i if i >= 2020 else '<2020' for i in df.Year]"
   ]
  },
  {
   "cell_type": "code",
   "execution_count": 38,
   "metadata": {},
   "outputs": [
    {
     "data": {
      "text/plain": [
       "2023     215\n",
       "2022      90\n",
       "<2020     35\n",
       "2020      14\n",
       "2021       7\n",
       "Name: Year, dtype: int64"
      ]
     },
     "execution_count": 38,
     "metadata": {},
     "output_type": "execute_result"
    }
   ],
   "source": [
    "df.Year.value_counts()"
   ]
  },
  {
   "cell_type": "markdown",
   "metadata": {},
   "source": [
    "##### Looks"
   ]
  },
  {
   "cell_type": "code",
   "execution_count": 39,
   "metadata": {},
   "outputs": [
    {
     "data": {
      "text/plain": [
       "Modern                       74\n",
       "Classy                       48\n",
       "Adventure                    42\n",
       "Sporty                       30\n",
       "Retro                        30\n",
       "Classic                      29\n",
       "Retro-inspired               10\n",
       "Modern, sporty               10\n",
       "Futuristic                    7\n",
       "Sport                         7\n",
       "Modern, stylish               4\n",
       "Classic, vintage              4\n",
       "Cruiser                       4\n",
       "Aggressive                    4\n",
       "Commuter                      3\n",
       "Sharp                         3\n",
       "Simple, reliable              3\n",
       "Motocross                     3\n",
       "Sporty, aggressive            3\n",
       "Classic, stylish              3\n",
       "Practical                     3\n",
       "Sleek                         3\n",
       "Enduro                        2\n",
       "Naked                         2\n",
       "Modern, aggressive            2\n",
       "Retro-modern                  2\n",
       "Rugged                        2\n",
       "Race-inspired                 2\n",
       "Touring                       2\n",
       "Adventure, sporty             1\n",
       "Modern, muscular              1\n",
       "Urban                         1\n",
       "Stylish                       1\n",
       "Dirt                          1\n",
       "Modern, bobber                1\n",
       "Retro, classic                1\n",
       "Bold                          1\n",
       "Classy, cruiser               1\n",
       "Budget                        1\n",
       "Modern, rugged                1\n",
       "Fun                           1\n",
       "Modern, off-road              1\n",
       "Bold, aggressive              1\n",
       "Bobber                        1\n",
       "Adventure, touring            1\n",
       "Classic, rugged               1\n",
       "Sporty, beginner-friendly     1\n",
       "Classic, bobber               1\n",
       "Classy, aggressive            1\n",
       "Name: Looks, dtype: int64"
      ]
     },
     "execution_count": 39,
     "metadata": {},
     "output_type": "execute_result"
    }
   ],
   "source": [
    "df['Looks'].value_counts()"
   ]
  },
  {
   "cell_type": "code",
   "execution_count": 51,
   "metadata": {},
   "outputs": [
    {
     "data": {
      "text/html": [
       "<div>\n",
       "<style scoped>\n",
       "    .dataframe tbody tr th:only-of-type {\n",
       "        vertical-align: middle;\n",
       "    }\n",
       "\n",
       "    .dataframe tbody tr th {\n",
       "        vertical-align: top;\n",
       "    }\n",
       "\n",
       "    .dataframe thead th {\n",
       "        text-align: right;\n",
       "    }\n",
       "</style>\n",
       "<table border=\"1\" class=\"dataframe\">\n",
       "  <thead>\n",
       "    <tr style=\"text-align: right;\">\n",
       "      <th></th>\n",
       "      <th>look</th>\n",
       "      <th>count</th>\n",
       "    </tr>\n",
       "  </thead>\n",
       "  <tbody>\n",
       "    <tr>\n",
       "      <th>0</th>\n",
       "      <td>sport</td>\n",
       "      <td>7</td>\n",
       "    </tr>\n",
       "    <tr>\n",
       "      <th>1</th>\n",
       "      <td>adventure</td>\n",
       "      <td>44</td>\n",
       "    </tr>\n",
       "    <tr>\n",
       "      <th>2</th>\n",
       "      <td>classy</td>\n",
       "      <td>50</td>\n",
       "    </tr>\n",
       "    <tr>\n",
       "      <th>3</th>\n",
       "      <td>sporty</td>\n",
       "      <td>34</td>\n",
       "    </tr>\n",
       "    <tr>\n",
       "      <th>4</th>\n",
       "      <td>retro</td>\n",
       "      <td>31</td>\n",
       "    </tr>\n",
       "    <tr>\n",
       "      <th>5</th>\n",
       "      <td>touring</td>\n",
       "      <td>2</td>\n",
       "    </tr>\n",
       "    <tr>\n",
       "      <th>6</th>\n",
       "      <td>classic</td>\n",
       "      <td>38</td>\n",
       "    </tr>\n",
       "    <tr>\n",
       "      <th>7</th>\n",
       "      <td>modern</td>\n",
       "      <td>94</td>\n",
       "    </tr>\n",
       "    <tr>\n",
       "      <th>8</th>\n",
       "      <td>bold</td>\n",
       "      <td>2</td>\n",
       "    </tr>\n",
       "    <tr>\n",
       "      <th>9</th>\n",
       "      <td>sleek</td>\n",
       "      <td>3</td>\n",
       "    </tr>\n",
       "    <tr>\n",
       "      <th>10</th>\n",
       "      <td>stylish</td>\n",
       "      <td>7</td>\n",
       "    </tr>\n",
       "    <tr>\n",
       "      <th>11</th>\n",
       "      <td>rugged</td>\n",
       "      <td>2</td>\n",
       "    </tr>\n",
       "    <tr>\n",
       "      <th>12</th>\n",
       "      <td>sporty</td>\n",
       "      <td>11</td>\n",
       "    </tr>\n",
       "    <tr>\n",
       "      <th>13</th>\n",
       "      <td>off-road</td>\n",
       "      <td>1</td>\n",
       "    </tr>\n",
       "    <tr>\n",
       "      <th>14</th>\n",
       "      <td>bobber</td>\n",
       "      <td>2</td>\n",
       "    </tr>\n",
       "    <tr>\n",
       "      <th>15</th>\n",
       "      <td>muscular</td>\n",
       "      <td>1</td>\n",
       "    </tr>\n",
       "    <tr>\n",
       "      <th>16</th>\n",
       "      <td>aggressive</td>\n",
       "      <td>4</td>\n",
       "    </tr>\n",
       "    <tr>\n",
       "      <th>17</th>\n",
       "      <td>race-inspired</td>\n",
       "      <td>2</td>\n",
       "    </tr>\n",
       "    <tr>\n",
       "      <th>18</th>\n",
       "      <td>commuter</td>\n",
       "      <td>3</td>\n",
       "    </tr>\n",
       "    <tr>\n",
       "      <th>19</th>\n",
       "      <td>bobber</td>\n",
       "      <td>1</td>\n",
       "    </tr>\n",
       "    <tr>\n",
       "      <th>20</th>\n",
       "      <td>cruiser</td>\n",
       "      <td>4</td>\n",
       "    </tr>\n",
       "    <tr>\n",
       "      <th>21</th>\n",
       "      <td>futuristic</td>\n",
       "      <td>7</td>\n",
       "    </tr>\n",
       "    <tr>\n",
       "      <th>22</th>\n",
       "      <td>practical</td>\n",
       "      <td>3</td>\n",
       "    </tr>\n",
       "    <tr>\n",
       "      <th>23</th>\n",
       "      <td>cruiser</td>\n",
       "      <td>1</td>\n",
       "    </tr>\n",
       "    <tr>\n",
       "      <th>24</th>\n",
       "      <td>aggressive</td>\n",
       "      <td>7</td>\n",
       "    </tr>\n",
       "    <tr>\n",
       "      <th>25</th>\n",
       "      <td>touring</td>\n",
       "      <td>1</td>\n",
       "    </tr>\n",
       "    <tr>\n",
       "      <th>26</th>\n",
       "      <td>vintage</td>\n",
       "      <td>4</td>\n",
       "    </tr>\n",
       "    <tr>\n",
       "      <th>27</th>\n",
       "      <td>beginner-friendly</td>\n",
       "      <td>1</td>\n",
       "    </tr>\n",
       "    <tr>\n",
       "      <th>28</th>\n",
       "      <td>motocross</td>\n",
       "      <td>3</td>\n",
       "    </tr>\n",
       "    <tr>\n",
       "      <th>29</th>\n",
       "      <td>enduro</td>\n",
       "      <td>2</td>\n",
       "    </tr>\n",
       "    <tr>\n",
       "      <th>30</th>\n",
       "      <td>simple</td>\n",
       "      <td>3</td>\n",
       "    </tr>\n",
       "    <tr>\n",
       "      <th>31</th>\n",
       "      <td>reliable</td>\n",
       "      <td>3</td>\n",
       "    </tr>\n",
       "    <tr>\n",
       "      <th>32</th>\n",
       "      <td>fun</td>\n",
       "      <td>1</td>\n",
       "    </tr>\n",
       "    <tr>\n",
       "      <th>33</th>\n",
       "      <td>budget</td>\n",
       "      <td>1</td>\n",
       "    </tr>\n",
       "    <tr>\n",
       "      <th>34</th>\n",
       "      <td>rugged</td>\n",
       "      <td>2</td>\n",
       "    </tr>\n",
       "    <tr>\n",
       "      <th>35</th>\n",
       "      <td>retro-modern</td>\n",
       "      <td>2</td>\n",
       "    </tr>\n",
       "    <tr>\n",
       "      <th>36</th>\n",
       "      <td>sharp</td>\n",
       "      <td>3</td>\n",
       "    </tr>\n",
       "    <tr>\n",
       "      <th>37</th>\n",
       "      <td>classic</td>\n",
       "      <td>1</td>\n",
       "    </tr>\n",
       "    <tr>\n",
       "      <th>38</th>\n",
       "      <td>naked</td>\n",
       "      <td>2</td>\n",
       "    </tr>\n",
       "    <tr>\n",
       "      <th>39</th>\n",
       "      <td>dirt</td>\n",
       "      <td>1</td>\n",
       "    </tr>\n",
       "    <tr>\n",
       "      <th>40</th>\n",
       "      <td>stylish</td>\n",
       "      <td>1</td>\n",
       "    </tr>\n",
       "    <tr>\n",
       "      <th>41</th>\n",
       "      <td>urban</td>\n",
       "      <td>1</td>\n",
       "    </tr>\n",
       "    <tr>\n",
       "      <th>42</th>\n",
       "      <td>retro-inspired</td>\n",
       "      <td>10</td>\n",
       "    </tr>\n",
       "  </tbody>\n",
       "</table>\n",
       "</div>"
      ],
      "text/plain": [
       "                  look  count\n",
       "0                sport      7\n",
       "1            adventure     44\n",
       "2               classy     50\n",
       "3               sporty     34\n",
       "4                retro     31\n",
       "5              touring      2\n",
       "6              classic     38\n",
       "7               modern     94\n",
       "8                 bold      2\n",
       "9                sleek      3\n",
       "10             stylish      7\n",
       "11              rugged      2\n",
       "12              sporty     11\n",
       "13            off-road      1\n",
       "14              bobber      2\n",
       "15            muscular      1\n",
       "16          aggressive      4\n",
       "17       race-inspired      2\n",
       "18            commuter      3\n",
       "19              bobber      1\n",
       "20             cruiser      4\n",
       "21          futuristic      7\n",
       "22           practical      3\n",
       "23             cruiser      1\n",
       "24          aggressive      7\n",
       "25             touring      1\n",
       "26             vintage      4\n",
       "27   beginner-friendly      1\n",
       "28           motocross      3\n",
       "29              enduro      2\n",
       "30              simple      3\n",
       "31            reliable      3\n",
       "32                 fun      1\n",
       "33              budget      1\n",
       "34              rugged      2\n",
       "35        retro-modern      2\n",
       "36               sharp      3\n",
       "37             classic      1\n",
       "38               naked      2\n",
       "39                dirt      1\n",
       "40             stylish      1\n",
       "41               urban      1\n",
       "42      retro-inspired     10"
      ]
     },
     "execution_count": 51,
     "metadata": {},
     "output_type": "execute_result"
    }
   ],
   "source": [
    "looks = ','.join(df['Looks'])\n",
    "looks = looks.lower().split(',')\n",
    "d = {}\n",
    "for i in looks:\n",
    "    if i not in d.keys():\n",
    "        d[i] =1\n",
    "    else:\n",
    "        d[i] +=1\n",
    "look = list(d.keys())\n",
    "counts = list(d.values())\n",
    "data = {'look':look,'count':counts}\n",
    "bike_looks = pd.DataFrame(data)\n",
    "bike_looks"
   ]
  },
  {
   "cell_type": "markdown",
   "metadata": {},
   "source": [
    "##### Body"
   ]
  },
  {
   "cell_type": "code",
   "execution_count": 40,
   "metadata": {},
   "outputs": [
    {
     "data": {
      "text/plain": [
       "Cruiser                59\n",
       "Naked                  46\n",
       "Scooter                36\n",
       "Standard               23\n",
       "Enduro                 23\n",
       "Adventure              19\n",
       "Sport                  15\n",
       "Cafe racer             13\n",
       "Scrambler              10\n",
       "Roadster                9\n",
       "Street                  9\n",
       "Adventure touring       8\n",
       "Sports                  6\n",
       "Street Bike             6\n",
       "Sportbike               6\n",
       "commuter                5\n",
       "Cafe Racer              5\n",
       "Bobber                  5\n",
       "Supersport              3\n",
       "Dual-sport              3\n",
       "Streetfighter           3\n",
       "Superbike               3\n",
       "Supermoto               3\n",
       "Tourer                  2\n",
       "Retro                   2\n",
       "Electric scooter        2\n",
       "Naked streetfighter     2\n",
       "Dirt bike               2\n",
       "Motocross               2\n",
       "Trail Bike              2\n",
       "Maxi-Scooter            2\n",
       "Naked bike              2\n",
       "Adventure bike          2\n",
       "Sports bike             2\n",
       "Off-road                1\n",
       "Adventure tourer        1\n",
       "Cargo                   1\n",
       "Commuter                1\n",
       "Sports Naked            1\n",
       "Touring                 1\n",
       "Classic                 1\n",
       "Street scrambler        1\n",
       "Street bike             1\n",
       "Mountain Bike           1\n",
       "Hybrid bike             1\n",
       "Mountain bike           1\n",
       "Street naked            1\n",
       "Trail                   1\n",
       "Naked Bike              1\n",
       "Racing                  1\n",
       "Café racer              1\n",
       "Sport touring           1\n",
       "Fighter                 1\n",
       "Sport-touring           1\n",
       "Tracker                 1\n",
       "Name: Body, dtype: int64"
      ]
     },
     "execution_count": 40,
     "metadata": {},
     "output_type": "execute_result"
    }
   ],
   "source": [
    "df['Body'].value_counts()"
   ]
  },
  {
   "cell_type": "markdown",
   "metadata": {},
   "source": [
    "##### Engine"
   ]
  },
  {
   "cell_type": "markdown",
   "metadata": {},
   "source": [
    "Didn't do anything with engine column as not lot of values provide unique information except some with cooling mechanisms.\n",
    "we can omit it for furthur analysis."
   ]
  },
  {
   "cell_type": "code",
   "execution_count": 41,
   "metadata": {},
   "outputs": [
    {
     "data": {
      "text/plain": [
       "Single-cylinder                                             50\n",
       "Electric                                                    31\n",
       "V-twin                                                      31\n",
       "Single-cylinder, air-cooled                                 22\n",
       "Single-cylinder, liquid-cooled                              20\n",
       "                                                            ..\n",
       "2                                                            1\n",
       "Single-cylinder, fuel-injected, air-cooled                   1\n",
       "Triple                                                       1\n",
       "Liquid-cooled, 4-cylinder, DOHC                              1\n",
       "Single cylinder, liquid-cooled, 4-stroke, 4-valves, SOHC     1\n",
       "Name: Engine, Length: 62, dtype: int64"
      ]
     },
     "execution_count": 41,
     "metadata": {},
     "output_type": "execute_result"
    }
   ],
   "source": [
    "df['Engine'].value_counts()"
   ]
  },
  {
   "cell_type": "markdown",
   "metadata": {},
   "source": [
    "##### Cylinders"
   ]
  },
  {
   "cell_type": "markdown",
   "metadata": {},
   "source": [
    "First filling in the null value present with appropriate value(google search)"
   ]
  },
  {
   "cell_type": "code",
   "execution_count": 42,
   "metadata": {},
   "outputs": [
    {
     "data": {
      "text/html": [
       "<div>\n",
       "<style scoped>\n",
       "    .dataframe tbody tr th:only-of-type {\n",
       "        vertical-align: middle;\n",
       "    }\n",
       "\n",
       "    .dataframe tbody tr th {\n",
       "        vertical-align: top;\n",
       "    }\n",
       "\n",
       "    .dataframe thead th {\n",
       "        text-align: right;\n",
       "    }\n",
       "</style>\n",
       "<table border=\"1\" class=\"dataframe\">\n",
       "  <thead>\n",
       "    <tr style=\"text-align: right;\">\n",
       "      <th></th>\n",
       "      <th>Company</th>\n",
       "      <th>Origin</th>\n",
       "      <th>Model</th>\n",
       "      <th>CC</th>\n",
       "      <th>Horsepower</th>\n",
       "      <th>Torque</th>\n",
       "      <th>Transmission</th>\n",
       "      <th>Drivetrain</th>\n",
       "      <th>Seating</th>\n",
       "      <th>Price(Lakhs)</th>\n",
       "      <th>Year</th>\n",
       "      <th>Looks</th>\n",
       "      <th>Body</th>\n",
       "      <th>Engine</th>\n",
       "      <th>Cylinders</th>\n",
       "    </tr>\n",
       "  </thead>\n",
       "  <tbody>\n",
       "    <tr>\n",
       "      <th>181</th>\n",
       "      <td>GasGas</td>\n",
       "      <td>Spain</td>\n",
       "      <td>SM 700</td>\n",
       "      <td>693.0</td>\n",
       "      <td>74.0</td>\n",
       "      <td>70.0</td>\n",
       "      <td>6-speed Manual</td>\n",
       "      <td>Chain</td>\n",
       "      <td>1</td>\n",
       "      <td>14.5</td>\n",
       "      <td>2023</td>\n",
       "      <td>Modern</td>\n",
       "      <td>Supermoto</td>\n",
       "      <td>Single</td>\n",
       "      <td>NaN</td>\n",
       "    </tr>\n",
       "  </tbody>\n",
       "</table>\n",
       "</div>"
      ],
      "text/plain": [
       "    Company Origin   Model     CC  Horsepower  Torque    Transmission  \\\n",
       "181  GasGas  Spain  SM 700  693.0        74.0    70.0  6-speed Manual   \n",
       "\n",
       "    Drivetrain  Seating  Price(Lakhs)  Year   Looks       Body  Engine  \\\n",
       "181      Chain        1          14.5  2023  Modern  Supermoto  Single   \n",
       "\n",
       "    Cylinders  \n",
       "181       NaN  "
      ]
     },
     "execution_count": 42,
     "metadata": {},
     "output_type": "execute_result"
    }
   ],
   "source": [
    "df.loc[df['Cylinders'].isnull()== True]"
   ]
  },
  {
   "cell_type": "code",
   "execution_count": 43,
   "metadata": {},
   "outputs": [],
   "source": [
    "df['Cylinders']=df['Cylinders'].replace(np.nan, '1')"
   ]
  },
  {
   "cell_type": "markdown",
   "metadata": {},
   "source": [
    "replacing similar meanings into one."
   ]
  },
  {
   "cell_type": "code",
   "execution_count": 44,
   "metadata": {},
   "outputs": [],
   "source": [
    "df.Cylinders = df['Cylinders'].replace(['Single','Two','One','90°','Three',\n",
    "                                        'Parallel-Twin'],['1','2','1','2','3','2'])"
   ]
  },
  {
   "cell_type": "code",
   "execution_count": 45,
   "metadata": {},
   "outputs": [
    {
     "data": {
      "text/plain": [
       "1    253\n",
       "2     82\n",
       "3     14\n",
       "4     11\n",
       "0      1\n",
       "Name: Cylinders, dtype: int64"
      ]
     },
     "execution_count": 45,
     "metadata": {},
     "output_type": "execute_result"
    }
   ],
   "source": [
    "df['Cylinders'].value_counts()"
   ]
  },
  {
   "cell_type": "code",
   "execution_count": 46,
   "metadata": {},
   "outputs": [],
   "source": [
    "df.to_csv('./bikes_data_transformed.csv')"
   ]
  },
  {
   "cell_type": "code",
   "execution_count": 52,
   "metadata": {},
   "outputs": [],
   "source": [
    "bike_looks.to_csv('./bike_looks_data.csv')"
   ]
  }
 ],
 "metadata": {
  "kernelspec": {
   "display_name": "Python 3",
   "language": "python",
   "name": "python3"
  },
  "language_info": {
   "codemirror_mode": {
    "name": "ipython",
    "version": 3
   },
   "file_extension": ".py",
   "mimetype": "text/x-python",
   "name": "python",
   "nbconvert_exporter": "python",
   "pygments_lexer": "ipython3",
   "version": "3.8.6"
  },
  "orig_nbformat": 4
 },
 "nbformat": 4,
 "nbformat_minor": 2
}
