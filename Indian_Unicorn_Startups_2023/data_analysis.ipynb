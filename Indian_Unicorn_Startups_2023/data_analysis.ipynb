{
 "cells": [
  {
   "cell_type": "markdown",
   "metadata": {},
   "source": [
    "Term 'unicorn' refers to privately held startups that have achieved evaluation of $1 billion or more.\n",
    "The file represents comprehensive snapshot as of June/2023."
   ]
  },
  {
   "cell_type": "markdown",
   "metadata": {},
   "source": [
    "1. '^' Graduated Unicorn:  A startup that has been publicaly listed or has been acquired by publicly listed company.\n",
    "2. '*' Former Unicorn: A startup that lost its unicorn status due to a valuation degrading event. "
   ]
  },
  {
   "cell_type": "code",
   "execution_count": 1,
   "metadata": {},
   "outputs": [],
   "source": [
    "import numpy as np\n",
    "import pandas as pd\n",
    "import matplotlib.pyplot as plt\n",
    "import seaborn as sns\n",
    "from datetime import datetime\n",
    "from dateutil import relativedelta\n",
    "import re\n",
    "import warnings \n",
    "warnings.filterwarnings('ignore')"
   ]
  },
  {
   "cell_type": "code",
   "execution_count": 2,
   "metadata": {},
   "outputs": [
    {
     "data": {
      "text/html": [
       "<div>\n",
       "<style scoped>\n",
       "    .dataframe tbody tr th:only-of-type {\n",
       "        vertical-align: middle;\n",
       "    }\n",
       "\n",
       "    .dataframe tbody tr th {\n",
       "        vertical-align: top;\n",
       "    }\n",
       "\n",
       "    .dataframe thead th {\n",
       "        text-align: right;\n",
       "    }\n",
       "</style>\n",
       "<table border=\"1\" class=\"dataframe\">\n",
       "  <thead>\n",
       "    <tr style=\"text-align: right;\">\n",
       "      <th></th>\n",
       "      <th>No.</th>\n",
       "      <th>Company</th>\n",
       "      <th>Sector</th>\n",
       "      <th>Entry Valuation^^ ($B)</th>\n",
       "      <th>Valuation ($B)</th>\n",
       "      <th>Entry</th>\n",
       "      <th>Location</th>\n",
       "      <th>Select Investors</th>\n",
       "    </tr>\n",
       "  </thead>\n",
       "  <tbody>\n",
       "    <tr>\n",
       "      <th>0</th>\n",
       "      <td>1</td>\n",
       "      <td>InMobi</td>\n",
       "      <td>Adtech - Mobile Ads</td>\n",
       "      <td>1.0</td>\n",
       "      <td>1.0</td>\n",
       "      <td>Sep/2011</td>\n",
       "      <td>Bangalore/Singapore</td>\n",
       "      <td>KPCB, Sherpalo Ventures, SoftBank</td>\n",
       "    </tr>\n",
       "    <tr>\n",
       "      <th>1</th>\n",
       "      <td>2</td>\n",
       "      <td>Flipkart^</td>\n",
       "      <td>E-Commerce</td>\n",
       "      <td>1.0</td>\n",
       "      <td>37.6</td>\n",
       "      <td>Feb/2012</td>\n",
       "      <td>Bangalore/Singapore</td>\n",
       "      <td>Accel, Tiger Global, Naspers, SoftBank, Tencent</td>\n",
       "    </tr>\n",
       "    <tr>\n",
       "      <th>2</th>\n",
       "      <td>3</td>\n",
       "      <td>Mu Sigma</td>\n",
       "      <td>SaaS - Analytics</td>\n",
       "      <td>1.0</td>\n",
       "      <td>1.5</td>\n",
       "      <td>Feb/2013</td>\n",
       "      <td>Bangalore/Chicago</td>\n",
       "      <td>Accel, Sequoia Capital, General Atlantic</td>\n",
       "    </tr>\n",
       "    <tr>\n",
       "      <th>3</th>\n",
       "      <td>4</td>\n",
       "      <td>Snapdeal*</td>\n",
       "      <td>E-Commerce</td>\n",
       "      <td>1.8</td>\n",
       "      <td>2.4</td>\n",
       "      <td>Oct/2014</td>\n",
       "      <td>Delhi</td>\n",
       "      <td>Kalaari Capital, Nexus Ventures, Bessemer, Sof...</td>\n",
       "    </tr>\n",
       "    <tr>\n",
       "      <th>4</th>\n",
       "      <td>5</td>\n",
       "      <td>PayTM^</td>\n",
       "      <td>Fintech - Payments &amp; Wallet</td>\n",
       "      <td>1.7</td>\n",
       "      <td>16.0</td>\n",
       "      <td>Feb/2015</td>\n",
       "      <td>Noida</td>\n",
       "      <td>Saama Capital, Elevation Capital, Alibaba, Ber...</td>\n",
       "    </tr>\n",
       "  </tbody>\n",
       "</table>\n",
       "</div>"
      ],
      "text/plain": [
       "   No.    Company                       Sector  Entry Valuation^^ ($B)  \\\n",
       "0    1     InMobi          Adtech - Mobile Ads                     1.0   \n",
       "1    2  Flipkart^                   E-Commerce                     1.0   \n",
       "2    3   Mu Sigma             SaaS - Analytics                     1.0   \n",
       "3    4  Snapdeal*                   E-Commerce                     1.8   \n",
       "4    5     PayTM^  Fintech - Payments & Wallet                     1.7   \n",
       "\n",
       "   Valuation ($B)     Entry             Location  \\\n",
       "0             1.0  Sep/2011  Bangalore/Singapore   \n",
       "1            37.6  Feb/2012  Bangalore/Singapore   \n",
       "2             1.5  Feb/2013    Bangalore/Chicago   \n",
       "3             2.4  Oct/2014                Delhi   \n",
       "4            16.0  Feb/2015                Noida   \n",
       "\n",
       "                                    Select Investors  \n",
       "0                  KPCB, Sherpalo Ventures, SoftBank  \n",
       "1    Accel, Tiger Global, Naspers, SoftBank, Tencent  \n",
       "2           Accel, Sequoia Capital, General Atlantic  \n",
       "3  Kalaari Capital, Nexus Ventures, Bessemer, Sof...  \n",
       "4  Saama Capital, Elevation Capital, Alibaba, Ber...  "
      ]
     },
     "execution_count": 2,
     "metadata": {},
     "output_type": "execute_result"
    }
   ],
   "source": [
    "df = pd.read_csv('./Indian_Unicorn_startups_2023.csv')\n",
    "df.head()"
   ]
  },
  {
   "cell_type": "code",
   "execution_count": 3,
   "metadata": {},
   "outputs": [
    {
     "data": {
      "text/plain": [
       "(102, 8)"
      ]
     },
     "execution_count": 3,
     "metadata": {},
     "output_type": "execute_result"
    }
   ],
   "source": [
    "df.shape"
   ]
  },
  {
   "cell_type": "markdown",
   "metadata": {},
   "source": [
    "As of June 2023, we have 102 Startups in the \"Unicorn Club\"."
   ]
  },
  {
   "cell_type": "code",
   "execution_count": 4,
   "metadata": {},
   "outputs": [
    {
     "name": "stdout",
     "output_type": "stream",
     "text": [
      "<class 'pandas.core.frame.DataFrame'>\n",
      "RangeIndex: 102 entries, 0 to 101\n",
      "Data columns (total 8 columns):\n",
      " #   Column                  Non-Null Count  Dtype  \n",
      "---  ------                  --------------  -----  \n",
      " 0   No.                     102 non-null    int64  \n",
      " 1   Company                 102 non-null    object \n",
      " 2   Sector                  102 non-null    object \n",
      " 3   Entry Valuation^^ ($B)  102 non-null    float64\n",
      " 4   Valuation ($B)          102 non-null    float64\n",
      " 5   Entry                   102 non-null    object \n",
      " 6   Location                102 non-null    object \n",
      " 7   Select Investors        102 non-null    object \n",
      "dtypes: float64(2), int64(1), object(5)\n",
      "memory usage: 6.5+ KB\n"
     ]
    }
   ],
   "source": [
    "df.info()"
   ]
  },
  {
   "cell_type": "markdown",
   "metadata": {},
   "source": [
    "No null values are present."
   ]
  },
  {
   "cell_type": "markdown",
   "metadata": {},
   "source": [
    "Let's rename some columns to avoid any inconvenience."
   ]
  },
  {
   "cell_type": "code",
   "execution_count": 5,
   "metadata": {},
   "outputs": [
    {
     "data": {
      "text/plain": [
       "Index(['No.', 'Company', 'Sector', 'Entry_valuation($B)',\n",
       "       'Current_valuation($B)', 'Entry', 'Location', 'Investors'],\n",
       "      dtype='object')"
      ]
     },
     "execution_count": 5,
     "metadata": {},
     "output_type": "execute_result"
    }
   ],
   "source": [
    "df = df.rename(columns={'Entry Valuation^^ ($B)':'Entry_valuation($B)','Valuation ($B)':'Current_valuation($B)','Select Investors':'Investors'})\n",
    "df.columns"
   ]
  },
  {
   "cell_type": "markdown",
   "metadata": {},
   "source": [
    "Lets check how data is divided with each feature."
   ]
  },
  {
   "cell_type": "code",
   "execution_count": 6,
   "metadata": {},
   "outputs": [
    {
     "data": {
      "text/plain": [
       "No.                      102\n",
       "Company                  102\n",
       "Sector                    75\n",
       "Entry_valuation($B)       26\n",
       "Current_valuation($B)     46\n",
       "Entry                     50\n",
       "Location                  27\n",
       "Investors                102\n",
       "dtype: int64"
      ]
     },
     "execution_count": 6,
     "metadata": {},
     "output_type": "execute_result"
    }
   ],
   "source": [
    "df.nunique()"
   ]
  },
  {
   "cell_type": "markdown",
   "metadata": {},
   "source": [
    "No. and Company have all unique values."
   ]
  },
  {
   "cell_type": "markdown",
   "metadata": {},
   "source": [
    "But, if looked at Company column, There are some values with '^' and '*'. As mentioned at top these are different from a reguler startup. So, lets categarise them."
   ]
  },
  {
   "cell_type": "code",
   "execution_count": null,
   "metadata": {},
   "outputs": [],
   "source": [
    "def type_assign(company):\n",
    "    if '^' in company:\n",
    "        return 'GU'\n",
    "    elif '*' in company:\n",
    "        return 'FU'\n",
    "    else:\n",
    "        return 'U'\n",
    "df['Type'] = df['Company'].apply(lambda x: type_assign(x))"
   ]
  },
  {
   "cell_type": "markdown",
   "metadata": {},
   "source": [
    "If looked at Sector column, it has some values as Sector while some values as Sector-domain. For consistency, lets keep only sector values."
   ]
  },
  {
   "cell_type": "code",
   "execution_count": 8,
   "metadata": {},
   "outputs": [],
   "source": [
    "df.Sector = [sector.split(' ')[0] if '-' in sector else sector for sector in df.Sector]"
   ]
  },
  {
   "cell_type": "code",
   "execution_count": 9,
   "metadata": {},
   "outputs": [
    {
     "data": {
      "text/plain": [
       "array(['Adtech', 'E-Commerce', 'SaaS', 'E-Commerce', 'Fintech',\n",
       "       'Mobility', 'Marketplace', 'Foodtech', 'E-Commerce', 'Social',\n",
       "       'Edtech', 'E-Commerce', 'Foodtech', 'Fintech', 'SaaS', 'Proptech',\n",
       "       'B2B', 'Fintech', 'Logistics Services', 'Logistics', 'E-Commerce',\n",
       "       'Gaming', 'SaaS', 'SaaS', 'IT', 'Mobility', 'E-Commerce',\n",
       "       'Fintech', 'E-Commerce', 'SaaS', 'Edtech', 'Fintech',\n",
       "       'Marketplace', 'Fintech', 'SaaS', 'Content', 'Content', 'Fintech',\n",
       "       'SaaS', 'B2B', 'NBFC', 'E-Commerce', 'E-Commerce', 'Fintech',\n",
       "       'E-Commerce', 'Fintech', 'Social Media',\n",
       "       'Conversational Messaging', 'SaaS', 'Marketplace', 'B2B',\n",
       "       'Fintech', 'SaaS', 'Logistics Services', 'Marketplace', 'NBFC',\n",
       "       'Fintech', 'SaaS', 'Edtech', 'Cryptocurrency Exchange', 'Edtech',\n",
       "       'E-Commerce', 'Marketplace', 'Gaming', 'Marketplace', 'Edtech',\n",
       "       'D2C', 'Cryptocurrency Exchange', 'Foodtech', 'Marketplace',\n",
       "       'Fintech', 'D2C', 'Healthtech', 'Aggregator', 'Proptech',\n",
       "       'Marketplace', 'Fintech', 'Fintech', 'Healthtech', 'D2C',\n",
       "       'Aggregator', 'SaaS', 'Edtech', 'SaaS', 'E-Commerce', 'Web3',\n",
       "       'Logistics Services', 'Interior', 'Logistics Services', 'SaaS',\n",
       "       'SaaS', 'Marketplace', 'SaaS', 'Fintech', 'Gaming', 'Fintech',\n",
       "       'Edtech', 'E-Commerce', 'SaaS', 'Fintech', 'Aggregator',\n",
       "       'Healthtech'], dtype=object)"
      ]
     },
     "execution_count": 9,
     "metadata": {},
     "output_type": "execute_result"
    }
   ],
   "source": [
    "df.Sector.values"
   ]
  },
  {
   "cell_type": "markdown",
   "metadata": {},
   "source": [
    "Seems to have worked."
   ]
  },
  {
   "cell_type": "markdown",
   "metadata": {},
   "source": [
    "Same is with Location column. Some values are native branches and some are native/foreign branches. for consistency, we will remove the foreign branches."
   ]
  },
  {
   "cell_type": "code",
   "execution_count": null,
   "metadata": {},
   "outputs": [],
   "source": [
    "locations = [location.split('/')[0] if '/' in location else location for location in df.Location]\n",
    "df.Location = locations"
   ]
  },
  {
   "cell_type": "markdown",
   "metadata": {},
   "source": [
    "Now, lets create new column for the time it has been for each startup, since joining the unicorn club."
   ]
  },
  {
   "cell_type": "code",
   "execution_count": 10,
   "metadata": {},
   "outputs": [],
   "source": [
    "date2 = datetime.strptime('Jun/2023','%b/%Y')\n",
    "\n",
    "def time_period(date1,x):\n",
    "    date2 = datetime.strptime(x,'%b/%Y')\n",
    "    diff = relativedelta.relativedelta(date1,date2)\n",
    "    return np.round((diff.years + diff.months/12),2)\n",
    "\n",
    "df['time_period'] = df['Entry'].apply(lambda x: time_period(date2,x))"
   ]
  },
  {
   "cell_type": "code",
   "execution_count": 11,
   "metadata": {},
   "outputs": [
    {
     "data": {
      "text/plain": [
       "0      11.75\n",
       "1      11.33\n",
       "2      10.33\n",
       "3       8.67\n",
       "4       8.33\n",
       "       ...  \n",
       "97      1.00\n",
       "98      1.00\n",
       "99      0.92\n",
       "100     0.83\n",
       "101     0.75\n",
       "Name: time_period, Length: 102, dtype: float64"
      ]
     },
     "execution_count": 11,
     "metadata": {},
     "output_type": "execute_result"
    }
   ],
   "source": [
    "df.time_period"
   ]
  },
  {
   "cell_type": "markdown",
   "metadata": {},
   "source": [
    "Also, lets create column for change in valuation over this period"
   ]
  },
  {
   "cell_type": "code",
   "execution_count": 12,
   "metadata": {},
   "outputs": [],
   "source": [
    "df['value_over_period'] = df['Current_valuation($B)'] - df['Entry_valuation($B)']"
   ]
  },
  {
   "cell_type": "markdown",
   "metadata": {},
   "source": [
    "For per year change,"
   ]
  },
  {
   "cell_type": "code",
   "execution_count": 13,
   "metadata": {},
   "outputs": [],
   "source": [
    "df['eval_rise_per_year'] = np.round(df['value_over_period']/df['time_period'],2)"
   ]
  },
  {
   "cell_type": "markdown",
   "metadata": {},
   "source": [
    "Lets see the dataset after all the changes."
   ]
  },
  {
   "cell_type": "code",
   "execution_count": 18,
   "metadata": {},
   "outputs": [
    {
     "data": {
      "text/html": [
       "<div>\n",
       "<style scoped>\n",
       "    .dataframe tbody tr th:only-of-type {\n",
       "        vertical-align: middle;\n",
       "    }\n",
       "\n",
       "    .dataframe tbody tr th {\n",
       "        vertical-align: top;\n",
       "    }\n",
       "\n",
       "    .dataframe thead th {\n",
       "        text-align: right;\n",
       "    }\n",
       "</style>\n",
       "<table border=\"1\" class=\"dataframe\">\n",
       "  <thead>\n",
       "    <tr style=\"text-align: right;\">\n",
       "      <th></th>\n",
       "      <th>No.</th>\n",
       "      <th>Company</th>\n",
       "      <th>Sector</th>\n",
       "      <th>Entry_valuation($B)</th>\n",
       "      <th>Current_valuation($B)</th>\n",
       "      <th>Entry</th>\n",
       "      <th>Location</th>\n",
       "      <th>Investors</th>\n",
       "      <th>time_period</th>\n",
       "      <th>value_over_period</th>\n",
       "      <th>eval_rise_per_year</th>\n",
       "      <th>Type</th>\n",
       "    </tr>\n",
       "  </thead>\n",
       "  <tbody>\n",
       "    <tr>\n",
       "      <th>0</th>\n",
       "      <td>1</td>\n",
       "      <td>InMobi</td>\n",
       "      <td>Adtech</td>\n",
       "      <td>1.0</td>\n",
       "      <td>1.0</td>\n",
       "      <td>Sep/2011</td>\n",
       "      <td>Bangalore</td>\n",
       "      <td>KPCB, Sherpalo Ventures, SoftBank</td>\n",
       "      <td>11.75</td>\n",
       "      <td>0.0</td>\n",
       "      <td>0.00</td>\n",
       "      <td>U</td>\n",
       "    </tr>\n",
       "    <tr>\n",
       "      <th>1</th>\n",
       "      <td>2</td>\n",
       "      <td>Flipkart^</td>\n",
       "      <td>E-Commerce</td>\n",
       "      <td>1.0</td>\n",
       "      <td>37.6</td>\n",
       "      <td>Feb/2012</td>\n",
       "      <td>Bangalore</td>\n",
       "      <td>Accel, Tiger Global, Naspers, SoftBank, Tencent</td>\n",
       "      <td>11.33</td>\n",
       "      <td>36.6</td>\n",
       "      <td>3.23</td>\n",
       "      <td>GU</td>\n",
       "    </tr>\n",
       "    <tr>\n",
       "      <th>2</th>\n",
       "      <td>3</td>\n",
       "      <td>Mu Sigma</td>\n",
       "      <td>SaaS</td>\n",
       "      <td>1.0</td>\n",
       "      <td>1.5</td>\n",
       "      <td>Feb/2013</td>\n",
       "      <td>Bangalore</td>\n",
       "      <td>Accel, Sequoia Capital, General Atlantic</td>\n",
       "      <td>10.33</td>\n",
       "      <td>0.5</td>\n",
       "      <td>0.05</td>\n",
       "      <td>U</td>\n",
       "    </tr>\n",
       "    <tr>\n",
       "      <th>3</th>\n",
       "      <td>4</td>\n",
       "      <td>Snapdeal*</td>\n",
       "      <td>E-Commerce</td>\n",
       "      <td>1.8</td>\n",
       "      <td>2.4</td>\n",
       "      <td>Oct/2014</td>\n",
       "      <td>Delhi</td>\n",
       "      <td>Kalaari Capital, Nexus Ventures, Bessemer, Sof...</td>\n",
       "      <td>8.67</td>\n",
       "      <td>0.6</td>\n",
       "      <td>0.07</td>\n",
       "      <td>FU</td>\n",
       "    </tr>\n",
       "    <tr>\n",
       "      <th>4</th>\n",
       "      <td>5</td>\n",
       "      <td>PayTM^</td>\n",
       "      <td>Fintech</td>\n",
       "      <td>1.7</td>\n",
       "      <td>16.0</td>\n",
       "      <td>Feb/2015</td>\n",
       "      <td>Noida</td>\n",
       "      <td>Saama Capital, Elevation Capital, Alibaba, Ber...</td>\n",
       "      <td>8.33</td>\n",
       "      <td>14.3</td>\n",
       "      <td>1.72</td>\n",
       "      <td>GU</td>\n",
       "    </tr>\n",
       "  </tbody>\n",
       "</table>\n",
       "</div>"
      ],
      "text/plain": [
       "   No.    Company      Sector  Entry_valuation($B)  Current_valuation($B)  \\\n",
       "0    1     InMobi      Adtech                  1.0                    1.0   \n",
       "1    2  Flipkart^  E-Commerce                  1.0                   37.6   \n",
       "2    3   Mu Sigma        SaaS                  1.0                    1.5   \n",
       "3    4  Snapdeal*  E-Commerce                  1.8                    2.4   \n",
       "4    5     PayTM^     Fintech                  1.7                   16.0   \n",
       "\n",
       "      Entry   Location                                          Investors  \\\n",
       "0  Sep/2011  Bangalore                  KPCB, Sherpalo Ventures, SoftBank   \n",
       "1  Feb/2012  Bangalore    Accel, Tiger Global, Naspers, SoftBank, Tencent   \n",
       "2  Feb/2013  Bangalore           Accel, Sequoia Capital, General Atlantic   \n",
       "3  Oct/2014      Delhi  Kalaari Capital, Nexus Ventures, Bessemer, Sof...   \n",
       "4  Feb/2015      Noida  Saama Capital, Elevation Capital, Alibaba, Ber...   \n",
       "\n",
       "   time_period  value_over_period  eval_rise_per_year Type  \n",
       "0        11.75                0.0                0.00    U  \n",
       "1        11.33               36.6                3.23   GU  \n",
       "2        10.33                0.5                0.05    U  \n",
       "3         8.67                0.6                0.07   FU  \n",
       "4         8.33               14.3                1.72   GU  "
      ]
     },
     "execution_count": 18,
     "metadata": {},
     "output_type": "execute_result"
    }
   ],
   "source": [
    "df.head()"
   ]
  },
  {
   "cell_type": "code",
   "execution_count": 19,
   "metadata": {},
   "outputs": [
    {
     "data": {
      "text/html": [
       "<div>\n",
       "<style scoped>\n",
       "    .dataframe tbody tr th:only-of-type {\n",
       "        vertical-align: middle;\n",
       "    }\n",
       "\n",
       "    .dataframe tbody tr th {\n",
       "        vertical-align: top;\n",
       "    }\n",
       "\n",
       "    .dataframe thead th {\n",
       "        text-align: right;\n",
       "    }\n",
       "</style>\n",
       "<table border=\"1\" class=\"dataframe\">\n",
       "  <thead>\n",
       "    <tr style=\"text-align: right;\">\n",
       "      <th></th>\n",
       "      <th>No.</th>\n",
       "      <th>Entry_valuation($B)</th>\n",
       "      <th>Current_valuation($B)</th>\n",
       "      <th>time_period</th>\n",
       "      <th>value_over_period</th>\n",
       "      <th>eval_rise_per_year</th>\n",
       "    </tr>\n",
       "  </thead>\n",
       "  <tbody>\n",
       "    <tr>\n",
       "      <th>count</th>\n",
       "      <td>102.000000</td>\n",
       "      <td>102.000000</td>\n",
       "      <td>102.000000</td>\n",
       "      <td>102.000000</td>\n",
       "      <td>102.000000</td>\n",
       "      <td>102.000000</td>\n",
       "    </tr>\n",
       "    <tr>\n",
       "      <th>mean</th>\n",
       "      <td>51.500000</td>\n",
       "      <td>1.547549</td>\n",
       "      <td>3.398020</td>\n",
       "      <td>2.949412</td>\n",
       "      <td>1.850471</td>\n",
       "      <td>0.455588</td>\n",
       "    </tr>\n",
       "    <tr>\n",
       "      <th>std</th>\n",
       "      <td>29.588849</td>\n",
       "      <td>1.138013</td>\n",
       "      <td>4.710657</td>\n",
       "      <td>2.314631</td>\n",
       "      <td>4.590741</td>\n",
       "      <td>0.755607</td>\n",
       "    </tr>\n",
       "    <tr>\n",
       "      <th>min</th>\n",
       "      <td>1.000000</td>\n",
       "      <td>1.000000</td>\n",
       "      <td>0.568000</td>\n",
       "      <td>0.750000</td>\n",
       "      <td>-0.432000</td>\n",
       "      <td>-0.240000</td>\n",
       "    </tr>\n",
       "    <tr>\n",
       "      <th>25%</th>\n",
       "      <td>26.250000</td>\n",
       "      <td>1.000000</td>\n",
       "      <td>1.200000</td>\n",
       "      <td>1.580000</td>\n",
       "      <td>0.000000</td>\n",
       "      <td>0.000000</td>\n",
       "    </tr>\n",
       "    <tr>\n",
       "      <th>50%</th>\n",
       "      <td>51.500000</td>\n",
       "      <td>1.200000</td>\n",
       "      <td>1.850000</td>\n",
       "      <td>2.080000</td>\n",
       "      <td>0.000000</td>\n",
       "      <td>0.000000</td>\n",
       "    </tr>\n",
       "    <tr>\n",
       "      <th>75%</th>\n",
       "      <td>76.750000</td>\n",
       "      <td>1.582500</td>\n",
       "      <td>3.475000</td>\n",
       "      <td>3.877500</td>\n",
       "      <td>2.000000</td>\n",
       "      <td>0.760000</td>\n",
       "    </tr>\n",
       "    <tr>\n",
       "      <th>max</th>\n",
       "      <td>102.000000</td>\n",
       "      <td>10.000000</td>\n",
       "      <td>37.600000</td>\n",
       "      <td>11.750000</td>\n",
       "      <td>36.600000</td>\n",
       "      <td>3.870000</td>\n",
       "    </tr>\n",
       "  </tbody>\n",
       "</table>\n",
       "</div>"
      ],
      "text/plain": [
       "              No.  Entry_valuation($B)  Current_valuation($B)  time_period  \\\n",
       "count  102.000000           102.000000             102.000000   102.000000   \n",
       "mean    51.500000             1.547549               3.398020     2.949412   \n",
       "std     29.588849             1.138013               4.710657     2.314631   \n",
       "min      1.000000             1.000000               0.568000     0.750000   \n",
       "25%     26.250000             1.000000               1.200000     1.580000   \n",
       "50%     51.500000             1.200000               1.850000     2.080000   \n",
       "75%     76.750000             1.582500               3.475000     3.877500   \n",
       "max    102.000000            10.000000              37.600000    11.750000   \n",
       "\n",
       "       value_over_period  eval_rise_per_year  \n",
       "count         102.000000          102.000000  \n",
       "mean            1.850471            0.455588  \n",
       "std             4.590741            0.755607  \n",
       "min            -0.432000           -0.240000  \n",
       "25%             0.000000            0.000000  \n",
       "50%             0.000000            0.000000  \n",
       "75%             2.000000            0.760000  \n",
       "max            36.600000            3.870000  "
      ]
     },
     "execution_count": 19,
     "metadata": {},
     "output_type": "execute_result"
    }
   ],
   "source": [
    "df.describe()"
   ]
  },
  {
   "cell_type": "markdown",
   "metadata": {},
   "source": [
    "#### UNIVARIATE ANALYSIS"
   ]
  },
  {
   "cell_type": "markdown",
   "metadata": {},
   "source": [
    "In this section, we will analyse mean,mode,uniques for each feature separately."
   ]
  },
  {
   "cell_type": "markdown",
   "metadata": {},
   "source": [
    "##### Sector"
   ]
  },
  {
   "cell_type": "code",
   "execution_count": 20,
   "metadata": {},
   "outputs": [
    {
     "data": {
      "text/plain": [
       "25"
      ]
     },
     "execution_count": 20,
     "metadata": {},
     "output_type": "execute_result"
    }
   ],
   "source": [
    "df.Sector.nunique()"
   ]
  },
  {
   "cell_type": "code",
   "execution_count": 21,
   "metadata": {},
   "outputs": [],
   "source": [
    "sector_data = df.Sector.value_counts().reset_index().rename(columns={'index':'Sector','Sector':'unicorns'})"
   ]
  },
  {
   "cell_type": "code",
   "execution_count": 22,
   "metadata": {},
   "outputs": [
    {
     "name": "stdout",
     "output_type": "stream",
     "text": [
      "Top 5 most successful sectors:\n"
     ]
    },
    {
     "data": {
      "text/html": [
       "<div>\n",
       "<style scoped>\n",
       "    .dataframe tbody tr th:only-of-type {\n",
       "        vertical-align: middle;\n",
       "    }\n",
       "\n",
       "    .dataframe tbody tr th {\n",
       "        vertical-align: top;\n",
       "    }\n",
       "\n",
       "    .dataframe thead th {\n",
       "        text-align: right;\n",
       "    }\n",
       "</style>\n",
       "<table border=\"1\" class=\"dataframe\">\n",
       "  <thead>\n",
       "    <tr style=\"text-align: right;\">\n",
       "      <th></th>\n",
       "      <th>Sector</th>\n",
       "      <th>unicorns</th>\n",
       "    </tr>\n",
       "  </thead>\n",
       "  <tbody>\n",
       "    <tr>\n",
       "      <th>0</th>\n",
       "      <td>Fintech</td>\n",
       "      <td>17</td>\n",
       "    </tr>\n",
       "    <tr>\n",
       "      <th>1</th>\n",
       "      <td>SaaS</td>\n",
       "      <td>16</td>\n",
       "    </tr>\n",
       "    <tr>\n",
       "      <th>2</th>\n",
       "      <td>E-Commerce</td>\n",
       "      <td>13</td>\n",
       "    </tr>\n",
       "    <tr>\n",
       "      <th>3</th>\n",
       "      <td>Marketplace</td>\n",
       "      <td>9</td>\n",
       "    </tr>\n",
       "    <tr>\n",
       "      <th>4</th>\n",
       "      <td>Edtech</td>\n",
       "      <td>7</td>\n",
       "    </tr>\n",
       "  </tbody>\n",
       "</table>\n",
       "</div>"
      ],
      "text/plain": [
       "        Sector  unicorns\n",
       "0      Fintech        17\n",
       "1         SaaS        16\n",
       "2   E-Commerce        13\n",
       "3  Marketplace         9\n",
       "4       Edtech         7"
      ]
     },
     "execution_count": 22,
     "metadata": {},
     "output_type": "execute_result"
    }
   ],
   "source": [
    "print('Top 5 most successful sectors:')\n",
    "sector_data.head(5)"
   ]
  },
  {
   "cell_type": "markdown",
   "metadata": {},
   "source": [
    "There are <strong>17</strong> startups from <strong>Fintech Sector</strong> that are entered the Unicorn Club."
   ]
  },
  {
   "cell_type": "code",
   "execution_count": 23,
   "metadata": {},
   "outputs": [
    {
     "name": "stdout",
     "output_type": "stream",
     "text": [
      "Top 5 least successful sectors:\n"
     ]
    },
    {
     "data": {
      "text/html": [
       "<div>\n",
       "<style scoped>\n",
       "    .dataframe tbody tr th:only-of-type {\n",
       "        vertical-align: middle;\n",
       "    }\n",
       "\n",
       "    .dataframe tbody tr th {\n",
       "        vertical-align: top;\n",
       "    }\n",
       "\n",
       "    .dataframe thead th {\n",
       "        text-align: right;\n",
       "    }\n",
       "</style>\n",
       "<table border=\"1\" class=\"dataframe\">\n",
       "  <thead>\n",
       "    <tr style=\"text-align: right;\">\n",
       "      <th></th>\n",
       "      <th>Sector</th>\n",
       "      <th>unicorns</th>\n",
       "    </tr>\n",
       "  </thead>\n",
       "  <tbody>\n",
       "    <tr>\n",
       "      <th>20</th>\n",
       "      <td>Conversational Messaging</td>\n",
       "      <td>1</td>\n",
       "    </tr>\n",
       "    <tr>\n",
       "      <th>21</th>\n",
       "      <td>Social Media</td>\n",
       "      <td>1</td>\n",
       "    </tr>\n",
       "    <tr>\n",
       "      <th>22</th>\n",
       "      <td>IT</td>\n",
       "      <td>1</td>\n",
       "    </tr>\n",
       "    <tr>\n",
       "      <th>23</th>\n",
       "      <td>Social</td>\n",
       "      <td>1</td>\n",
       "    </tr>\n",
       "    <tr>\n",
       "      <th>24</th>\n",
       "      <td>Interior</td>\n",
       "      <td>1</td>\n",
       "    </tr>\n",
       "  </tbody>\n",
       "</table>\n",
       "</div>"
      ],
      "text/plain": [
       "                      Sector  unicorns\n",
       "20  Conversational Messaging         1\n",
       "21              Social Media         1\n",
       "22                        IT         1\n",
       "23                    Social         1\n",
       "24                  Interior         1"
      ]
     },
     "execution_count": 23,
     "metadata": {},
     "output_type": "execute_result"
    }
   ],
   "source": [
    "print('Top 5 least successful sectors:')\n",
    "sector_data.tail(5)"
   ]
  },
  {
   "cell_type": "markdown",
   "metadata": {},
   "source": [
    "##### Entry Valuation"
   ]
  },
  {
   "cell_type": "code",
   "execution_count": 24,
   "metadata": {},
   "outputs": [
    {
     "data": {
      "text/plain": [
       "1.5475490196078432"
      ]
     },
     "execution_count": 24,
     "metadata": {},
     "output_type": "execute_result"
    }
   ],
   "source": [
    "df['Entry_valuation($B)'].mean()"
   ]
  },
  {
   "cell_type": "markdown",
   "metadata": {},
   "source": [
    "The Avg. valuation at Entry time is <strong>1.5B $</strong>"
   ]
  },
  {
   "cell_type": "code",
   "execution_count": 25,
   "metadata": {},
   "outputs": [
    {
     "name": "stdout",
     "output_type": "stream",
     "text": [
      "Startup with the most valuation at time of joining Unicorn club:\n",
      "Polygon : 10.0 B$\n",
      "Startup with the least valuation at time of joining Unicorn club:\n",
      "InMobi : 1.0 B$\n"
     ]
    }
   ],
   "source": [
    "print('Startup with the most valuation at time of joining Unicorn club:')\n",
    "print(df[df['Entry_valuation($B)'] == df['Entry_valuation($B)'].max()]['Company'].values[0],':',df['Entry_valuation($B)'].max(),'B$')\n",
    "print('Startup with the least valuation at time of joining Unicorn club:')\n",
    "print(df[df['Entry_valuation($B)'] == df['Entry_valuation($B)'].min()]['Company'].values[0],':',df['Entry_valuation($B)'].min(),\"B$\")"
   ]
  },
  {
   "cell_type": "markdown",
   "metadata": {},
   "source": [
    "##### Current valuation"
   ]
  },
  {
   "cell_type": "code",
   "execution_count": 26,
   "metadata": {},
   "outputs": [
    {
     "data": {
      "text/plain": [
       "3.3980196078431373"
      ]
     },
     "execution_count": 26,
     "metadata": {},
     "output_type": "execute_result"
    }
   ],
   "source": [
    "df['Current_valuation($B)'].mean()"
   ]
  },
  {
   "cell_type": "markdown",
   "metadata": {},
   "source": [
    "The average valuation at the moment for a unicorn is <strong>3.4B $</strong>"
   ]
  },
  {
   "cell_type": "code",
   "execution_count": 27,
   "metadata": {},
   "outputs": [
    {
     "name": "stdout",
     "output_type": "stream",
     "text": [
      "Startup with the most current valuation:\n",
      "Flipkart^ : 37.6 B$\n",
      "Startup with the least current valuation:\n",
      "Blinkit^ : 0.568 B$\n"
     ]
    }
   ],
   "source": [
    "print('Startup with the most current valuation:')\n",
    "print(df[df['Current_valuation($B)'] == df['Current_valuation($B)'].max()]['Company'].values[0],':',df['Current_valuation($B)'].max(),'B$')\n",
    "print('Startup with the least current valuation:')\n",
    "print(df[df['Current_valuation($B)'] == df['Current_valuation($B)'].min()]['Company'].values[0],':',df['Current_valuation($B)'].min(),\"B$\")"
   ]
  },
  {
   "cell_type": "markdown",
   "metadata": {},
   "source": [
    "##### Entry Year"
   ]
  },
  {
   "cell_type": "code",
   "execution_count": 28,
   "metadata": {},
   "outputs": [
    {
     "data": {
      "text/plain": [
       "2021    44\n",
       "2022    21\n",
       "2020    10\n",
       "2019     9\n",
       "2018     8\n",
       "2015     4\n",
       "2016     2\n",
       "2011     1\n",
       "2012     1\n",
       "2013     1\n",
       "2014     1\n",
       "Name: Entry, dtype: int64"
      ]
     },
     "execution_count": 28,
     "metadata": {},
     "output_type": "execute_result"
    }
   ],
   "source": [
    "pd.to_datetime(df['Entry']).dt.year.value_counts()"
   ]
  },
  {
   "cell_type": "markdown",
   "metadata": {},
   "source": [
    "The startup industry were slowly growing till 2015, but rapid change in development is seen as the more and more startups started seeing the success."
   ]
  },
  {
   "cell_type": "markdown",
   "metadata": {},
   "source": [
    "##### Location"
   ]
  },
  {
   "cell_type": "code",
   "execution_count": 29,
   "metadata": {},
   "outputs": [
    {
     "data": {
      "text/plain": [
       "11"
      ]
     },
     "execution_count": 29,
     "metadata": {},
     "output_type": "execute_result"
    }
   ],
   "source": [
    "df.Location.nunique()"
   ]
  },
  {
   "cell_type": "code",
   "execution_count": 30,
   "metadata": {},
   "outputs": [
    {
     "data": {
      "text/plain": [
       "Bangalore    41\n",
       "Mumbai       17\n",
       "Gurgaon      14\n",
       "Delhi         7\n",
       "Noida         6\n",
       "Pune          6\n",
       "Chennai       5\n",
       "Hyderabad     2\n",
       "Jaipur        2\n",
       "Thane         1\n",
       "Goa           1\n",
       "Name: Location, dtype: int64"
      ]
     },
     "execution_count": 30,
     "metadata": {},
     "output_type": "execute_result"
    }
   ],
   "source": [
    "df.Location.value_counts()"
   ]
  },
  {
   "cell_type": "markdown",
   "metadata": {},
   "source": [
    "The IT hub of India seems to be attracting the startups for rapid growth."
   ]
  },
  {
   "cell_type": "markdown",
   "metadata": {},
   "source": [
    "##### Investors"
   ]
  },
  {
   "cell_type": "code",
   "execution_count": 31,
   "metadata": {},
   "outputs": [],
   "source": [
    "Investors_data = df[['Company','Investors']]"
   ]
  },
  {
   "cell_type": "code",
   "execution_count": 32,
   "metadata": {},
   "outputs": [
    {
     "data": {
      "text/plain": [
       "0                  [KPCB,  Sherpalo Ventures,  SoftBank]\n",
       "1      [Accel,  Tiger Global,  Naspers,  SoftBank,  T...\n",
       "2           [Accel,  Sequoia Capital,  General Atlantic]\n",
       "3      [Kalaari Capital,  Nexus Ventures,  Bessemer, ...\n",
       "4      [Saama Capital,  Elevation Capital,  Alibaba, ...\n",
       "                             ...                        \n",
       "97     [JSW Ventures,  IvyCap Ventures,  Blume Ventur...\n",
       "98       [Stakeboat Capital,  Gaja Capital,  WestBridge]\n",
       "99     [QED Investors,  Matrix Partners India,  Sequo...\n",
       "100    [Lightrock India,  Info Edge,  Tribe Capital, ...\n",
       "101                            [Temasek,  Motilal Oswal]\n",
       "Name: Investors, Length: 102, dtype: object"
      ]
     },
     "execution_count": 32,
     "metadata": {},
     "output_type": "execute_result"
    }
   ],
   "source": [
    "Investors_data['Investors'] = df['Investors'].apply(lambda x:x.split(','))\n",
    "Investors_data['Investors']"
   ]
  },
  {
   "cell_type": "code",
   "execution_count": 33,
   "metadata": {},
   "outputs": [],
   "source": [
    "Investors_data = Investors_data.explode('Investors').reset_index(drop=True)\n",
    "Investors_data.Investors = Investors_data.Investors.str.strip()"
   ]
  },
  {
   "cell_type": "code",
   "execution_count": 34,
   "metadata": {},
   "outputs": [
    {
     "data": {
      "text/plain": [
       "102"
      ]
     },
     "execution_count": 34,
     "metadata": {},
     "output_type": "execute_result"
    }
   ],
   "source": [
    "df.Investors.nunique()"
   ]
  },
  {
   "cell_type": "code",
   "execution_count": 35,
   "metadata": {},
   "outputs": [
    {
     "data": {
      "text/plain": [
       "Tiger Global             38\n",
       "Sequoia Capital India    25\n",
       "SoftBank                 20\n",
       "Accel India              15\n",
       "Steadview Capital        14\n",
       "Elevation Capital        12\n",
       "Tencent                   9\n",
       "Norwest                   9\n",
       "Lightspeed Ventures       9\n",
       "Alpha Wave Global         8\n",
       "Name: Investors, dtype: int64"
      ]
     },
     "execution_count": 35,
     "metadata": {},
     "output_type": "execute_result"
    }
   ],
   "source": [
    "Investors_data.Investors.value_counts()[:10]"
   ]
  },
  {
   "cell_type": "markdown",
   "metadata": {},
   "source": [
    "<strong>Tiger Global</strong> as successfully invested in the most Unicorns"
   ]
  },
  {
   "cell_type": "markdown",
   "metadata": {},
   "source": [
    "##### Type"
   ]
  },
  {
   "cell_type": "code",
   "execution_count": 36,
   "metadata": {},
   "outputs": [
    {
     "data": {
      "text/plain": [
       "3"
      ]
     },
     "execution_count": 36,
     "metadata": {},
     "output_type": "execute_result"
    }
   ],
   "source": [
    "df.Type.nunique()"
   ]
  },
  {
   "cell_type": "code",
   "execution_count": 37,
   "metadata": {},
   "outputs": [
    {
     "data": {
      "text/plain": [
       "U     87\n",
       "GU    10\n",
       "FU     5\n",
       "Name: Type, dtype: int64"
      ]
     },
     "execution_count": 37,
     "metadata": {},
     "output_type": "execute_result"
    }
   ],
   "source": [
    "df.Type.value_counts()"
   ]
  },
  {
   "cell_type": "markdown",
   "metadata": {},
   "source": [
    "We can see, that 5 of the startups lost their status, while 10 got publicly registerd or aquired by other companies. "
   ]
  },
  {
   "cell_type": "markdown",
   "metadata": {},
   "source": [
    "#### BIVARIATE ANALYSIS"
   ]
  },
  {
   "cell_type": "markdown",
   "metadata": {},
   "source": [
    "In this section, we will analyse the data using multiple features."
   ]
  },
  {
   "cell_type": "code",
   "execution_count": 109,
   "metadata": {},
   "outputs": [
    {
     "data": {
      "text/html": [
       "<div>\n",
       "<style scoped>\n",
       "    .dataframe tbody tr th:only-of-type {\n",
       "        vertical-align: middle;\n",
       "    }\n",
       "\n",
       "    .dataframe tbody tr th {\n",
       "        vertical-align: top;\n",
       "    }\n",
       "\n",
       "    .dataframe thead th {\n",
       "        text-align: right;\n",
       "    }\n",
       "</style>\n",
       "<table border=\"1\" class=\"dataframe\">\n",
       "  <thead>\n",
       "    <tr style=\"text-align: right;\">\n",
       "      <th></th>\n",
       "      <th>Company</th>\n",
       "      <th>Current_valuation($B)</th>\n",
       "    </tr>\n",
       "  </thead>\n",
       "  <tbody>\n",
       "    <tr>\n",
       "      <th>0</th>\n",
       "      <td>Flipkart^</td>\n",
       "      <td>37.600</td>\n",
       "    </tr>\n",
       "    <tr>\n",
       "      <th>1</th>\n",
       "      <td>BYJUS</td>\n",
       "      <td>22.000</td>\n",
       "    </tr>\n",
       "    <tr>\n",
       "      <th>2</th>\n",
       "      <td>PayTM^</td>\n",
       "      <td>16.000</td>\n",
       "    </tr>\n",
       "    <tr>\n",
       "      <th>3</th>\n",
       "      <td>PhonePe^</td>\n",
       "      <td>12.000</td>\n",
       "    </tr>\n",
       "    <tr>\n",
       "      <th>4</th>\n",
       "      <td>Swiggy</td>\n",
       "      <td>10.700</td>\n",
       "    </tr>\n",
       "    <tr>\n",
       "      <th>...</th>\n",
       "      <td>...</td>\n",
       "      <td>...</td>\n",
       "    </tr>\n",
       "    <tr>\n",
       "      <th>97</th>\n",
       "      <td>Hasura</td>\n",
       "      <td>1.000</td>\n",
       "    </tr>\n",
       "    <tr>\n",
       "      <th>98</th>\n",
       "      <td>Slice</td>\n",
       "      <td>1.000</td>\n",
       "    </tr>\n",
       "    <tr>\n",
       "      <th>99</th>\n",
       "      <td>Fractal</td>\n",
       "      <td>1.000</td>\n",
       "    </tr>\n",
       "    <tr>\n",
       "      <th>100</th>\n",
       "      <td>InMobi</td>\n",
       "      <td>1.000</td>\n",
       "    </tr>\n",
       "    <tr>\n",
       "      <th>101</th>\n",
       "      <td>Blinkit^</td>\n",
       "      <td>0.568</td>\n",
       "    </tr>\n",
       "  </tbody>\n",
       "</table>\n",
       "<p>102 rows × 2 columns</p>\n",
       "</div>"
      ],
      "text/plain": [
       "       Company  Current_valuation($B)\n",
       "0    Flipkart^                 37.600\n",
       "1        BYJUS                 22.000\n",
       "2       PayTM^                 16.000\n",
       "3     PhonePe^                 12.000\n",
       "4       Swiggy                 10.700\n",
       "..         ...                    ...\n",
       "97      Hasura                  1.000\n",
       "98       Slice                  1.000\n",
       "99     Fractal                  1.000\n",
       "100     InMobi                  1.000\n",
       "101   Blinkit^                  0.568\n",
       "\n",
       "[102 rows x 2 columns]"
      ]
     },
     "execution_count": 109,
     "metadata": {},
     "output_type": "execute_result"
    }
   ],
   "source": [
    "company_value = df[['Company','Current_valuation($B)']].sort_values(by='Current_valuation($B)',ascending=False).reset_index(drop=True)\n",
    "company_value"
   ]
  },
  {
   "cell_type": "markdown",
   "metadata": {},
   "source": [
    "<strong>Flipkart</strong> is the most valuable, followed by <strong>BYJUS</strong> and <strong>PayTM</strong>"
   ]
  },
  {
   "cell_type": "code",
   "execution_count": 114,
   "metadata": {},
   "outputs": [
    {
     "data": {
      "text/html": [
       "<div>\n",
       "<style scoped>\n",
       "    .dataframe tbody tr th:only-of-type {\n",
       "        vertical-align: middle;\n",
       "    }\n",
       "\n",
       "    .dataframe tbody tr th {\n",
       "        vertical-align: top;\n",
       "    }\n",
       "\n",
       "    .dataframe thead th {\n",
       "        text-align: right;\n",
       "    }\n",
       "</style>\n",
       "<table border=\"1\" class=\"dataframe\">\n",
       "  <thead>\n",
       "    <tr style=\"text-align: right;\">\n",
       "      <th></th>\n",
       "      <th>Sector</th>\n",
       "      <th>Current_valuation($B)</th>\n",
       "    </tr>\n",
       "  </thead>\n",
       "  <tbody>\n",
       "    <tr>\n",
       "      <th>0</th>\n",
       "      <td>Web3</td>\n",
       "      <td>10.000000</td>\n",
       "    </tr>\n",
       "    <tr>\n",
       "      <th>1</th>\n",
       "      <td>Mobility</td>\n",
       "      <td>6.150000</td>\n",
       "    </tr>\n",
       "    <tr>\n",
       "      <th>2</th>\n",
       "      <td>Foodtech</td>\n",
       "      <td>5.833333</td>\n",
       "    </tr>\n",
       "    <tr>\n",
       "      <th>3</th>\n",
       "      <td>Proptech</td>\n",
       "      <td>5.300000</td>\n",
       "    </tr>\n",
       "    <tr>\n",
       "      <th>4</th>\n",
       "      <td>E-Commerce</td>\n",
       "      <td>5.228308</td>\n",
       "    </tr>\n",
       "    <tr>\n",
       "      <th>5</th>\n",
       "      <td>Social Media</td>\n",
       "      <td>4.900000</td>\n",
       "    </tr>\n",
       "    <tr>\n",
       "      <th>6</th>\n",
       "      <td>Edtech</td>\n",
       "      <td>4.864286</td>\n",
       "    </tr>\n",
       "    <tr>\n",
       "      <th>7</th>\n",
       "      <td>Gaming</td>\n",
       "      <td>4.266667</td>\n",
       "    </tr>\n",
       "    <tr>\n",
       "      <th>8</th>\n",
       "      <td>Fintech</td>\n",
       "      <td>4.176471</td>\n",
       "    </tr>\n",
       "    <tr>\n",
       "      <th>9</th>\n",
       "      <td>Content</td>\n",
       "      <td>3.500000</td>\n",
       "    </tr>\n",
       "    <tr>\n",
       "      <th>10</th>\n",
       "      <td>NBFC</td>\n",
       "      <td>3.200000</td>\n",
       "    </tr>\n",
       "    <tr>\n",
       "      <th>11</th>\n",
       "      <td>B2B</td>\n",
       "      <td>2.733333</td>\n",
       "    </tr>\n",
       "    <tr>\n",
       "      <th>12</th>\n",
       "      <td>SaaS</td>\n",
       "      <td>2.406250</td>\n",
       "    </tr>\n",
       "    <tr>\n",
       "      <th>13</th>\n",
       "      <td>Cryptocurrency Exchange</td>\n",
       "      <td>2.025000</td>\n",
       "    </tr>\n",
       "    <tr>\n",
       "      <th>14</th>\n",
       "      <td>Marketplace</td>\n",
       "      <td>1.777778</td>\n",
       "    </tr>\n",
       "    <tr>\n",
       "      <th>15</th>\n",
       "      <td>Logistics Services</td>\n",
       "      <td>1.650000</td>\n",
       "    </tr>\n",
       "    <tr>\n",
       "      <th>16</th>\n",
       "      <td>Healthtech</td>\n",
       "      <td>1.476667</td>\n",
       "    </tr>\n",
       "    <tr>\n",
       "      <th>17</th>\n",
       "      <td>Social</td>\n",
       "      <td>1.400000</td>\n",
       "    </tr>\n",
       "    <tr>\n",
       "      <th>18</th>\n",
       "      <td>Conversational Messaging</td>\n",
       "      <td>1.400000</td>\n",
       "    </tr>\n",
       "    <tr>\n",
       "      <th>19</th>\n",
       "      <td>Interior</td>\n",
       "      <td>1.200000</td>\n",
       "    </tr>\n",
       "    <tr>\n",
       "      <th>20</th>\n",
       "      <td>D2C</td>\n",
       "      <td>1.190000</td>\n",
       "    </tr>\n",
       "    <tr>\n",
       "      <th>21</th>\n",
       "      <td>Aggregator</td>\n",
       "      <td>1.176667</td>\n",
       "    </tr>\n",
       "    <tr>\n",
       "      <th>22</th>\n",
       "      <td>Logistics</td>\n",
       "      <td>1.100000</td>\n",
       "    </tr>\n",
       "    <tr>\n",
       "      <th>23</th>\n",
       "      <td>IT</td>\n",
       "      <td>1.100000</td>\n",
       "    </tr>\n",
       "    <tr>\n",
       "      <th>24</th>\n",
       "      <td>Adtech</td>\n",
       "      <td>1.000000</td>\n",
       "    </tr>\n",
       "  </tbody>\n",
       "</table>\n",
       "</div>"
      ],
      "text/plain": [
       "                      Sector  Current_valuation($B)\n",
       "0                       Web3              10.000000\n",
       "1                   Mobility               6.150000\n",
       "2                   Foodtech               5.833333\n",
       "3                   Proptech               5.300000\n",
       "4                 E-Commerce               5.228308\n",
       "5               Social Media               4.900000\n",
       "6                     Edtech               4.864286\n",
       "7                     Gaming               4.266667\n",
       "8                    Fintech               4.176471\n",
       "9                    Content               3.500000\n",
       "10                      NBFC               3.200000\n",
       "11                       B2B               2.733333\n",
       "12                      SaaS               2.406250\n",
       "13   Cryptocurrency Exchange               2.025000\n",
       "14               Marketplace               1.777778\n",
       "15        Logistics Services               1.650000\n",
       "16                Healthtech               1.476667\n",
       "17                    Social               1.400000\n",
       "18  Conversational Messaging               1.400000\n",
       "19                  Interior               1.200000\n",
       "20                       D2C               1.190000\n",
       "21                Aggregator               1.176667\n",
       "22                 Logistics               1.100000\n",
       "23                        IT               1.100000\n",
       "24                    Adtech               1.000000"
      ]
     },
     "execution_count": 114,
     "metadata": {},
     "output_type": "execute_result"
    }
   ],
   "source": [
    "value_per_sector = df.groupby('Sector')['Current_valuation($B)'].mean().reset_index()\n",
    "value_per_sector.sort_values(by='Current_valuation($B)',ascending=False).reset_index(drop=True)"
   ]
  },
  {
   "cell_type": "markdown",
   "metadata": {},
   "source": [
    "On Average, <strong>Web3</strong> sector is the most valuable."
   ]
  },
  {
   "cell_type": "code",
   "execution_count": 39,
   "metadata": {},
   "outputs": [
    {
     "data": {
      "text/html": [
       "<div>\n",
       "<style scoped>\n",
       "    .dataframe tbody tr th:only-of-type {\n",
       "        vertical-align: middle;\n",
       "    }\n",
       "\n",
       "    .dataframe tbody tr th {\n",
       "        vertical-align: top;\n",
       "    }\n",
       "\n",
       "    .dataframe thead th {\n",
       "        text-align: right;\n",
       "    }\n",
       "</style>\n",
       "<table border=\"1\" class=\"dataframe\">\n",
       "  <thead>\n",
       "    <tr style=\"text-align: right;\">\n",
       "      <th></th>\n",
       "      <th>Location</th>\n",
       "      <th>Current_valuation($B)</th>\n",
       "    </tr>\n",
       "  </thead>\n",
       "  <tbody>\n",
       "    <tr>\n",
       "      <th>0</th>\n",
       "      <td>Noida</td>\n",
       "      <td>5.150000</td>\n",
       "    </tr>\n",
       "    <tr>\n",
       "      <th>1</th>\n",
       "      <td>Bangalore</td>\n",
       "      <td>4.517073</td>\n",
       "    </tr>\n",
       "    <tr>\n",
       "      <th>2</th>\n",
       "      <td>Gurgaon</td>\n",
       "      <td>2.709857</td>\n",
       "    </tr>\n",
       "    <tr>\n",
       "      <th>3</th>\n",
       "      <td>Mumbai</td>\n",
       "      <td>2.517647</td>\n",
       "    </tr>\n",
       "    <tr>\n",
       "      <th>4</th>\n",
       "      <td>Thane</td>\n",
       "      <td>2.500000</td>\n",
       "    </tr>\n",
       "    <tr>\n",
       "      <th>5</th>\n",
       "      <td>Chennai</td>\n",
       "      <td>2.440000</td>\n",
       "    </tr>\n",
       "    <tr>\n",
       "      <th>6</th>\n",
       "      <td>Delhi</td>\n",
       "      <td>2.218571</td>\n",
       "    </tr>\n",
       "    <tr>\n",
       "      <th>7</th>\n",
       "      <td>Pune</td>\n",
       "      <td>2.100000</td>\n",
       "    </tr>\n",
       "    <tr>\n",
       "      <th>8</th>\n",
       "      <td>Goa</td>\n",
       "      <td>1.530000</td>\n",
       "    </tr>\n",
       "    <tr>\n",
       "      <th>9</th>\n",
       "      <td>Jaipur</td>\n",
       "      <td>1.450000</td>\n",
       "    </tr>\n",
       "    <tr>\n",
       "      <th>10</th>\n",
       "      <td>Hyderabad</td>\n",
       "      <td>1.250000</td>\n",
       "    </tr>\n",
       "  </tbody>\n",
       "</table>\n",
       "</div>"
      ],
      "text/plain": [
       "     Location  Current_valuation($B)\n",
       "0       Noida               5.150000\n",
       "1   Bangalore               4.517073\n",
       "2     Gurgaon               2.709857\n",
       "3      Mumbai               2.517647\n",
       "4       Thane               2.500000\n",
       "5     Chennai               2.440000\n",
       "6       Delhi               2.218571\n",
       "7        Pune               2.100000\n",
       "8         Goa               1.530000\n",
       "9      Jaipur               1.450000\n",
       "10  Hyderabad               1.250000"
      ]
     },
     "execution_count": 39,
     "metadata": {},
     "output_type": "execute_result"
    }
   ],
   "source": [
    "value_per_location = df.groupby('Location')['Current_valuation($B)'].mean().reset_index().rename(columns={'index':'Sector','Sector':'Avg_Eval($B)'})\n",
    "value_per_location.sort_values(by='Current_valuation($B)',ascending=False).reset_index(drop=True)"
   ]
  },
  {
   "cell_type": "markdown",
   "metadata": {},
   "source": [
    "In terms of average valuation, <strong>Noida</strong> takes place over <strong>Bangalore</strong>"
   ]
  },
  {
   "cell_type": "code",
   "execution_count": 40,
   "metadata": {},
   "outputs": [
    {
     "data": {
      "text/html": [
       "<div>\n",
       "<style scoped>\n",
       "    .dataframe tbody tr th:only-of-type {\n",
       "        vertical-align: middle;\n",
       "    }\n",
       "\n",
       "    .dataframe tbody tr th {\n",
       "        vertical-align: top;\n",
       "    }\n",
       "\n",
       "    .dataframe thead th {\n",
       "        text-align: right;\n",
       "    }\n",
       "</style>\n",
       "<table border=\"1\" class=\"dataframe\">\n",
       "  <thead>\n",
       "    <tr style=\"text-align: right;\">\n",
       "      <th></th>\n",
       "      <th>Company</th>\n",
       "      <th>eval_rise_per_year</th>\n",
       "    </tr>\n",
       "  </thead>\n",
       "  <tbody>\n",
       "    <tr>\n",
       "      <th>0</th>\n",
       "      <td>BYJUS</td>\n",
       "      <td>3.87</td>\n",
       "    </tr>\n",
       "    <tr>\n",
       "      <th>1</th>\n",
       "      <td>Flipkart^</td>\n",
       "      <td>3.23</td>\n",
       "    </tr>\n",
       "    <tr>\n",
       "      <th>2</th>\n",
       "      <td>PhonePe^</td>\n",
       "      <td>2.60</td>\n",
       "    </tr>\n",
       "    <tr>\n",
       "      <th>3</th>\n",
       "      <td>RazorPay</td>\n",
       "      <td>2.43</td>\n",
       "    </tr>\n",
       "    <tr>\n",
       "      <th>4</th>\n",
       "      <td>CRED</td>\n",
       "      <td>1.94</td>\n",
       "    </tr>\n",
       "    <tr>\n",
       "      <th>5</th>\n",
       "      <td>PharmEasy</td>\n",
       "      <td>1.89</td>\n",
       "    </tr>\n",
       "    <tr>\n",
       "      <th>6</th>\n",
       "      <td>Swiggy</td>\n",
       "      <td>1.86</td>\n",
       "    </tr>\n",
       "    <tr>\n",
       "      <th>7</th>\n",
       "      <td>OfBusiness</td>\n",
       "      <td>1.82</td>\n",
       "    </tr>\n",
       "    <tr>\n",
       "      <th>8</th>\n",
       "      <td>PayTM^</td>\n",
       "      <td>1.72</td>\n",
       "    </tr>\n",
       "    <tr>\n",
       "      <th>9</th>\n",
       "      <td>Dream11</td>\n",
       "      <td>1.68</td>\n",
       "    </tr>\n",
       "  </tbody>\n",
       "</table>\n",
       "</div>"
      ],
      "text/plain": [
       "      Company  eval_rise_per_year\n",
       "0       BYJUS                3.87\n",
       "1   Flipkart^                3.23\n",
       "2    PhonePe^                2.60\n",
       "3    RazorPay                2.43\n",
       "4        CRED                1.94\n",
       "5   PharmEasy                1.89\n",
       "6      Swiggy                1.86\n",
       "7  OfBusiness                1.82\n",
       "8      PayTM^                1.72\n",
       "9     Dream11                1.68"
      ]
     },
     "execution_count": 40,
     "metadata": {},
     "output_type": "execute_result"
    }
   ],
   "source": [
    "eval_rise_data = df[['Company','eval_rise_per_year']].sort_values(by = 'eval_rise_per_year',ascending=False).reset_index(drop=True)\n",
    "eval_rise_data[:10]"
   ]
  },
  {
   "cell_type": "markdown",
   "metadata": {},
   "source": [
    "We can see <strong>BYJUS</strong> saw most value rise over its time than any other startup."
   ]
  },
  {
   "cell_type": "code",
   "execution_count": 41,
   "metadata": {},
   "outputs": [
    {
     "data": {
      "text/html": [
       "<div>\n",
       "<style scoped>\n",
       "    .dataframe tbody tr th:only-of-type {\n",
       "        vertical-align: middle;\n",
       "    }\n",
       "\n",
       "    .dataframe tbody tr th {\n",
       "        vertical-align: top;\n",
       "    }\n",
       "\n",
       "    .dataframe thead th {\n",
       "        text-align: right;\n",
       "    }\n",
       "</style>\n",
       "<table border=\"1\" class=\"dataframe\">\n",
       "  <thead>\n",
       "    <tr style=\"text-align: right;\">\n",
       "      <th></th>\n",
       "      <th>Sector</th>\n",
       "      <th>eval_rise_per_year</th>\n",
       "    </tr>\n",
       "  </thead>\n",
       "  <tbody>\n",
       "    <tr>\n",
       "      <th>23</th>\n",
       "      <td>Social Media</td>\n",
       "      <td>1.290000</td>\n",
       "    </tr>\n",
       "    <tr>\n",
       "      <th>3</th>\n",
       "      <td>Content</td>\n",
       "      <td>1.000000</td>\n",
       "    </tr>\n",
       "    <tr>\n",
       "      <th>19</th>\n",
       "      <td>NBFC</td>\n",
       "      <td>0.910000</td>\n",
       "    </tr>\n",
       "    <tr>\n",
       "      <th>18</th>\n",
       "      <td>Mobility</td>\n",
       "      <td>0.840000</td>\n",
       "    </tr>\n",
       "    <tr>\n",
       "      <th>10</th>\n",
       "      <td>Foodtech</td>\n",
       "      <td>0.810000</td>\n",
       "    </tr>\n",
       "    <tr>\n",
       "      <th>8</th>\n",
       "      <td>Edtech</td>\n",
       "      <td>0.738571</td>\n",
       "    </tr>\n",
       "    <tr>\n",
       "      <th>9</th>\n",
       "      <td>Fintech</td>\n",
       "      <td>0.694118</td>\n",
       "    </tr>\n",
       "    <tr>\n",
       "      <th>2</th>\n",
       "      <td>B2B</td>\n",
       "      <td>0.616667</td>\n",
       "    </tr>\n",
       "    <tr>\n",
       "      <th>7</th>\n",
       "      <td>E-Commerce</td>\n",
       "      <td>0.600769</td>\n",
       "    </tr>\n",
       "    <tr>\n",
       "      <th>11</th>\n",
       "      <td>Gaming</td>\n",
       "      <td>0.560000</td>\n",
       "    </tr>\n",
       "  </tbody>\n",
       "</table>\n",
       "</div>"
      ],
      "text/plain": [
       "          Sector  eval_rise_per_year\n",
       "23  Social Media            1.290000\n",
       "3        Content            1.000000\n",
       "19          NBFC            0.910000\n",
       "18      Mobility            0.840000\n",
       "10      Foodtech            0.810000\n",
       "8         Edtech            0.738571\n",
       "9        Fintech            0.694118\n",
       "2            B2B            0.616667\n",
       "7     E-Commerce            0.600769\n",
       "11        Gaming            0.560000"
      ]
     },
     "execution_count": 41,
     "metadata": {},
     "output_type": "execute_result"
    }
   ],
   "source": [
    "eval_rise_by_sector_data = df.groupby('Sector')['eval_rise_per_year'].mean().reset_index()\n",
    "eval_rise_by_sector_data.sort_values(by='eval_rise_per_year',ascending=False)[:10]"
   ]
  },
  {
   "cell_type": "code",
   "execution_count": 129,
   "metadata": {},
   "outputs": [],
   "source": [
    "Type_valuation1 = df.groupby('Type')['Current_valuation($B)'].mean().reset_index()\n",
    "Type_valuation2 = df['Type'].value_counts().reset_index().rename(columns={'index':'Type','Type':'Unicorns'})\n",
    "Type_valuation = pd.merge(left =Type_valuation1,right=Type_valuation2,how='inner',on='Type')"
   ]
  },
  {
   "cell_type": "code",
   "execution_count": 130,
   "metadata": {},
   "outputs": [
    {
     "data": {
      "text/html": [
       "<div>\n",
       "<style scoped>\n",
       "    .dataframe tbody tr th:only-of-type {\n",
       "        vertical-align: middle;\n",
       "    }\n",
       "\n",
       "    .dataframe tbody tr th {\n",
       "        vertical-align: top;\n",
       "    }\n",
       "\n",
       "    .dataframe thead th {\n",
       "        text-align: right;\n",
       "    }\n",
       "</style>\n",
       "<table border=\"1\" class=\"dataframe\">\n",
       "  <thead>\n",
       "    <tr style=\"text-align: right;\">\n",
       "      <th></th>\n",
       "      <th>Type</th>\n",
       "      <th>Current_valuation($B)</th>\n",
       "      <th>Unicorns</th>\n",
       "    </tr>\n",
       "  </thead>\n",
       "  <tbody>\n",
       "    <tr>\n",
       "      <th>0</th>\n",
       "      <td>FU</td>\n",
       "      <td>1.880000</td>\n",
       "      <td>5</td>\n",
       "    </tr>\n",
       "    <tr>\n",
       "      <th>1</th>\n",
       "      <td>GU</td>\n",
       "      <td>8.366800</td>\n",
       "      <td>10</td>\n",
       "    </tr>\n",
       "    <tr>\n",
       "      <th>2</th>\n",
       "      <td>U</td>\n",
       "      <td>2.914138</td>\n",
       "      <td>87</td>\n",
       "    </tr>\n",
       "  </tbody>\n",
       "</table>\n",
       "</div>"
      ],
      "text/plain": [
       "  Type  Current_valuation($B)  Unicorns\n",
       "0   FU               1.880000         5\n",
       "1   GU               8.366800        10\n",
       "2    U               2.914138        87"
      ]
     },
     "execution_count": 130,
     "metadata": {},
     "output_type": "execute_result"
    }
   ],
   "source": [
    "Type_valuation"
   ]
  },
  {
   "cell_type": "markdown",
   "metadata": {},
   "source": [
    "We can see the average Current valuation of <strong>GUs</strong> is highest."
   ]
  },
  {
   "cell_type": "markdown",
   "metadata": {},
   "source": [
    "##### Visualization"
   ]
  },
  {
   "cell_type": "markdown",
   "metadata": {},
   "source": [
    "we will visualize, above information using seaborn and matplotlib."
   ]
  },
  {
   "cell_type": "code",
   "execution_count": 44,
   "metadata": {},
   "outputs": [],
   "source": [
    "plt.style.use('dark_background')"
   ]
  },
  {
   "cell_type": "code",
   "execution_count": 64,
   "metadata": {},
   "outputs": [
    {
     "data": {
      "image/png": "[encoded data removed]",
      "text/plain": [
       "<Figure size 576x432 with 1 Axes>"
      ]
     },
     "metadata": {},
     "output_type": "display_data"
    }
   ],
   "source": [
    "plt.figure(figsize=(8,6))\n",
    "sns.barplot(x='Sector',y='unicorns',data=sector_data.head(5))\n",
    "plt.title('Top 5 Sectors by No. of Unicorns',y=1.03,fontsize=14,fontweight='bold')\n",
    "plt.grid(False)\n",
    "plt.xlabel(xlabel ='Sector',labelpad = 10,fontsize=12,fontweight='bold')\n",
    "plt.ylabel(ylabel = 'Unicorns',labelpad=10,fontsize=12,fontweight='bold')\n",
    "plt.show()"
   ]
  },
  {
   "cell_type": "code",
   "execution_count": 69,
   "metadata": {},
   "outputs": [
    {
     "data": {
      "image/png": "[encoded data removed]",
      "text/plain": [
       "<Figure size 576x432 with 1 Axes>"
      ]
     },
     "metadata": {},
     "output_type": "display_data"
    }
   ],
   "source": [
    "plt.figure(figsize=(8,6))\n",
    "sns.barplot(x='Sector',y='unicorns',data=sector_data.tail(5))\n",
    "plt.title('Bottom 5 Sectors by No. of Unicorns',y=1.03,fontsize=14,fontweight='bold')\n",
    "plt.grid(False)\n",
    "plt.xlabel(xlabel ='Sector',labelpad = 10,fontsize=12,fontweight='bold')\n",
    "plt.ylabel(ylabel = 'Unicorns',labelpad=10,fontsize=12,fontweight='bold')\n",
    "plt.xticks(rotation=55)\n",
    "plt.show()"
   ]
  },
  {
   "cell_type": "code",
   "execution_count": 84,
   "metadata": {},
   "outputs": [
    {
     "data": {
      "text/plain": [
       "Text(0, 0.5, 'Current_valuation($B)')"
      ]
     },
     "execution_count": 84,
     "metadata": {},
     "output_type": "execute_result"
    },
    {
     "data": {
      "image/png": "[encoded data removed]",
      "text/plain": [
       "<Figure size 864x360 with 2 Axes>"
      ]
     },
     "metadata": {},
     "output_type": "display_data"
    }
   ],
   "source": [
    "fig,ax=plt.subplots(nrows=1,ncols=2,figsize=(12,5))\n",
    "plt.subplots_adjust(wspace=0.3)\n",
    "\n",
    "ax[0].plot(df['Entry_valuation($B)'])\n",
    "ax[0].set_title('Entry_valuation($B)',y=1.03,fontsize=14,fontweight='bold')\n",
    "ax[0].set_xlabel('Unicorn',labelpad=10,fontweight='bold')\n",
    "ax[0].set_ylabel('Entry_valuation($B)',labelpad=10,fontweight='bold')\n",
    "\n",
    "ax[1].plot(df['Current_valuation($B)'])\n",
    "ax[1].set_title('Current_valuation($B)',y=1.03,fontsize=14,fontweight='bold')\n",
    "ax[1].set_xlabel('Unicorn',labelpad=10,fontweight='bold')\n",
    "ax[1].set_ylabel('Current_valuation($B)',labelpad=10,fontweight='bold')"
   ]
  },
  {
   "cell_type": "code",
   "execution_count": 106,
   "metadata": {},
   "outputs": [
    {
     "data": {
      "image/png": "[encoded data removed]",
      "text/plain": [
       "<Figure size 576x432 with 1 Axes>"
      ]
     },
     "metadata": {},
     "output_type": "display_data"
    }
   ],
   "source": [
    "plt.figure(figsize=(8,6))\n",
    "sns.lineplot(x =pd.to_datetime(df['Entry']).dt.year.value_counts().index,y = pd.to_datetime(df['Entry']).dt.year.value_counts(),marker='o')\n",
    "plt.title('No. of Unicorn Entries Each Year',y=1.03,fontsize=14,fontweight='bold')\n",
    "plt.xlabel('Entry Year',labelpad=10,fontweight='bold')\n",
    "plt.ylabel('No. of Entries',labelpad=10,fontweight='bold')\n",
    "plt.show()"
   ]
  },
  {
   "cell_type": "code",
   "execution_count": 101,
   "metadata": {},
   "outputs": [
    {
     "data": {
      "image/png": "[encoded data removed]",
      "text/plain": [
       "<Figure size 576x432 with 1 Axes>"
      ]
     },
     "metadata": {},
     "output_type": "display_data"
    }
   ],
   "source": [
    "plt.figure(figsize=(8,6))\n",
    "sns.barplot(x=df.Location.value_counts(),y=df.Location.value_counts().index)\n",
    "plt.title('No. of Unicorns Per City',y=1.03,fontsize=14,fontweight='bold')\n",
    "plt.xlabel('No. of Unicorns',labelpad=10,fontweight='bold')\n",
    "plt.ylabel('City',labelpad=10,fontweight='bold')\n",
    "plt.show()"
   ]
  },
  {
   "cell_type": "code",
   "execution_count": 110,
   "metadata": {},
   "outputs": [
    {
     "data": {
      "image/png": "[encoded data removed]",
      "text/plain": [
       "<Figure size 864x432 with 1 Axes>"
      ]
     },
     "metadata": {},
     "output_type": "display_data"
    }
   ],
   "source": [
    "plt.figure(figsize=(12,6))\n",
    "sns.barplot(x='Company',y='Current_valuation($B)',data=company_value[:10])\n",
    "plt.title('Top 10 Most Valuable Startups',y=1.03,fontsize=14,fontweight='bold')\n",
    "plt.xlabel('Company',labelpad=10,fontweight='bold')\n",
    "plt.ylabel('Current Valuation($B)',labelpad=10,fontweight='bold')\n",
    "plt.show()"
   ]
  },
  {
   "cell_type": "code",
   "execution_count": 118,
   "metadata": {},
   "outputs": [
    {
     "data": {
      "image/png": "[encoded data removed]",
      "text/plain": [
       "<Figure size 504x360 with 1 Axes>"
      ]
     },
     "metadata": {},
     "output_type": "display_data"
    }
   ],
   "source": [
    "plt.figure(figsize=(7,5))\n",
    "sns.barplot(x='Sector',y='Current_valuation($B)',data=value_per_sector[:5])\n",
    "plt.title('Top 5 most valuable sectors',y=1.03,fontsize=14,fontweight='bold')\n",
    "plt.xlabel('Sector',labelpad=10,fontweight='bold')\n",
    "plt.ylabel('Current Valuation($B)',labelpad=10,fontweight='bold')\n",
    "plt.xticks(rotation=45)\n",
    "plt.show()"
   ]
  },
  {
   "cell_type": "code",
   "execution_count": 119,
   "metadata": {},
   "outputs": [
    {
     "data": {
      "image/png": "[encoded data removed]",
      "text/plain": [
       "<Figure size 576x864 with 1 Axes>"
      ]
     },
     "metadata": {},
     "output_type": "display_data"
    }
   ],
   "source": [
    "plt.figure(figsize=(8,12))\n",
    "sns.barplot(x='Current_valuation($B)',y='Location',data=value_per_location)\n",
    "plt.title('Average Location Value',y=1.03,fontsize=14,fontweight='bold')\n",
    "plt.xlabel('Avg. Valuation($B)',labelpad=10,fontweight='bold')\n",
    "plt.ylabel('Location',labelpad=10,fontweight='bold')\n",
    "plt.show()"
   ]
  },
  {
   "cell_type": "code",
   "execution_count": 122,
   "metadata": {},
   "outputs": [
    {
     "data": {
      "image/png": "[encoded data removed]",
      "text/plain": [
       "<Figure size 864x432 with 1 Axes>"
      ]
     },
     "metadata": {},
     "output_type": "display_data"
    }
   ],
   "source": [
    "plt.figure(figsize=(12,6))\n",
    "sns.barplot(x='Company',y='eval_rise_per_year',data=eval_rise_data[:10])\n",
    "plt.title('Top 10 Avg. Value Rise Per Year',y=1.03,fontsize=14,fontweight='bold')\n",
    "plt.xlabel('Company',labelpad=10,fontweight='bold')\n",
    "plt.ylabel('Avg. Value Rise Per Year($B)',labelpad=10,fontweight='bold')\n",
    "plt.show()"
   ]
  },
  {
   "cell_type": "code",
   "execution_count": 142,
   "metadata": {},
   "outputs": [
    {
     "data": {
      "image/png": "[encoded data removed]",
      "text/plain": [
       "<Figure size 720x360 with 2 Axes>"
      ]
     },
     "metadata": {},
     "output_type": "display_data"
    }
   ],
   "source": [
    "fig,ax1 = plt.subplots(figsize=(10,5))\n",
    "ax1.set_xlabel('Unicorn Type',fontweight='bold',labelpad=10)\n",
    "ax1.set_ylabel('Count Of Unicorns',fontweight='bold',labelpad=10)\n",
    "ax1.plot(Type_valuation['Type'],Type_valuation['Unicorns'],c ='red',marker='o')\n",
    "ax1.tick_params(axis='y',colors='red')\n",
    "\n",
    "ax2 = ax1.twinx()\n",
    "ax2.set_ylabel('Avg. Valuation($B)',fontweight='bold',labelpad=10)\n",
    "ax2.plot(Type_valuation['Type'],Type_valuation['Current_valuation($B)'],c='Green',marker='*')\n",
    "ax2.tick_params(axis='y',colors='green')\n",
    "\n",
    "fig.tight_layout()\n",
    "plt.title('No. of Unicorns V/s Avg. Valuation by Type',fontsize=14,fontweight='bold',y=1.03)\n",
    "plt.show()"
   ]
  }
 ],
 "metadata": {
  "kernelspec": {
   "display_name": "Python 3",
   "language": "python",
   "name": "python3"
  },
  "language_info": {
   "codemirror_mode": {
    "name": "ipython",
    "version": 3
   },
   "file_extension": ".py",
   "mimetype": "text/x-python",
   "name": "python",
   "nbconvert_exporter": "python",
   "pygments_lexer": "ipython3",
   "version": "3.8.6"
  },
  "orig_nbformat": 4
 },
 "nbformat": 4,
 "nbformat_minor": 2
}
